{
 "cells": [
  {
   "cell_type": "markdown",
   "id": "960cea4e",
   "metadata": {},
   "source": [
    "# Ejercicios repaso tipos y operadores\n",
    "\n",
    "\n",
    "## Ejercicio 1\n",
    "\n",
    "Calcular el área y el volumen de un cilindro de 2 m de radio y 3 m de altura. Se puede utilizar $\\pi$ como una variable más escribiendo *math.pi*."
   ]
  },
  {
   "cell_type": "code",
   "execution_count": 43,
   "id": "b9f8a2d5",
   "metadata": {},
   "outputs": [
    {
     "name": "stdout",
     "output_type": "stream",
     "text": [
      "Area: 62.83\n",
      "Volumen: 37.7\n"
     ]
    }
   ],
   "source": [
    "import math\n",
    "\n",
    "radio = 2\n",
    "altura = 3\n",
    "\n",
    "area = 2 * math.pi * radio * (radio + altura)\n",
    "volumen = math.pi * radio**2 *altura\n",
    "\n",
    "print(\"Area:\",round(area,2))\n",
    "print(\"Volumen:\",round(volumen,2))"
   ]
  },
  {
   "cell_type": "markdown",
   "id": "7cfc5918",
   "metadata": {},
   "source": [
    "## Ejercicio 2\n",
    "\n",
    "Resolver la ecuación\n",
    "\n",
    "$$7x^2+21x-28 = 0$$\n",
    "y mostrar por pantalla el resultado."
   ]
  },
  {
   "cell_type": "code",
   "execution_count": 130,
   "id": "6879d383",
   "metadata": {},
   "outputs": [
    {
     "name": "stdout",
     "output_type": "stream",
     "text": [
      "La solucion positiva es: 1.0\n",
      "La solucion negativa es: -4.0\n"
     ]
    }
   ],
   "source": [
    "from math import sqrt\n",
    "A = 7\n",
    "B = 21\n",
    "C = -28\n",
    "calcAntesRaiz = (B ** 2) -4 * (A * C)\n",
    "\n",
    "if calcAntesRaiz > 0:\n",
    "    print(\"La solucion positiva es:\",(-B + sqrt(calcAntesRaiz)) / (2 * A))\n",
    "    print(\"La solucion negativa es:\",(-B - sqrt(calcAntesRaiz)) / (2 * A))\n",
    "else:\n",
    "    print(\"La ecuacion no tiene solucion\")\n"
   ]
  },
  {
   "cell_type": "markdown",
   "id": "532ccd61",
   "metadata": {},
   "source": [
    "## Ejercicio 3\n",
    "\n",
    "Mostrar por pantalla los números del 0 al 10 junto con una anotación que diga si el número es par o impar."
   ]
  },
  {
   "cell_type": "code",
   "execution_count": 7,
   "id": "beee1118",
   "metadata": {},
   "outputs": [
    {
     "name": "stdout",
     "output_type": "stream",
     "text": [
      "0 es par\n",
      "1 es impar\n",
      "2 es par\n",
      "3 es impar\n",
      "4 es par\n",
      "5 es impar\n",
      "6 es par\n",
      "7 es impar\n",
      "8 es par\n",
      "9 es impar\n",
      "10 es par\n"
     ]
    }
   ],
   "source": [
    "for i in range(11):\n",
    "    if i % 2 == 0:\n",
    "        print(i,\"es par\")\n",
    "    else:\n",
    "        print(i,\"es impar\")"
   ]
  },
  {
   "cell_type": "markdown",
   "id": "a48078db",
   "metadata": {},
   "source": [
    "## Ejercicio 4\n",
    "\n",
    "Mostrar por pantalla las tablas de multiplicar del 7, el 8 y el 9. El formato debe ser \"7x1 = 7\""
   ]
  },
  {
   "cell_type": "code",
   "execution_count": 9,
   "id": "ddf72c4f",
   "metadata": {},
   "outputs": [
    {
     "name": "stdout",
     "output_type": "stream",
     "text": [
      "7x0 = 0\n",
      "7x1 = 7\n",
      "7x2 = 14\n",
      "7x3 = 21\n",
      "7x4 = 28\n",
      "7x5 = 35\n",
      "7x6 = 42\n",
      "7x7 = 49\n",
      "7x8 = 56\n",
      "7x9 = 63\n",
      "7x10 = 70\n",
      "\n",
      "8x0 = 0\n",
      "8x1 = 8\n",
      "8x2 = 16\n",
      "8x3 = 24\n",
      "8x4 = 32\n",
      "8x5 = 40\n",
      "8x6 = 48\n",
      "8x7 = 56\n",
      "8x8 = 64\n",
      "8x9 = 72\n",
      "8x10 = 80\n",
      "\n",
      "9x0 = 0\n",
      "9x1 = 9\n",
      "9x2 = 18\n",
      "9x3 = 27\n",
      "9x4 = 36\n",
      "9x5 = 45\n",
      "9x6 = 54\n",
      "9x7 = 63\n",
      "9x8 = 72\n",
      "9x9 = 81\n",
      "9x10 = 90\n",
      "\n"
     ]
    }
   ],
   "source": [
    "for i in range(7,10):\n",
    "    for x in range(11):\n",
    "        print(str(i)+\"x\"+str(x),\"=\",i*x)\n",
    "    print()"
   ]
  },
  {
   "cell_type": "markdown",
   "id": "9141d66a",
   "metadata": {},
   "source": [
    "## Ejercicio 5\n",
    "\n",
    "Extraer el segundo y tercer elemento de lista y calcular su producto."
   ]
  },
  {
   "cell_type": "code",
   "execution_count": 45,
   "id": "21142bd0",
   "metadata": {},
   "outputs": [
    {
     "name": "stdout",
     "output_type": "stream",
     "text": [
      "774\n"
     ]
    }
   ],
   "source": [
    "lista = [22,43,18,27,19,92]\n",
    "print(lista[1] * lista[2])"
   ]
  },
  {
   "cell_type": "markdown",
   "id": "6e3b2e74",
   "metadata": {},
   "source": [
    "## Ejercicio 6\n",
    "\n",
    "Mostrar todos los elementos de la lista"
   ]
  },
  {
   "cell_type": "code",
   "execution_count": 46,
   "id": "c00e3025",
   "metadata": {},
   "outputs": [
    {
     "name": "stdout",
     "output_type": "stream",
     "text": [
      "22\n",
      "43\n",
      "18\n",
      "27\n",
      "19\n",
      "92\n"
     ]
    }
   ],
   "source": [
    "for i in lista:\n",
    "    print(i)"
   ]
  },
  {
   "cell_type": "markdown",
   "id": "0501a56d",
   "metadata": {},
   "source": [
    "## Ejercicio 7\n",
    "\n",
    "Calcular la suma de los N primeros números pares"
   ]
  },
  {
   "cell_type": "code",
   "execution_count": 47,
   "id": "34edeb75",
   "metadata": {},
   "outputs": [
    {
     "name": "stdout",
     "output_type": "stream",
     "text": [
      "El total es: 40\n"
     ]
    }
   ],
   "source": [
    "n = 3\n",
    "sumaPares = 0\n",
    "\n",
    "if n <= len(lista):\n",
    "    for i in range(n):\n",
    "        if(lista[i] % 2 == 0):\n",
    "            sumaPares += lista[i]\n",
    "\n",
    "    print(\"El total es:\",sumaPares)\n",
    "else:\n",
    "    print(\"La lista es mas pequeña que el rango...\")\n"
   ]
  },
  {
   "cell_type": "markdown",
   "id": "31e5e27f",
   "metadata": {},
   "source": [
    "## Ejercicio 8\n",
    "\n",
    "Calcular el máximo, el mínimo y la media de una lista de enteros."
   ]
  },
  {
   "cell_type": "code",
   "execution_count": 48,
   "id": "f863f8cc",
   "metadata": {},
   "outputs": [
    {
     "name": "stdout",
     "output_type": "stream",
     "text": [
      "El maximo es 92\n",
      "El minimo es 18\n",
      "La media es 36.833333333333336\n"
     ]
    }
   ],
   "source": [
    "def min(l):\n",
    "    if type(l) is list:\n",
    "        min = l[0]\n",
    "\n",
    "        for i in l:\n",
    "            if min > i:\n",
    "                min = i\n",
    "\n",
    "        return min\n",
    "    else:\n",
    "        return \"El parametro tiene que ser una lista\"\n",
    "\n",
    "def max(l):\n",
    "    if type(l) is list:\n",
    "        max = l[0]\n",
    "\n",
    "        for i in l:\n",
    "            if max < i:\n",
    "                max = i\n",
    "\n",
    "        return max\n",
    "    else:\n",
    "        return \"El parametro tiene que ser una lista\"\n",
    "\n",
    "def med(l):\n",
    "    if type(l) is list:\n",
    "        med = 0\n",
    "\n",
    "        for i in l:\n",
    "            med += i\n",
    "\n",
    "        return med/len(l)\n",
    "    else:\n",
    "        return \"El parametro tiene que ser una lista\"\n",
    "\n",
    "print(\"El maximo es\", max(lista))\n",
    "print(\"El minimo es\", min(lista))\n",
    "print(\"La media es\", med(lista))"
   ]
  },
  {
   "cell_type": "markdown",
   "id": "652e251c",
   "metadata": {},
   "source": [
    "## Ejercicio 9\n",
    "\n",
    "Dado un número entero $n$, comprobar si el número es primo."
   ]
  },
  {
   "cell_type": "code",
   "execution_count": 49,
   "id": "009197c7",
   "metadata": {},
   "outputs": [
    {
     "name": "stdout",
     "output_type": "stream",
     "text": [
      "El numero es primo\n"
     ]
    }
   ],
   "source": [
    "def primo(n):\n",
    "    for i in range(2,n):\n",
    "        if n % i == 0:\n",
    "            return \"El numero no es primo\"\n",
    "    return \"El numero es primo\"\n",
    "\n",
    "\n",
    "n = 1993\n",
    "print(primo(n))\n"
   ]
  },
  {
   "cell_type": "markdown",
   "id": "465042b6",
   "metadata": {},
   "source": [
    "## Ejercicio 10\n",
    "\n",
    "Queremos crear una máquina que de el cambio de lo que han pagado a nuestros clientes. Supondremos que nuestros depósitos de billetes de cualquier tipo son ilimitados y que el máximo billete es de 50€. A partir del dinero entregado y el precio de la compra, sacaremos por pantalla el cambio óptimo."
   ]
  },
  {
   "cell_type": "code",
   "execution_count": 50,
   "id": "cf5283e5",
   "metadata": {},
   "outputs": [
    {
     "name": "stdout",
     "output_type": "stream",
     "text": [
      "[50, 10]\n"
     ]
    }
   ],
   "source": [
    "def cambio(pago, precio):\n",
    "    if pago < precio:\n",
    "        return \"Inserte mas dinero por favor.\"\n",
    "    if pago - precio == 0:\n",
    "        return \"Gracias por su compra\"\n",
    "\n",
    "    billetes = [50,20,10,5]\n",
    "    vuelta = pago - precio\n",
    "    cmb = list()\n",
    "\n",
    "    while vuelta > 5:\n",
    "        for i in billetes:\n",
    "            if vuelta-i >= 0:\n",
    "                cmb.append(i)\n",
    "                vuelta -= i\n",
    "                break\n",
    "    return cmb\n",
    "\n",
    "\n",
    "pago = 100\n",
    "precio = 40\n",
    "\n",
    "print(cambio(pago,precio))"
   ]
  },
  {
   "cell_type": "markdown",
   "id": "aa5d97a4",
   "metadata": {},
   "source": [
    "## Ejercicio 11\n",
    "\n",
    "Crear un módulo de validación de nombres de usuario. Las condciones de un nombre de usuario son las siguientes:\n",
    "\n",
    "+ Longitud mayor que 6 caracteres.\n",
    "+ Longitud menor que 13 caracteres\n",
    "+ El nombre de usuario debe ser alfanumérico.\n",
    "\n",
    "En caso de que el nombre de usuario sea válido se mostrará por pantalla \"Usuario válido\". En caso de encontrarnos con algún error. "
   ]
  },
  {
   "cell_type": "code",
   "execution_count": 79,
   "id": "0c25f72c",
   "metadata": {},
   "outputs": [
    {
     "name": "stdout",
     "output_type": "stream",
     "text": [
      "Usuario valido\n"
     ]
    }
   ],
   "source": [
    "import re\n",
    "\n",
    "def validacion(userName):\n",
    "    if len(userName) < 6:\n",
    "        return \"La longitud del nombre tiene que ser mayor a 6 caracteres\"\n",
    "    if len(userName) > 13:\n",
    "        return \"La longitud del nombre tiene que ser menor a 13 caracteres\"\n",
    "\n",
    "    patron = re.compile(\"\\w+\")\n",
    "    for i in userName:\n",
    "        if not patron.match(i):\n",
    "            return \"El nombre de usuario debe ser alfanumérico.\"\n",
    "\n",
    "    return \"Usuario valido\"\n",
    "\n",
    "userName = \"aaaaaaaaaaa\"\n",
    "print(validacion(userName))"
   ]
  },
  {
   "cell_type": "markdown",
   "id": "bb4f9216",
   "metadata": {},
   "source": [
    "## Ejercicio 12\n",
    "\n",
    "Crear un módulo de validación de contraseñas. La contraseña debe cumplir los siguientes requisitos:\n",
    "\n",
    "+ La contraseña debe tener un mínimo de 8 caracteres.\n",
    "+ La contraseña debe contener mayúsculas, minúsculas, números y al menos un caracter no alfanumérico.\n",
    "+ La contraseña no debe tener espacios en blanco.\n",
    "\n",
    "Si la contraseña es válida se mostrará un mensaje por pantalla y en caso de no serlo se mostrarán los requisitos incumplidos.\n",
    "\n",
    "\n"
   ]
  },
  {
   "cell_type": "code",
   "execution_count": 96,
   "id": "0b101eff",
   "metadata": {},
   "outputs": [
    {
     "name": "stdout",
     "output_type": "stream",
     "text": [
      "Contraseña valida\n"
     ]
    }
   ],
   "source": [
    "import re\n",
    "\n",
    "def validacion(clave):\n",
    "    if len(clave) < 8:\n",
    "        return \"La contraseña debe tener un minimo de 8 caracteres\"\n",
    "\n",
    "    if len(clave.split(\" \")) - 1 > 0:\n",
    "        return \"La contraseña no debe tener espacios en blanco\"\n",
    "\n",
    "    patron = re.compile(\"[a-z]+[A-Z]+[0-9]+[^a-zA-Z0-9]+\")\n",
    "    if not patron.match(clave):\n",
    "        return \"La contraseña debe contener mayúsculas, minúsculas, números y al menos un caracter no alfanumérico.\"\n",
    "\n",
    "    return \"Contraseña valida\"\n",
    "\n",
    "clave = \"adasdfadfadsfasdfA9@\"\n",
    "print(validacion(clave))"
   ]
  },
  {
   "cell_type": "markdown",
   "id": "2c01ce00",
   "metadata": {},
   "source": [
    "## Ejercicio 13\n",
    "\n",
    "Crear un módulo de validación de DNI con expresiones regulares (*regex*). Las condiciones del DNI deben de ser las siguientes:\n",
    "+ El DNI debe de contener exactamente 9 caracteres.\n",
    "+ Los 8 primeros caracteres del DNI deben de ser números.\n",
    "+ El caracter final del DNI debe de ser una letra.\n",
    "\n",
    "Si el DNI es válido, se mostrará un mensaje por pantalla \"DNI Válido\". De lo contrario se mostrará un mensaje de error."
   ]
  },
  {
   "cell_type": "code",
   "execution_count": 103,
   "id": "2a16c933",
   "metadata": {},
   "outputs": [
    {
     "name": "stdout",
     "output_type": "stream",
     "text": [
      "DNI no valido\n"
     ]
    }
   ],
   "source": [
    "import re\n",
    "\n",
    "def validacion(dni):\n",
    "    patron = re.compile(\"[0-9]{8}[a-zA-Z]{1}\")\n",
    "\n",
    "    if not patron.match(dni):\n",
    "        return \"DNI no valido\"\n",
    "    return \"DNI valido\"\n",
    "\n",
    "dni = \"123456A8\"\n",
    "print(validacion(dni))"
   ]
  },
  {
   "cell_type": "markdown",
   "id": "7ae4bec9",
   "metadata": {},
   "source": [
    "## Ejercicio 14\n",
    "Imprime un string con los caracteres de las posiciones en índices pares"
   ]
  },
  {
   "cell_type": "code",
   "execution_count": 104,
   "id": "d05ba034",
   "metadata": {},
   "outputs": [
    {
     "name": "stdout",
     "output_type": "stream",
     "text": [
      "hl ud u a?\n"
     ]
    }
   ],
   "source": [
    "cadena = \"hola mundo que tal?\"\n",
    "print(cadena[::2])"
   ]
  },
  {
   "cell_type": "markdown",
   "id": "b3044b85",
   "metadata": {},
   "source": [
    "## Ejercicio 15\n",
    "Existiendo dos listas, devolver *True* si el primer y último elemento de las dos listas son iguales"
   ]
  },
  {
   "cell_type": "code",
   "execution_count": 109,
   "id": "7668bd28",
   "metadata": {},
   "outputs": [
    {
     "name": "stdout",
     "output_type": "stream",
     "text": [
      "True\n"
     ]
    }
   ],
   "source": [
    "lista1 = [1,2,3,4,5]\n",
    "lista2 = [1,24,33,24,5]\n",
    "\n",
    "print(lista1[0] is lista2[0] and lista1[-1] is lista2[-1])"
   ]
  },
  {
   "cell_type": "markdown",
   "id": "4f66c995",
   "metadata": {},
   "source": [
    "## Ejercicio 16\n",
    "Dado una lista devolver otra lista con los elementos que son divisibles entre 5"
   ]
  },
  {
   "cell_type": "code",
   "execution_count": 111,
   "id": "ff55fcd8",
   "metadata": {},
   "outputs": [
    {
     "name": "stdout",
     "output_type": "stream",
     "text": [
      "[25, 40]\n"
     ]
    }
   ],
   "source": [
    "def div5(l):\n",
    "    lista = list()\n",
    "\n",
    "    if(type(l) is list):\n",
    "        for i in l:\n",
    "            if i % 5 == 0:\n",
    "                lista.append(i)\n",
    "        return lista\n",
    "    else:\n",
    "        return \"El parametro tiene que ser una lista\"\n",
    "\n",
    "lista1 = [25,40,33,27,9,1994]\n",
    "print(div5(lista1))\n"
   ]
  },
  {
   "cell_type": "markdown",
   "id": "38437c20",
   "metadata": {},
   "source": [
    "## Ejercicio 17\n",
    "Devolver *True* si el número recibido es un palíndromo"
   ]
  },
  {
   "cell_type": "code",
   "execution_count": 116,
   "id": "1a069cf3",
   "metadata": {},
   "outputs": [
    {
     "name": "stdout",
     "output_type": "stream",
     "text": [
      "True\n"
     ]
    }
   ],
   "source": [
    "num = 1221\n",
    "print(num == int(str(num)[::-1]))"
   ]
  },
  {
   "cell_type": "markdown",
   "id": "325c8280",
   "metadata": {},
   "source": [
    "## Ejercicio 18\n",
    "Calcular el impuesto de cada producto según su precio\n",
    "+ De 0 hasta 10.000€ --> 10% impuesto\n",
    "+ De 10.001 hasta 24.999€ --> 15% impuesto\n",
    "+ A partir de 25.000€ --> 20% impuesto"
   ]
  },
  {
   "cell_type": "code",
   "execution_count": 118,
   "id": "f12fa969",
   "metadata": {},
   "outputs": [
    {
     "name": "stdout",
     "output_type": "stream",
     "text": [
      "100.0\n"
     ]
    }
   ],
   "source": [
    "def impuestos(precio):\n",
    "    if precio >= 0 and precio <= 10000:\n",
    "        return precio*0.10\n",
    "    if precio > 10000 and precio < 25000:\n",
    "        return precio*0.15\n",
    "    if precio >= 25000:\n",
    "        return precio*0.20\n",
    "    return \"Errooooooooooooooooooooooooor\"\n",
    "\n",
    "precio = 1000\n",
    "print(impuestos(precio))"
   ]
  }
 ],
 "metadata": {
  "kernelspec": {
   "display_name": "Python 3.11.0 64-bit",
   "language": "python",
   "name": "python3"
  },
  "language_info": {
   "codemirror_mode": {
    "name": "ipython",
    "version": 3
   },
   "file_extension": ".py",
   "mimetype": "text/x-python",
   "name": "python",
   "nbconvert_exporter": "python",
   "pygments_lexer": "ipython3",
   "version": "3.11.0 (main, Oct 24 2022, 18:26:48) [MSC v.1933 64 bit (AMD64)]"
  },
  "vscode": {
   "interpreter": {
    "hash": "8788d27cba0b2dbc0718fef4e715449fab30bd59957c04e36cc9c246182e8fe0"
   }
  }
 },
 "nbformat": 4,
 "nbformat_minor": 5
}
