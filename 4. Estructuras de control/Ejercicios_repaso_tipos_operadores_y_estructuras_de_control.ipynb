{
 "cells": [
  {
   "cell_type": "markdown",
   "id": "960cea4e",
   "metadata": {},
   "source": [
    "# Ejercicios repaso tipos y operadores\n",
    "\n",
    "\n",
    "## Ejercicio 1\n",
    "\n",
    "Calcular el área y el volumen de un cilindro de 2 m de radio y 3 m de altura. Se puede utilizar $\\pi$ como una variable más escribiendo *math.pi*."
   ]
  },
  {
   "cell_type": "markdown",
   "id": "7cfc5918",
   "metadata": {},
   "source": [
    "## Ejercicio 2\n",
    "\n",
    "Resolver la ecuación\n",
    "\n",
    "$$7x^2+21x-28 = 0$$\n",
    "y mostrar por pantalla el resultado."
   ]
  },
  {
   "cell_type": "markdown",
   "id": "532ccd61",
   "metadata": {},
   "source": [
    "## Ejercicio 3\n",
    "\n",
    "Mostrar por pantalla los números del 0 al 10 junto con una anotación que diga si el número es par o impar."
   ]
  },
  {
   "cell_type": "markdown",
   "id": "a48078db",
   "metadata": {},
   "source": [
    "## Ejercicio 4\n",
    "\n",
    "Mostrar por pantalla las tablas de multiplicar del 7, el 8 y el 9. El formato debe ser \"7x1 = 7\""
   ]
  },
  {
   "cell_type": "markdown",
   "id": "9141d66a",
   "metadata": {},
   "source": [
    "## Ejercicio 5\n",
    "\n",
    "Extraer el segundo y tercer elemento de lista y calcular su producto."
   ]
  },
  {
   "cell_type": "markdown",
   "id": "6e3b2e74",
   "metadata": {},
   "source": [
    "## Ejercicio 6\n",
    "\n",
    "Mostrar todos los elementos de la lista"
   ]
  },
  {
   "cell_type": "markdown",
   "id": "0501a56d",
   "metadata": {},
   "source": [
    "## Ejercicio 7\n",
    "\n",
    "Calcular la suma de los N primeros números pares"
   ]
  },
  {
   "cell_type": "markdown",
   "id": "31e5e27f",
   "metadata": {},
   "source": [
    "## Ejercicio 8\n",
    "\n",
    "Calcular el máximo, el mínimo y la media de una lista de enteros."
   ]
  },
  {
   "cell_type": "markdown",
   "id": "652e251c",
   "metadata": {},
   "source": [
    "## Ejercicio 9\n",
    "\n",
    "Dado un número entero $n$, comprobar si el número es primo."
   ]
  },
  {
   "cell_type": "markdown",
   "id": "465042b6",
   "metadata": {},
   "source": [
    "## Ejercicio 10\n",
    "\n",
    "Queremos crear una máquina que de el cambio de lo que han pagado a nuestros clientes. Supondremos que nuestros depósitos de billetes de cualquier tipo son ilimitados y que el máximo billete es de 50€. A partir del dinero entregado y el precio de la compra, sacaremos por pantalla el cambio óptimo."
   ]
  },
  {
   "cell_type": "markdown",
   "id": "aa5d97a4",
   "metadata": {},
   "source": [
    "## Ejercicio 11\n",
    "\n",
    "Crear un módulo de validación de nombres de usuario. Las condciones de un nombre de usuario son las siguientes:\n",
    "\n",
    "+ Longitud mayor que 6 caracteres.\n",
    "+ Longitud menor que 13 caracteres\n",
    "+ El nombre de usuario debe ser alfanumérico.\n",
    "\n",
    "En caso de que el nombre de usuario sea válido se mostrará por pantalla \"Usuario válido\". En caso de encontrarnos con algún error. "
   ]
  },
  {
   "cell_type": "markdown",
   "id": "bb4f9216",
   "metadata": {},
   "source": [
    "## Ejercicio 12\n",
    "\n",
    "Crear un módulo de validación de contraseñas. La contraseña debe cumplir los siguientes requisitos:\n",
    "\n",
    "+ La contraseña debe tener un mínimo de 8 caracteres.\n",
    "+ La contraseña debe contener mayúsculas, minúsculas, números y al menos un caracter no alfanumérico.\n",
    "+ La contraseña no debe tener espacios en blanco.\n",
    "\n",
    "Si la contraseña es válida se mostrará un mensaje por pantalla y en caso de no serlo se mostrarán los requisitos incumplidos.\n",
    "\n",
    "\n"
   ]
  },
  {
   "cell_type": "markdown",
   "id": "2c01ce00",
   "metadata": {},
   "source": [
    "## Ejercicio 13\n",
    "\n",
    "Crear un módulo de validación de DNI con expresiones regulares (*regex*). Las condiciones del DNI deben de ser las siguientes:\n",
    "+ El DNI debe de contener exactamente 9 caracteres.\n",
    "+ Los 8 primeros caracteres del DNI deben de ser números.\n",
    "+ El caracter final del DNI debe de ser una letra.\n",
    "\n",
    "Si el DNI es válido, se mostrará un mensaje por pantalla \"DNI Válido\". De lo contrario se mostrará un mensaje de error."
   ]
  },
  {
   "cell_type": "markdown",
   "id": "7ae4bec9",
   "metadata": {},
   "source": [
    "## Ejercicio 14\n",
    "Imprime un string con los caracteres de las posiciones en índices pares"
   ]
  },
  {
   "cell_type": "markdown",
   "id": "b3044b85",
   "metadata": {},
   "source": [
    "## Ejercicio 15\n",
    "Existiendo dos listas, devolver *True* si el primer y último elemento de las dos listas son iguales"
   ]
  },
  {
   "cell_type": "markdown",
   "id": "4f66c995",
   "metadata": {},
   "source": [
    "## Ejercicio 16\n",
    "Dado una lista devolver otra lista con los elementos que son divisibles entre 5"
   ]
  },
  {
   "cell_type": "markdown",
   "id": "38437c20",
   "metadata": {},
   "source": [
    "## Ejercicio 17\n",
    "Devolver *True* si el número recibido es un palíndromo"
   ]
  },
  {
   "cell_type": "markdown",
   "id": "325c8280",
   "metadata": {},
   "source": [
    "## Ejercicio 18\n",
    "Calcular el impuesto de cada producto según su precio\n",
    "+ De 0 hasta 10.000€ --> 10% impuesto\n",
    "+ De 10.001 hasta 24.999€ --> 15% impuesto\n",
    "+ A partir de 25.000€ --> 20% impuesto"
   ]
  }
 ],
 "metadata": {
  "kernelspec": {
   "display_name": "Python 3 (ipykernel)",
   "language": "python",
   "name": "python3"
  },
  "language_info": {
   "codemirror_mode": {
    "name": "ipython",
    "version": 3
   },
   "file_extension": ".py",
   "mimetype": "text/x-python",
   "name": "python",
   "nbconvert_exporter": "python",
   "pygments_lexer": "ipython3",
   "version": "3.9.7"
  }
 },
 "nbformat": 4,
 "nbformat_minor": 5
}
