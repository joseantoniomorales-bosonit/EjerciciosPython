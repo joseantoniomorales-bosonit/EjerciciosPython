{
 "cells": [
  {
   "cell_type": "markdown",
   "metadata": {},
   "source": [
    "# Ejercicios con if"
   ]
  },
  {
   "cell_type": "code",
   "execution_count": null,
   "metadata": {},
   "outputs": [],
   "source": [
    "a = 10\n",
    "b = 100\n",
    "\n",
    "#1. Defina una estructura de control que imprima por pantalla “Es igual a 10” si a es igual a 10 y si no imprima “Es diferente de 10”.\n",
    "if a == 10:\n",
    "    print(\"Es igual a 10\")\n",
    "else:\n",
    "    print(\"Es diferente de 10\")"
   ]
  },
  {
   "cell_type": "code",
   "execution_count": null,
   "metadata": {},
   "outputs": [],
   "source": [
    "'''2. Defina una estructura de control que imprima “Todos son igual a 10” si a y b son iguales a 10; si no imprima “Sólo a es\n",
    "igual a 10” si a es igual a 10; si no imprima “B es igual a 10” si b es igual a 10; si no imprima “Ninguno es igual a 10”.'''\n",
    "if a == 10 and b == 10:\n",
    "    print(\"Todos son igual a 10\")\n",
    "else:\n",
    "    if(a == 10):\n",
    "        print(\"Sólo a es igual a 10\")\n",
    "    else:\n",
    "        if(b == 10):\n",
    "            print(\"B es igual a 10\")\n",
    "        else:\n",
    "            print(\"Ninguno es igual a 10\")"
   ]
  },
  {
   "cell_type": "code",
   "execution_count": null,
   "metadata": {},
   "outputs": [],
   "source": [
    "#3. Defina una estructura de control que imprima “A y B son impares” si tanto a como b son impares; si no imprima “A y B no son impares”.\n",
    "if a % 2 != 0 and b % 2 != 0:\n",
    "    print(\"A y B son impares\")\n",
    "else:\n",
    "    print(\"A y B no son impares\")"
   ]
  },
  {
   "cell_type": "markdown",
   "metadata": {},
   "source": [
    "# Ejercicios con while"
   ]
  },
  {
   "cell_type": "code",
   "execution_count": null,
   "metadata": {},
   "outputs": [],
   "source": [
    "#1. Asigna un valor a la variable i.\n",
    "i = 10"
   ]
  },
  {
   "cell_type": "code",
   "execution_count": null,
   "metadata": {},
   "outputs": [],
   "source": [
    "#2. Defina una estructura de control que solo imprima i una vez. Tienes que usar while sin estados de salida.\n",
    "while True:\n",
    "    print(i)\n",
    "    break"
   ]
  },
  {
   "cell_type": "code",
   "execution_count": null,
   "metadata": {},
   "outputs": [],
   "source": [
    "#3. Defina una estructura de control que solo imprima i una vez. Tienes que usar while y estados de salida.\n",
    "while i < 11:\n",
    "    print(i)\n",
    "    i += 1"
   ]
  },
  {
   "cell_type": "code",
   "execution_count": null,
   "metadata": {},
   "outputs": [],
   "source": [
    "'''4. Asigna i el valor 0. Crea una estructura de control que vaya incrementando i mientras i sea menor de 10. Comprueba si\n",
    "el valor de i es 6 e imprime “Ejecución terminada” y finaliza el bucle.'''\n",
    "i = 0\n",
    "while i < 10:\n",
    "    if i == 6:\n",
    "        print(\"Ejecucion terminada\")\n",
    "        break\n",
    "    i += 1"
   ]
  },
  {
   "cell_type": "markdown",
   "metadata": {},
   "source": [
    "# Ejercicios con for"
   ]
  },
  {
   "cell_type": "code",
   "execution_count": 3,
   "metadata": {},
   "outputs": [
    {
     "name": "stdout",
     "output_type": "stream",
     "text": [
      "H\n",
      "e\n",
      "l\n",
      "l\n",
      "o\n",
      "W\n",
      "o\n",
      "r\n",
      "d\n",
      "P\n",
      "y\n",
      "t\n",
      "h\n",
      "o\n",
      "n\n"
     ]
    }
   ],
   "source": [
    "a = ['Hello','World']\n",
    "b = ['Python',3.9]\n",
    "c = 'HelloWordPython'\n",
    "\n",
    "#1. Recorre todos los caracteres de c e imprimelos por pantalla.\n",
    "for i in c:\n",
    "    print(i)"
   ]
  },
  {
   "cell_type": "code",
   "execution_count": null,
   "metadata": {},
   "outputs": [],
   "source": [
    "#2. Muestra todos los valores de a.\n",
    "for i in a:\n",
    "    print(i)"
   ]
  },
  {
   "cell_type": "code",
   "execution_count": 4,
   "metadata": {},
   "outputs": [
    {
     "name": "stdout",
     "output_type": "stream",
     "text": [
      "('Hello', 'Python')\n",
      "('World', 3.9)\n"
     ]
    }
   ],
   "source": [
    "#3. Muestra cada valor de a y b mostrando cada elemento de a con el de la misma posición de b sin utilizar los índices de posición.\n",
    "for i in zip(a+b):\n",
    "    print(i)"
   ]
  },
  {
   "cell_type": "code",
   "execution_count": null,
   "metadata": {},
   "outputs": [],
   "source": [
    "#4. Muestra en cada iteración el valor y su índice para los elementos de b.\n",
    "for i in range(len(b)):\n",
    "    print(\"El indice\",i,\"contiene el valor:\",b[i])"
   ]
  }
 ],
 "metadata": {
  "kernelspec": {
   "display_name": "Python 3.11.0 64-bit",
   "language": "python",
   "name": "python3"
  },
  "language_info": {
   "codemirror_mode": {
    "name": "ipython",
    "version": 3
   },
   "file_extension": ".py",
   "mimetype": "text/x-python",
   "name": "python",
   "nbconvert_exporter": "python",
   "pygments_lexer": "ipython3",
   "version": "3.11.0 (main, Oct 24 2022, 18:26:48) [MSC v.1933 64 bit (AMD64)]"
  },
  "orig_nbformat": 4,
  "vscode": {
   "interpreter": {
    "hash": "8788d27cba0b2dbc0718fef4e715449fab30bd59957c04e36cc9c246182e8fe0"
   }
  }
 },
 "nbformat": 4,
 "nbformat_minor": 2
}
