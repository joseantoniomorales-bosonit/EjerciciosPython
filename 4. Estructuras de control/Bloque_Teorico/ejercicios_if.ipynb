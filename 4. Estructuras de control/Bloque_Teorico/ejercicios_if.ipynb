{
 "cells": [
  {
   "cell_type": "code",
   "execution_count": 1,
   "metadata": {},
   "outputs": [],
   "source": [
    "a = 10\n",
    "b = 100"
   ]
  },
  {
   "cell_type": "code",
   "execution_count": 2,
   "metadata": {},
   "outputs": [
    {
     "name": "stdout",
     "output_type": "stream",
     "text": [
      "Es igual a 10\n"
     ]
    }
   ],
   "source": [
    "#Defina una estructura de control que imprima por pantalla “Es igual a 10” si a es igual a 10 y si no imprima “Es diferente de 10”.\n",
    "if a == 10:\n",
    "    print(\"Es igual a 10\")\n",
    "else:\n",
    "    print(\"Es diferente de 10\")"
   ]
  },
  {
   "cell_type": "code",
   "execution_count": 3,
   "metadata": {},
   "outputs": [
    {
     "name": "stdout",
     "output_type": "stream",
     "text": [
      "Sólo a es igual a 10\n"
     ]
    }
   ],
   "source": [
    "'''Defina una estructura de control que imprima “Todos son igual a 10” si a y b son iguales a 10; si no imprima “Sólo a es\n",
    "igual a 10” si a es igual a 10; si no imprima “B es igual a 10” si b es igual a 10; si no imprima “Ninguno es igual a 10”.'''\n",
    "if a == 10 and b == 10:\n",
    "    print(\"Todos son igual a 10\")\n",
    "else:\n",
    "    if(a == 10):\n",
    "        print(\"Sólo a es igual a 10\")\n",
    "    else:\n",
    "        if(b == 10):\n",
    "            print(\"B es igual a 10\")\n",
    "        else:\n",
    "            print(\"Ninguno es igual a 10\")"
   ]
  },
  {
   "cell_type": "code",
   "execution_count": 4,
   "metadata": {},
   "outputs": [
    {
     "name": "stdout",
     "output_type": "stream",
     "text": [
      "“A y B no son impares\n"
     ]
    }
   ],
   "source": [
    "#Defina una estructura de control que imprima “A y B son impares” si tanto a como b son impares; si no imprima “A y B no son impares”.\n",
    "if a % 2 != 0 and b % 2 != 0:\n",
    "    print(\"A y B son impares\")\n",
    "else:\n",
    "    print(\"A y B no son impares\")"
   ]
  }
 ],
 "metadata": {
  "kernelspec": {
   "display_name": "Python 3.11.0 64-bit",
   "language": "python",
   "name": "python3"
  },
  "language_info": {
   "codemirror_mode": {
    "name": "ipython",
    "version": 3
   },
   "file_extension": ".py",
   "mimetype": "text/x-python",
   "name": "python",
   "nbconvert_exporter": "python",
   "pygments_lexer": "ipython3",
   "version": "3.11.0"
  },
  "orig_nbformat": 4,
  "vscode": {
   "interpreter": {
    "hash": "8788d27cba0b2dbc0718fef4e715449fab30bd59957c04e36cc9c246182e8fe0"
   }
  }
 },
 "nbformat": 4,
 "nbformat_minor": 2
}
