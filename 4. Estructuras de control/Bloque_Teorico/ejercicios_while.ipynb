{
 "cells": [
  {
   "cell_type": "code",
   "execution_count": null,
   "metadata": {},
   "outputs": [],
   "source": [
    "#Asigna un valor a la variable i.\n",
    "i = 10"
   ]
  },
  {
   "cell_type": "code",
   "execution_count": null,
   "metadata": {},
   "outputs": [],
   "source": [
    "#Defina una estructura de control que solo imprima i una vez. Tienes que usar while sin estados de salida.\n",
    "while True:\n",
    "    print(i)\n",
    "    break"
   ]
  },
  {
   "cell_type": "code",
   "execution_count": null,
   "metadata": {},
   "outputs": [],
   "source": [
    "#Defina una estructura de control que solo imprima i una vez. Tienes que usar while y estados de salida.\n",
    "while i < 11:\n",
    "    print(i)\n",
    "    i += 1"
   ]
  },
  {
   "cell_type": "code",
   "execution_count": null,
   "metadata": {},
   "outputs": [],
   "source": [
    "'''Asigna i el valor 0. Crea una estructura de control que vaya incrementando i mientras i sea menor de 10. Comprueba si\n",
    "el valor de i es 6 e imprime “Ejecución terminada” y finaliza el bucle.'''\n",
    "i = 0\n",
    "while i < 10:\n",
    "    if i == 6:\n",
    "        print(\"Ejecucion terminada\")\n",
    "        break\n",
    "    i += 1"
   ]
  }
 ],
 "metadata": {
  "kernelspec": {
   "display_name": "Python 3.11.0 64-bit",
   "language": "python",
   "name": "python3"
  },
  "language_info": {
   "name": "python",
   "version": "3.11.0"
  },
  "orig_nbformat": 4,
  "vscode": {
   "interpreter": {
    "hash": "8788d27cba0b2dbc0718fef4e715449fab30bd59957c04e36cc9c246182e8fe0"
   }
  }
 },
 "nbformat": 4,
 "nbformat_minor": 2
}
