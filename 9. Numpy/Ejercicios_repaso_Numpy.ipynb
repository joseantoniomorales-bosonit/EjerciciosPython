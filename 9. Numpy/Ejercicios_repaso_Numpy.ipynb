{
 "cells": [
  {
   "cell_type": "markdown",
   "id": "f1920790",
   "metadata": {},
   "source": [
    "## Ejercicios repaso Numpy"
   ]
  },
  {
   "cell_type": "code",
   "execution_count": 2,
   "id": "a5585d0e",
   "metadata": {},
   "outputs": [],
   "source": [
    "import numpy as np"
   ]
  },
  {
   "cell_type": "markdown",
   "id": "ff25f152",
   "metadata": {},
   "source": [
    "1. Crea un vector de ceros de 10 elementos excepto el quinto elemento que debe de ser 1"
   ]
  },
  {
   "cell_type": "markdown",
   "id": "cf002b18",
   "metadata": {},
   "source": [
    "2. Crea un vector con los valores desde el 10 hasta 49"
   ]
  },
  {
   "cell_type": "markdown",
   "id": "37d01f7f",
   "metadata": {},
   "source": [
    "3. Modifica el vector del ejercicio anterior y calcula el inverso"
   ]
  },
  {
   "cell_type": "markdown",
   "id": "63df42e5",
   "metadata": {},
   "source": [
    "4. Crea una matriz de 3x3 con los valores desde 0 hasta 8"
   ]
  },
  {
   "cell_type": "markdown",
   "id": "df4f4b4c",
   "metadata": {},
   "source": [
    "5. Crea una matriz de identidad de 4x4"
   ]
  },
  {
   "cell_type": "markdown",
   "id": "a51ecf94",
   "metadata": {},
   "source": [
    "6. Crea una matriz de 5x5x5 con valores aleatorios"
   ]
  },
  {
   "cell_type": "markdown",
   "id": "9fc435e2",
   "metadata": {},
   "source": [
    "7. Calcula la media del vector anterior"
   ]
  },
  {
   "cell_type": "markdown",
   "id": "a0e19b55",
   "metadata": {},
   "source": [
    "8. Crea una matriz 3x3 con los valores 1,2,3 en la diagonal (el resto de elementos deben de ser 0)"
   ]
  },
  {
   "cell_type": "markdown",
   "id": "fb43e162",
   "metadata": {},
   "source": [
    "9. Crea una matriz 4x4 con los valores 1,2,3 en la diagonal inferior (el resto de elementos deben de ser 0)\n",
    "[[0, 0, 0, 0],\n",
    "[1, 0, 0, 0],\n",
    "[0, 2, 0, 0],\n",
    "[0, 0, 3, 0]]"
   ]
  },
  {
   "cell_type": "markdown",
   "id": "06c624aa",
   "metadata": {},
   "source": [
    "10. Normaliza una matriz de 4x4 con valores aleatorios"
   ]
  },
  {
   "cell_type": "markdown",
   "id": "04d68eb5",
   "metadata": {},
   "source": [
    "11. Multiplica una matriz de 6x3 (todos valores a 1) por una de 3x2 (todos valores a 1)"
   ]
  },
  {
   "cell_type": "markdown",
   "id": "db196dd1",
   "metadata": {},
   "source": [
    "12. Realiza la multiplicación del ejercicio anterior utilizando un operador"
   ]
  },
  {
   "cell_type": "markdown",
   "id": "7a0f8252",
   "metadata": {},
   "source": [
    "13. Cree una matriz de 1 dimensión con los valores desde 1 a 10, con los valores desde 3 hasta 8 en negativo. [1, 2 , -3, -4, -5, -6, -7, -8, 9, 10]"
   ]
  },
  {
   "cell_type": "markdown",
   "id": "6a698b21",
   "metadata": {},
   "source": [
    "14. Cree un vector de 10 elementos con los valores aleatorios entre 0 y 10"
   ]
  },
  {
   "cell_type": "markdown",
   "id": "68ec90bb",
   "metadata": {},
   "source": [
    "15. Cree un vector con todas las fechas de abril de 2022"
   ]
  },
  {
   "cell_type": "markdown",
   "id": "45e4793c",
   "metadata": {},
   "source": [
    "16. Crea un vector ordenado de 15 elementos con valores aleatorios entre 1 y 10"
   ]
  },
  {
   "cell_type": "markdown",
   "id": "cd75615a",
   "metadata": {},
   "source": [
    "17. Devuelva la suma de los valores del vector del ejercicio anterior"
   ]
  },
  {
   "cell_type": "markdown",
   "id": "aa3d5192",
   "metadata": {},
   "source": [
    "18. Devuelve el resultado de la suma del vector ejercicio 16 de una forma más rápida que utilizar np.sum"
   ]
  },
  {
   "cell_type": "markdown",
   "id": "34163b26",
   "metadata": {},
   "source": [
    "19. Crea un vector aleatorio de tamaño 20 y reemplaza el máximo valor por 0"
   ]
  },
  {
   "cell_type": "markdown",
   "id": "2b9f71a0",
   "metadata": {},
   "source": [
    "20. Itera un numpy arrays mostrando su posición y el valor"
   ]
  },
  {
   "cell_type": "markdown",
   "id": "47ff80af",
   "metadata": {},
   "source": [
    "21. Resta a cada elemento la media calculada de su fila de la matriz"
   ]
  },
  {
   "cell_type": "markdown",
   "id": "f31bee4d",
   "metadata": {},
   "source": [
    "22. Crea una matriz de 6x6 y ordenala por la 4ª fila"
   ]
  },
  {
   "cell_type": "markdown",
   "id": "7a67ce90",
   "metadata": {},
   "source": [
    "23. Existiendo el vector [1, 2, 3, 4, 5], construir un nuevo vector con 3 ceros consecuitovs entre cada valor del vector anterior"
   ]
  },
  {
   "cell_type": "markdown",
   "id": "fe2632d3",
   "metadata": {},
   "source": [
    "24. Crea un vector con números aleatorios de 5x5 e intercambia la fila segunda por la tercera"
   ]
  }
 ],
 "metadata": {
  "kernelspec": {
   "display_name": "Python 3 (ipykernel)",
   "language": "python",
   "name": "python3"
  },
  "language_info": {
   "codemirror_mode": {
    "name": "ipython",
    "version": 3
   },
   "file_extension": ".py",
   "mimetype": "text/x-python",
   "name": "python",
   "nbconvert_exporter": "python",
   "pygments_lexer": "ipython3",
   "version": "3.9.7"
  }
 },
 "nbformat": 4,
 "nbformat_minor": 5
}
