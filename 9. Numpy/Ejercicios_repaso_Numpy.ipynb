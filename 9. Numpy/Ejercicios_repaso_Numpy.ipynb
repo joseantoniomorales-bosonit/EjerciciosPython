{
 "cells": [
  {
   "cell_type": "markdown",
   "id": "f1920790",
   "metadata": {},
   "source": [
    "## Ejercicios repaso Numpy"
   ]
  },
  {
   "cell_type": "code",
   "execution_count": 2,
   "id": "a5585d0e",
   "metadata": {},
   "outputs": [],
   "source": [
    "import numpy as np"
   ]
  },
  {
   "cell_type": "markdown",
   "id": "ff25f152",
   "metadata": {},
   "source": [
    "1. Crea un vector de ceros de 10 elementos excepto el quinto elemento que debe de ser 1"
   ]
  },
  {
   "cell_type": "code",
   "execution_count": 6,
   "id": "5e01a1b0",
   "metadata": {},
   "outputs": [
    {
     "data": {
      "text/plain": [
       "array([0., 0., 0., 0., 1., 0., 0., 0., 0., 0.])"
      ]
     },
     "execution_count": 6,
     "metadata": {},
     "output_type": "execute_result"
    }
   ],
   "source": [
    "array1 = np.zeros(10)\n",
    "array1[4] = 1"
   ]
  },
  {
   "cell_type": "markdown",
   "id": "cf002b18",
   "metadata": {},
   "source": [
    "2. Crea un vector con los valores desde el 10 hasta 49"
   ]
  },
  {
   "cell_type": "code",
   "execution_count": 103,
   "id": "803e98ad",
   "metadata": {},
   "outputs": [
    {
     "data": {
      "text/plain": [
       "array([10, 11, 12, 13, 14, 15, 16, 17, 18, 19, 20, 21, 22, 23, 24, 25, 26,\n",
       "       27, 28, 29, 30, 31, 32, 33, 34, 35, 36, 37, 38, 39, 40, 41, 42, 43,\n",
       "       44, 45, 46, 47, 48, 49])"
      ]
     },
     "execution_count": 103,
     "metadata": {},
     "output_type": "execute_result"
    }
   ],
   "source": [
    "array2 = np.arange(10,50)\n",
    "array2"
   ]
  },
  {
   "cell_type": "markdown",
   "id": "37d01f7f",
   "metadata": {},
   "source": [
    "3. Modifica el vector del ejercicio anterior y calcula el inverso"
   ]
  },
  {
   "cell_type": "code",
   "execution_count": 117,
   "id": "8da863de",
   "metadata": {},
   "outputs": [
    {
     "name": "stdout",
     "output_type": "stream",
     "text": [
      "[[ 0.01514429  0.01799232 -0.01050182 -0.015889   -0.00854138  0.00616762]\n",
      " [-0.0213417   0.04906769 -0.04419464 -0.00964394  0.03734955 -0.00539264]\n",
      " [-0.00123891 -0.02651243  0.0633945   0.00753421 -0.03507141 -0.00479705]\n",
      " [-0.00888379  0.05116152 -0.07717284  0.02306779  0.03463945 -0.00696152]\n",
      " [ 0.00166242 -0.0644174   0.04116922  0.00175344 -0.01572132  0.03125544]\n",
      " [ 0.02032463 -0.02867574  0.03507304 -0.0028538  -0.00679288 -0.01039599]]\n"
     ]
    }
   ],
   "source": [
    "def calcularInversa(array):\n",
    "    array = modificarMatriz(array)\n",
    "\n",
    "    if np.linalg.det(array) == 0:\n",
    "        return \"No se puede calcular la inversa\"\n",
    "    else:\n",
    "        return np.linalg.inv(array)\n",
    "\n",
    "def modificarMatriz(array):\n",
    "    np.random.shuffle(array)\n",
    "    return array[:36].reshape(6,6)\n",
    "\n",
    "print(calcularInversa(array2))"
   ]
  },
  {
   "cell_type": "markdown",
   "id": "63df42e5",
   "metadata": {},
   "source": [
    "4. Crea una matriz de 3x3 con los valores desde 0 hasta 8"
   ]
  },
  {
   "cell_type": "code",
   "execution_count": 7,
   "id": "1986731d",
   "metadata": {},
   "outputs": [
    {
     "data": {
      "text/plain": [
       "array([[0, 1, 2],\n",
       "       [3, 4, 5],\n",
       "       [6, 7, 8]])"
      ]
     },
     "execution_count": 7,
     "metadata": {},
     "output_type": "execute_result"
    }
   ],
   "source": [
    "array3 = np.arange(0,9).reshape(3,3)\n",
    "array3"
   ]
  },
  {
   "cell_type": "markdown",
   "id": "df4f4b4c",
   "metadata": {},
   "source": [
    "5. Crea una matriz de identidad de 4x4"
   ]
  },
  {
   "cell_type": "code",
   "execution_count": 7,
   "id": "866574cf",
   "metadata": {},
   "outputs": [
    {
     "data": {
      "text/plain": [
       "array([[1., 0., 0., 0.],\n",
       "       [0., 1., 0., 0.],\n",
       "       [0., 0., 1., 0.],\n",
       "       [0., 0., 0., 1.]])"
      ]
     },
     "execution_count": 7,
     "metadata": {},
     "output_type": "execute_result"
    }
   ],
   "source": [
    "arrayIdent = np.identity(4)"
   ]
  },
  {
   "cell_type": "markdown",
   "id": "a51ecf94",
   "metadata": {},
   "source": [
    "6. Crea una matriz de 5x5x5 con valores aleatorios"
   ]
  },
  {
   "cell_type": "code",
   "execution_count": 3,
   "id": "a8f8d0d3",
   "metadata": {},
   "outputs": [
    {
     "name": "stdout",
     "output_type": "stream",
     "text": [
      "[[[0.05025192 0.59437445 0.15116371 0.34988394 0.79835562]\n",
      "  [0.88810673 0.19970177 0.51920972 0.92661343 0.8172862 ]\n",
      "  [0.44040592 0.84423367 0.60822229 0.49634354 0.18018999]\n",
      "  [0.72825474 0.49791176 0.94288928 0.97213863 0.38615536]\n",
      "  [0.16052038 0.00664136 0.04063998 0.43321554 0.64816623]]\n",
      "\n",
      " [[0.20910667 0.15270517 0.09224586 0.66165747 0.86758789]\n",
      "  [0.53699919 0.64812883 0.76376323 0.77995654 0.8166926 ]\n",
      "  [0.39055557 0.78173321 0.0391665  0.82101362 0.07243274]\n",
      "  [0.21079844 0.06436044 0.75044066 0.98278573 0.18030563]\n",
      "  [0.16059155 0.23675728 0.94179651 0.11606374 0.00667005]]\n",
      "\n",
      " [[0.30368922 0.48819726 0.52872549 0.38712357 0.04283421]\n",
      "  [0.39733723 0.54436227 0.04284701 0.96769214 0.74760982]\n",
      "  [0.41663932 0.34408749 0.89894127 0.89859703 0.12980626]\n",
      "  [0.24295009 0.41387425 0.08384883 0.90310959 0.93685889]\n",
      "  [0.63268068 0.36784765 0.44003662 0.41693983 0.73770573]]\n",
      "\n",
      " [[0.42931907 0.68487881 0.54910377 0.62158664 0.19951335]\n",
      "  [0.31616424 0.54563202 0.7677836  0.09464093 0.22587116]\n",
      "  [0.41428189 0.84928418 0.03961621 0.71560532 0.49711357]\n",
      "  [0.4572652  0.00850079 0.14943039 0.6957668  0.38743404]\n",
      "  [0.18128541 0.37486257 0.43529498 0.66019681 0.61262631]]\n",
      "\n",
      " [[0.31671817 0.84021661 0.95935379 0.94498688 0.29644052]\n",
      "  [0.0885296  0.41113723 0.54942526 0.73238095 0.21802084]\n",
      "  [0.58472304 0.45420416 0.54914235 0.48339168 0.28088993]\n",
      "  [0.0312015  0.71999775 0.95908932 0.51341471 0.59386263]\n",
      "  [0.65015028 0.78663598 0.99049301 0.58157388 0.01748064]]]\n"
     ]
    }
   ],
   "source": [
    "arrayRand = np.random.rand(5,5,5)\n",
    "print(arrayRand)"
   ]
  },
  {
   "cell_type": "markdown",
   "id": "9fc435e2",
   "metadata": {},
   "source": [
    "7. Calcula la media del vector anterior"
   ]
  },
  {
   "cell_type": "code",
   "execution_count": 4,
   "id": "60f470fb",
   "metadata": {},
   "outputs": [
    {
     "data": {
      "text/plain": [
       "0.4859684143647981"
      ]
     },
     "execution_count": 4,
     "metadata": {},
     "output_type": "execute_result"
    }
   ],
   "source": [
    "np.mean(arrayRand)"
   ]
  },
  {
   "cell_type": "markdown",
   "id": "a0e19b55",
   "metadata": {},
   "source": [
    "8. Crea una matriz 3x3 con los valores 1,2,3 en la diagonal (el resto de elementos deben de ser 0)"
   ]
  },
  {
   "cell_type": "code",
   "execution_count": 5,
   "id": "1a4378e7",
   "metadata": {},
   "outputs": [
    {
     "name": "stdout",
     "output_type": "stream",
     "text": [
      "[[1 0 0]\n",
      " [0 2 0]\n",
      " [0 0 3]]\n"
     ]
    }
   ],
   "source": [
    "arrayDiag = np.diagflat(np.arange(1,4))\n",
    "print(arrayDiag)"
   ]
  },
  {
   "cell_type": "markdown",
   "id": "fb43e162",
   "metadata": {},
   "source": [
    "9. Crea una matriz 4x4 con los valores 1,2,3 en la diagonal inferior (el resto de elementos deben de ser 0)\n",
    "[[0, 0, 0, 0],\n",
    "[1, 0, 0, 0],\n",
    "[0, 2, 0, 0],\n",
    "[0, 0, 3, 0]]"
   ]
  },
  {
   "cell_type": "code",
   "execution_count": 64,
   "id": "1ce25ba5",
   "metadata": {},
   "outputs": [
    {
     "name": "stdout",
     "output_type": "stream",
     "text": [
      "[[0 0 0 0]\n",
      " [1 0 0 0]\n",
      " [0 2 0 0]\n",
      " [0 0 3 0]]\n"
     ]
    }
   ],
   "source": [
    "arrayDiag = np.diagflat(np.arange(1,4),-1)\n",
    "print(arrayDiag)"
   ]
  },
  {
   "cell_type": "markdown",
   "id": "06c624aa",
   "metadata": {},
   "source": [
    "10. Normaliza una matriz de 4x4 con valores aleatorios"
   ]
  },
  {
   "cell_type": "code",
   "execution_count": 74,
   "id": "a3452362",
   "metadata": {},
   "outputs": [
    {
     "data": {
      "text/plain": [
       "2.331623812133402"
      ]
     },
     "execution_count": 74,
     "metadata": {},
     "output_type": "execute_result"
    }
   ],
   "source": [
    "np.linalg.norm(np.random.rand(4,4))"
   ]
  },
  {
   "cell_type": "markdown",
   "id": "04d68eb5",
   "metadata": {},
   "source": [
    "11. Multiplica una matriz de 6x3 (todos valores a 1) por una de 3x2 (todos valores a 1)"
   ]
  },
  {
   "cell_type": "code",
   "execution_count": 109,
   "id": "8e89b62e",
   "metadata": {},
   "outputs": [
    {
     "data": {
      "text/plain": [
       "array([[3, 3],\n",
       "       [3, 3],\n",
       "       [3, 3],\n",
       "       [3, 3],\n",
       "       [3, 3],\n",
       "       [3, 3]])"
      ]
     },
     "execution_count": 109,
     "metadata": {},
     "output_type": "execute_result"
    }
   ],
   "source": [
    "a = np.ones((6,3),dtype=int)\n",
    "b = np.ones((3,2),dtype=int)\n",
    "np.dot(a,b)\n"
   ]
  },
  {
   "cell_type": "markdown",
   "id": "db196dd1",
   "metadata": {},
   "source": [
    "12. Realiza la multiplicación del ejercicio anterior utilizando un operador"
   ]
  },
  {
   "cell_type": "code",
   "execution_count": 110,
   "id": "db2f4488",
   "metadata": {},
   "outputs": [
    {
     "name": "stdout",
     "output_type": "stream",
     "text": [
      "[[3 3]\n",
      " [3 3]\n",
      " [3 3]\n",
      " [3 3]\n",
      " [3 3]\n",
      " [3 3]]\n"
     ]
    }
   ],
   "source": [
    "print(a @ b)"
   ]
  },
  {
   "cell_type": "markdown",
   "id": "7a0f8252",
   "metadata": {},
   "source": [
    "13. Cree una matriz de 1 dimensión con los valores desde 1 a 10, con los valores desde 3 hasta 8 en negativo. [1, 2 , -3, -4, -5, -6, -7, -8, 9, 10]"
   ]
  },
  {
   "cell_type": "code",
   "execution_count": 106,
   "id": "3b756eeb",
   "metadata": {},
   "outputs": [
    {
     "data": {
      "text/plain": [
       "array([ 1,  2, -3, -4, -5, -6, -7, -8,  9, 10])"
      ]
     },
     "execution_count": 106,
     "metadata": {},
     "output_type": "execute_result"
    }
   ],
   "source": [
    "array2 = np.arange(1,11)\n",
    "array2[(array2 >= 3) & (array2 <= 8)] *= -1\n",
    "print(array2)\n"
   ]
  },
  {
   "cell_type": "markdown",
   "id": "6a698b21",
   "metadata": {},
   "source": [
    "14. Cree un vector de 10 elementos con los valores aleatorios entre 0 y 10"
   ]
  },
  {
   "cell_type": "code",
   "execution_count": 108,
   "id": "4de01144",
   "metadata": {},
   "outputs": [
    {
     "data": {
      "text/plain": [
       "array([ 3,  0,  2,  2, 10,  7,  1,  5,  1,  9])"
      ]
     },
     "execution_count": 108,
     "metadata": {},
     "output_type": "execute_result"
    }
   ],
   "source": [
    "arrayRand = np.random.randint(0,11,(10))\n",
    "print(arrayRand)"
   ]
  },
  {
   "cell_type": "markdown",
   "id": "68ec90bb",
   "metadata": {},
   "source": [
    "15. Cree un vector con todas las fechas de abril de 2022"
   ]
  },
  {
   "cell_type": "code",
   "execution_count": 125,
   "id": "417b4b9f",
   "metadata": {},
   "outputs": [
    {
     "data": {
      "text/plain": [
       "array(['2022-04-01', '2022-04-02', '2022-04-03', '2022-04-04',\n",
       "       '2022-04-05', '2022-04-06', '2022-04-07', '2022-04-08',\n",
       "       '2022-04-09', '2022-04-10', '2022-04-11', '2022-04-12',\n",
       "       '2022-04-13', '2022-04-14', '2022-04-15', '2022-04-16',\n",
       "       '2022-04-17', '2022-04-18', '2022-04-19', '2022-04-20',\n",
       "       '2022-04-21', '2022-04-22', '2022-04-23', '2022-04-24',\n",
       "       '2022-04-25', '2022-04-26', '2022-04-27', '2022-04-28',\n",
       "       '2022-04-29', '2022-04-30'], dtype='datetime64[D]')"
      ]
     },
     "execution_count": 125,
     "metadata": {},
     "output_type": "execute_result"
    }
   ],
   "source": [
    "fechas = np.arange('2022-04', '2022-05',dtype='datetime64[D]')\n",
    "print(fechas)"
   ]
  },
  {
   "cell_type": "markdown",
   "id": "45e4793c",
   "metadata": {},
   "source": [
    "16. Crea un vector ordenado de 15 elementos con valores aleatorios entre 1 y 10"
   ]
  },
  {
   "cell_type": "code",
   "execution_count": 145,
   "id": "a4480c9f",
   "metadata": {},
   "outputs": [
    {
     "data": {
      "text/plain": [
       "array([ 1,  3,  4,  4,  4,  4,  5,  5,  5,  6,  7,  7,  8,  8, 10])"
      ]
     },
     "execution_count": 145,
     "metadata": {},
     "output_type": "execute_result"
    }
   ],
   "source": [
    "arrayOrd = np.sort(np.random.randint(1,11,(15)))\n",
    "print(arrayOrd)\n"
   ]
  },
  {
   "cell_type": "markdown",
   "id": "cd75615a",
   "metadata": {},
   "source": [
    "17. Devuelva la suma de los valores del vector del ejercicio anterior"
   ]
  },
  {
   "cell_type": "code",
   "execution_count": 158,
   "id": "a0ee97cd",
   "metadata": {},
   "outputs": [
    {
     "data": {
      "text/plain": [
       "324"
      ]
     },
     "execution_count": 158,
     "metadata": {},
     "output_type": "execute_result"
    }
   ],
   "source": [
    "np.sum(arrayOrd)"
   ]
  },
  {
   "cell_type": "markdown",
   "id": "aa3d5192",
   "metadata": {},
   "source": [
    "18. Devuelve el resultado de la suma del vector ejercicio 16 de una forma más rápida que utilizar np.sum"
   ]
  },
  {
   "cell_type": "code",
   "execution_count": 159,
   "id": "c9031942",
   "metadata": {},
   "outputs": [
    {
     "data": {
      "text/plain": [
       "324"
      ]
     },
     "execution_count": 159,
     "metadata": {},
     "output_type": "execute_result"
    }
   ],
   "source": [
    "from functools import reduce\n",
    "reduce(lambda acu,x: acu+x,arrayOrd)"
   ]
  },
  {
   "cell_type": "markdown",
   "id": "34163b26",
   "metadata": {},
   "source": [
    "19. Crea un vector aleatorio de tamaño 20 y reemplaza el máximo valor por 0"
   ]
  },
  {
   "cell_type": "code",
   "execution_count": 163,
   "id": "34ab68d5",
   "metadata": {},
   "outputs": [
    {
     "name": "stdout",
     "output_type": "stream",
     "text": [
      "0.9187953785180792\n",
      "[0.03636356 0.04774722 0.         0.74880601 0.80758082 0.07129794\n",
      " 0.55775562 0.72686344 0.60025358 0.5118755  0.67762075 0.61736476\n",
      " 0.57847206 0.10022047 0.91451155 0.54524246 0.6651577  0.91879538\n",
      " 0.85508963 0.70859512]\n"
     ]
    }
   ],
   "source": [
    "arrRand = np.random.random(20)\n",
    "arrRand[arrRand == np.max(arrRand)] = 0\n",
    "print(np.max(arrRand))\n",
    "print(arrRand)"
   ]
  },
  {
   "cell_type": "markdown",
   "id": "2b9f71a0",
   "metadata": {},
   "source": [
    "20. Itera un numpy arrays mostrando su posición y el valor"
   ]
  },
  {
   "cell_type": "code",
   "execution_count": 5,
   "id": "967aec44",
   "metadata": {},
   "outputs": [
    {
     "name": "stdout",
     "output_type": "stream",
     "text": [
      "((0,), 3)\n",
      "((1,), 7)\n",
      "((2,), 4)\n",
      "((3,), 10)\n",
      "((4,), 3)\n",
      "((5,), 3)\n",
      "((6,), 2)\n",
      "((7,), 9)\n",
      "((8,), 4)\n",
      "((9,), 4)\n"
     ]
    }
   ],
   "source": [
    "array1 = np.random.randint(1,11,(10))\n",
    "for i in np.ndenumerate(array1):\n",
    "    print(i)"
   ]
  },
  {
   "cell_type": "markdown",
   "id": "47ff80af",
   "metadata": {},
   "source": [
    "21. Resta a cada elemento la media calculada de su fila de la matriz"
   ]
  },
  {
   "cell_type": "code",
   "execution_count": 12,
   "id": "64ee7ae4",
   "metadata": {},
   "outputs": [
    {
     "name": "stdout",
     "output_type": "stream",
     "text": [
      "[[15  7 13]\n",
      " [20  6  8]\n",
      " [ 9 12  5]]\n",
      "\n",
      "Resultado\n",
      "[[ 4 -4  2]\n",
      " [ 9 -5 -3]\n",
      " [ 1  4 -3]]\n"
     ]
    }
   ],
   "source": [
    "array1 = np.random.randint(1,21,(3,3))\n",
    "print(array1)\n",
    "print()\n",
    "\n",
    "for i in range(len(array1)):\n",
    "    array1[i] -= int(np.mean(array1[i]))\n",
    "\n",
    "print(\"Resultado:\")\n",
    "print(array1)"
   ]
  },
  {
   "cell_type": "markdown",
   "id": "f31bee4d",
   "metadata": {},
   "source": [
    "22. Crea una matriz de 6x6 y ordenala por la 4ª fila"
   ]
  },
  {
   "cell_type": "code",
   "execution_count": 16,
   "id": "279af8dd",
   "metadata": {},
   "outputs": [
    {
     "name": "stdout",
     "output_type": "stream",
     "text": [
      "[[11 11  9 18 15 19]\n",
      " [ 2 12  3 16  8 11]\n",
      " [16 10 16  7 15  7]\n",
      " [ 4 14 14 14 20 11]\n",
      " [ 9 17  2  2 20  8]\n",
      " [ 8 12 10  2  4 14]]\n",
      "\n",
      "[[11 11  9 18 15 19]\n",
      " [ 2 12  3 16  8 11]\n",
      " [16 10 16  7 15  7]\n",
      " [ 4 11 14 14 14 20]\n",
      " [ 9 17  2  2 20  8]\n",
      " [ 8 12 10  2  4 14]]\n"
     ]
    }
   ],
   "source": [
    "array1 = np.random.randint(1,21,(6,6))\n",
    "print(array1)\n",
    "print()\n",
    "\n",
    "array1[3,:] = np.sort(array1[3,:])\n",
    "print(array1)"
   ]
  },
  {
   "cell_type": "markdown",
   "id": "7a67ce90",
   "metadata": {},
   "source": [
    "23. Existiendo el vector [1, 2, 3, 4, 5], construir un nuevo vector con 3 ceros consecuitovs entre cada valor del vector anterior"
   ]
  },
  {
   "cell_type": "code",
   "execution_count": 45,
   "id": "49c6f83b",
   "metadata": {},
   "outputs": [
    {
     "name": "stdout",
     "output_type": "stream",
     "text": [
      "[1. 0. 0. 0. 2. 0. 0. 0. 3. 0. 0. 0. 4. 0. 0. 0. 5. 0. 0. 0.]\n"
     ]
    }
   ],
   "source": [
    "vector = np.arange(1,6)\n",
    "#Se multiplica por 4 porque son 3 elementos 0 mas el elemento del vector\n",
    "array1 = np.zeros(vector.size*4)\n",
    "\n",
    "for i in range(vector.size):\n",
    "    array1[i*4] = vector[i]\n",
    "\n",
    "print(array1)"
   ]
  },
  {
   "cell_type": "markdown",
   "id": "fe2632d3",
   "metadata": {},
   "source": [
    "24. Crea un vector con números aleatorios de 5x5 e intercambia la fila segunda por la tercera"
   ]
  },
  {
   "cell_type": "code",
   "execution_count": 50,
   "id": "50ab6bb3",
   "metadata": {},
   "outputs": [
    {
     "name": "stdout",
     "output_type": "stream",
     "text": [
      "[[15 42 21 11  5]\n",
      " [20 31 46 28  2]\n",
      " [ 4 35 39 33  4]\n",
      " [ 3 10 41 10 39]\n",
      " [41 16 13 37 45]]\n",
      "\n",
      "[[15 42 21 11  5]\n",
      " [ 4 35 39 33  4]\n",
      " [20 31 46 28  2]\n",
      " [ 3 10 41 10 39]\n",
      " [41 16 13 37 45]]\n"
     ]
    }
   ],
   "source": [
    "arrRand = np.random.randint(1,50,(5,5))\n",
    "print(arrRand)\n",
    "print()\n",
    "\n",
    "arrRand[1:3] = np.flipud(arrRand[1:3])\n",
    "print(arrRand)"
   ]
  }
 ],
 "metadata": {
  "kernelspec": {
   "display_name": "Python 3",
   "language": "python",
   "name": "python3"
  },
  "language_info": {
   "codemirror_mode": {
    "name": "ipython",
    "version": 3
   },
   "file_extension": ".py",
   "mimetype": "text/x-python",
   "name": "python",
   "nbconvert_exporter": "python",
   "pygments_lexer": "ipython3",
   "version": "3.11.0 (main, Oct 24 2022, 18:26:48) [MSC v.1933 64 bit (AMD64)]"
  },
  "vscode": {
   "interpreter": {
    "hash": "8788d27cba0b2dbc0718fef4e715449fab30bd59957c04e36cc9c246182e8fe0"
   }
  }
 },
 "nbformat": 4,
 "nbformat_minor": 5
}
