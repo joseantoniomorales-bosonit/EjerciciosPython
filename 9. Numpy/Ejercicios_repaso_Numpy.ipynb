{
 "cells": [
  {
   "cell_type": "markdown",
   "id": "f1920790",
   "metadata": {},
   "source": [
    "## Ejercicios repaso Numpy"
   ]
  },
  {
   "cell_type": "code",
   "execution_count": 4,
   "id": "a5585d0e",
   "metadata": {},
   "outputs": [],
   "source": [
    "import numpy as np"
   ]
  },
  {
   "cell_type": "markdown",
   "id": "ff25f152",
   "metadata": {},
   "source": [
    "1. Crea un vector de ceros de 10 elementos excepto el quinto elemento que debe de ser 1"
   ]
  },
  {
   "cell_type": "code",
   "execution_count": 6,
   "id": "5e01a1b0",
   "metadata": {},
   "outputs": [
    {
     "data": {
      "text/plain": [
       "array([0., 0., 0., 0., 1., 0., 0., 0., 0., 0.])"
      ]
     },
     "execution_count": 6,
     "metadata": {},
     "output_type": "execute_result"
    }
   ],
   "source": [
    "array1 = np.zeros(10)\n",
    "array1[4] = 1"
   ]
  },
  {
   "cell_type": "markdown",
   "id": "cf002b18",
   "metadata": {},
   "source": [
    "2. Crea un vector con los valores desde el 10 hasta 49"
   ]
  },
  {
   "cell_type": "code",
   "execution_count": 23,
   "id": "803e98ad",
   "metadata": {},
   "outputs": [],
   "source": [
    "array2 = np.arange(10,50)"
   ]
  },
  {
   "cell_type": "markdown",
   "id": "37d01f7f",
   "metadata": {},
   "source": [
    "3. Modifica el vector del ejercicio anterior y calcula el inverso"
   ]
  },
  {
   "cell_type": "code",
   "execution_count": 44,
   "id": "8da863de",
   "metadata": {},
   "outputs": [
    {
     "ename": "LinAlgError",
     "evalue": "1-dimensional array given. Array must be at least two-dimensional",
     "output_type": "error",
     "traceback": [
      "\u001b[1;31m---------------------------------------------------------------------------\u001b[0m",
      "\u001b[1;31mLinAlgError\u001b[0m                               Traceback (most recent call last)",
      "Cell \u001b[1;32mIn[44], line 3\u001b[0m\n\u001b[0;32m      1\u001b[0m \u001b[39mfrom\u001b[39;00m \u001b[39mnumpy\u001b[39;00m\u001b[39m.\u001b[39;00m\u001b[39mlinalg\u001b[39;00m \u001b[39mimport\u001b[39;00m inv\n\u001b[0;32m      2\u001b[0m array2 \u001b[39m=\u001b[39m array2\u001b[39m.\u001b[39mreshape(\u001b[39m2\u001b[39m,\u001b[39m20\u001b[39m)\n\u001b[1;32m----> 3\u001b[0m arrayInv \u001b[39m=\u001b[39m np\u001b[39m.\u001b[39mdot(inv(array2[\u001b[39m0\u001b[39;49m]),array2[\u001b[39m1\u001b[39m])\n\u001b[0;32m      4\u001b[0m \u001b[39m#array2 = np.array(array2,dtype=float).reshape(10,4)\u001b[39;00m\n\u001b[0;32m      5\u001b[0m \u001b[39m#inv(array2)\u001b[39;00m\n\u001b[0;32m      6\u001b[0m \u001b[39m#array2 = np.linalg.inv(array2)\u001b[39;00m\n\u001b[0;32m      7\u001b[0m \u001b[39m#inv(np.matrix(array2))\u001b[39;00m\n\u001b[0;32m      8\u001b[0m \u001b[39m#array2\u001b[39;00m\n",
      "File \u001b[1;32m<__array_function__ internals>:180\u001b[0m, in \u001b[0;36minv\u001b[1;34m(*args, **kwargs)\u001b[0m\n",
      "File \u001b[1;32mc:\\Users\\joseantonio.morales\\AppData\\Local\\Programs\\Python\\Python311\\Lib\\site-packages\\numpy\\linalg\\linalg.py:546\u001b[0m, in \u001b[0;36minv\u001b[1;34m(a)\u001b[0m\n\u001b[0;32m    485\u001b[0m \u001b[39m\"\"\"\u001b[39;00m\n\u001b[0;32m    486\u001b[0m \u001b[39mCompute the (multiplicative) inverse of a matrix.\u001b[39;00m\n\u001b[0;32m    487\u001b[0m \n\u001b[1;32m   (...)\u001b[0m\n\u001b[0;32m    543\u001b[0m \n\u001b[0;32m    544\u001b[0m \u001b[39m\"\"\"\u001b[39;00m\n\u001b[0;32m    545\u001b[0m a, wrap \u001b[39m=\u001b[39m _makearray(a)\n\u001b[1;32m--> 546\u001b[0m _assert_stacked_2d(a)\n\u001b[0;32m    547\u001b[0m _assert_stacked_square(a)\n\u001b[0;32m    548\u001b[0m t, result_t \u001b[39m=\u001b[39m _commonType(a)\n",
      "File \u001b[1;32mc:\\Users\\joseantonio.morales\\AppData\\Local\\Programs\\Python\\Python311\\Lib\\site-packages\\numpy\\linalg\\linalg.py:197\u001b[0m, in \u001b[0;36m_assert_stacked_2d\u001b[1;34m(*arrays)\u001b[0m\n\u001b[0;32m    195\u001b[0m \u001b[39mfor\u001b[39;00m a \u001b[39min\u001b[39;00m arrays:\n\u001b[0;32m    196\u001b[0m     \u001b[39mif\u001b[39;00m a\u001b[39m.\u001b[39mndim \u001b[39m<\u001b[39m \u001b[39m2\u001b[39m:\n\u001b[1;32m--> 197\u001b[0m         \u001b[39mraise\u001b[39;00m LinAlgError(\u001b[39m'\u001b[39m\u001b[39m%d\u001b[39;00m\u001b[39m-dimensional array given. Array must be \u001b[39m\u001b[39m'\u001b[39m\n\u001b[0;32m    198\u001b[0m                 \u001b[39m'\u001b[39m\u001b[39mat least two-dimensional\u001b[39m\u001b[39m'\u001b[39m \u001b[39m%\u001b[39m a\u001b[39m.\u001b[39mndim)\n",
      "\u001b[1;31mLinAlgError\u001b[0m: 1-dimensional array given. Array must be at least two-dimensional"
     ]
    }
   ],
   "source": [
    "from numpy.linalg import inv\n",
    "array2 = array2.reshape(2,20)\n"
   ]
  },
  {
   "cell_type": "markdown",
   "id": "63df42e5",
   "metadata": {},
   "source": [
    "4. Crea una matriz de 3x3 con los valores desde 0 hasta 8"
   ]
  },
  {
   "cell_type": "code",
   "execution_count": 7,
   "id": "1986731d",
   "metadata": {},
   "outputs": [
    {
     "data": {
      "text/plain": [
       "array([[0, 1, 2],\n",
       "       [3, 4, 5],\n",
       "       [6, 7, 8]])"
      ]
     },
     "execution_count": 7,
     "metadata": {},
     "output_type": "execute_result"
    }
   ],
   "source": [
    "array3 = np.arange(0,9).reshape(3,3)\n",
    "array3"
   ]
  },
  {
   "cell_type": "markdown",
   "id": "df4f4b4c",
   "metadata": {},
   "source": [
    "5. Crea una matriz de identidad de 4x4"
   ]
  },
  {
   "cell_type": "code",
   "execution_count": 7,
   "id": "866574cf",
   "metadata": {},
   "outputs": [
    {
     "data": {
      "text/plain": [
       "array([[1., 0., 0., 0.],\n",
       "       [0., 1., 0., 0.],\n",
       "       [0., 0., 1., 0.],\n",
       "       [0., 0., 0., 1.]])"
      ]
     },
     "execution_count": 7,
     "metadata": {},
     "output_type": "execute_result"
    }
   ],
   "source": [
    "arrayIdent = np.identity(4)"
   ]
  },
  {
   "cell_type": "markdown",
   "id": "a51ecf94",
   "metadata": {},
   "source": [
    "6. Crea una matriz de 5x5x5 con valores aleatorios"
   ]
  },
  {
   "cell_type": "code",
   "execution_count": 49,
   "id": "a8f8d0d3",
   "metadata": {},
   "outputs": [
    {
     "name": "stdout",
     "output_type": "stream",
     "text": [
      "[[[0.38379524 0.11645953 0.20917057 0.91413921 0.87325987]\n",
      "  [0.55169815 0.64519938 0.23770988 0.29935183 0.12554064]\n",
      "  [0.63067591 0.93803635 0.55461108 0.47613328 0.6797356 ]\n",
      "  [0.87935445 0.98999991 0.7608539  0.33938421 0.70034447]\n",
      "  [0.12357793 0.31741721 0.83024077 0.45199159 0.54780263]]\n",
      "\n",
      " [[0.97002878 0.17902297 0.43806133 0.36533978 0.93299541]\n",
      "  [0.82435433 0.14376552 0.24429981 0.54852228 0.15577524]\n",
      "  [0.14520482 0.81109515 0.17844875 0.99950271 0.51646919]\n",
      "  [0.4883108  0.92549407 0.9853177  0.51789891 0.63140226]\n",
      "  [0.29745747 0.91026752 0.71352022 0.30764145 0.36651866]]\n",
      "\n",
      " [[0.78180635 0.68609118 0.99964534 0.45511866 0.85429382]\n",
      "  [0.43795623 0.38752923 0.9338834  0.23424766 0.6353706 ]\n",
      "  [0.5155848  0.4322127  0.86869428 0.21919232 0.45996138]\n",
      "  [0.92662265 0.1978778  0.93707869 0.73602944 0.38994278]\n",
      "  [0.57589833 0.5950483  0.90609493 0.09181725 0.77084627]]\n",
      "\n",
      " [[0.14461292 0.9551749  0.76460478 0.76817534 0.41394205]\n",
      "  [0.03554909 0.32533767 0.26710203 0.28513314 0.87940114]\n",
      "  [0.84057642 0.97297406 0.2443803  0.44480786 0.37036005]\n",
      "  [0.30876722 0.64981708 0.80292127 0.59997219 0.19471174]\n",
      "  [0.94871601 0.51148974 0.40424023 0.61187891 0.10956122]]\n",
      "\n",
      " [[0.45118197 0.94985069 0.04808241 0.41034168 0.73981022]\n",
      "  [0.06380798 0.67080024 0.85032503 0.65053717 0.05470573]\n",
      "  [0.76038904 0.86304887 0.02310033 0.40087756 0.46599216]\n",
      "  [0.78322255 0.54266482 0.63814777 0.82535283 0.57333586]\n",
      "  [0.85398512 0.8871662  0.55983405 0.68737433 0.31565701]]]\n"
     ]
    }
   ],
   "source": [
    "arrayRand = np.random.rand(5,5,5)\n",
    "print(arrayRand)"
   ]
  },
  {
   "cell_type": "markdown",
   "id": "9fc435e2",
   "metadata": {},
   "source": [
    "7. Calcula la media del vector anterior"
   ]
  },
  {
   "cell_type": "code",
   "execution_count": 50,
   "id": "60f470fb",
   "metadata": {},
   "outputs": [
    {
     "data": {
      "text/plain": [
       "0.5530067362376061"
      ]
     },
     "execution_count": 50,
     "metadata": {},
     "output_type": "execute_result"
    }
   ],
   "source": [
    "np.mean(arrayRand)"
   ]
  },
  {
   "cell_type": "markdown",
   "id": "a0e19b55",
   "metadata": {},
   "source": [
    "8. Crea una matriz 3x3 con los valores 1,2,3 en la diagonal (el resto de elementos deben de ser 0)"
   ]
  },
  {
   "cell_type": "code",
   "execution_count": 59,
   "id": "1a4378e7",
   "metadata": {},
   "outputs": [
    {
     "name": "stdout",
     "output_type": "stream",
     "text": [
      "[[1 0 0]\n",
      " [0 2 0]\n",
      " [0 0 3]]\n"
     ]
    }
   ],
   "source": [
    "arrayDiag = np.diagflat(np.arange(1,4))\n",
    "print(arrayDiag)"
   ]
  },
  {
   "cell_type": "markdown",
   "id": "fb43e162",
   "metadata": {},
   "source": [
    "9. Crea una matriz 4x4 con los valores 1,2,3 en la diagonal inferior (el resto de elementos deben de ser 0)\n",
    "[[0, 0, 0, 0],\n",
    "[1, 0, 0, 0],\n",
    "[0, 2, 0, 0],\n",
    "[0, 0, 3, 0]]"
   ]
  },
  {
   "cell_type": "code",
   "execution_count": 64,
   "id": "1ce25ba5",
   "metadata": {},
   "outputs": [
    {
     "name": "stdout",
     "output_type": "stream",
     "text": [
      "[[0 0 0 0]\n",
      " [1 0 0 0]\n",
      " [0 2 0 0]\n",
      " [0 0 3 0]]\n"
     ]
    }
   ],
   "source": [
    "arrayDiag = np.diagflat(np.arange(1,4),-1)\n",
    "print(arrayDiag)"
   ]
  },
  {
   "cell_type": "markdown",
   "id": "06c624aa",
   "metadata": {},
   "source": [
    "10. Normaliza una matriz de 4x4 con valores aleatorios"
   ]
  },
  {
   "cell_type": "code",
   "execution_count": null,
   "id": "a3452362",
   "metadata": {},
   "outputs": [],
   "source": []
  },
  {
   "cell_type": "markdown",
   "id": "04d68eb5",
   "metadata": {},
   "source": [
    "11. Multiplica una matriz de 6x3 (todos valores a 1) por una de 3x2 (todos valores a 1)"
   ]
  },
  {
   "cell_type": "markdown",
   "id": "db196dd1",
   "metadata": {},
   "source": [
    "12. Realiza la multiplicación del ejercicio anterior utilizando un operador"
   ]
  },
  {
   "cell_type": "markdown",
   "id": "7a0f8252",
   "metadata": {},
   "source": [
    "13. Cree una matriz de 1 dimensión con los valores desde 1 a 10, con los valores desde 3 hasta 8 en negativo. [1, 2 , -3, -4, -5, -6, -7, -8, 9, 10]"
   ]
  },
  {
   "cell_type": "markdown",
   "id": "6a698b21",
   "metadata": {},
   "source": [
    "14. Cree un vector de 10 elementos con los valores aleatorios entre 0 y 10"
   ]
  },
  {
   "cell_type": "markdown",
   "id": "68ec90bb",
   "metadata": {},
   "source": [
    "15. Cree un vector con todas las fechas de abril de 2022"
   ]
  },
  {
   "cell_type": "markdown",
   "id": "45e4793c",
   "metadata": {},
   "source": [
    "16. Crea un vector ordenado de 15 elementos con valores aleatorios entre 1 y 10"
   ]
  },
  {
   "cell_type": "markdown",
   "id": "cd75615a",
   "metadata": {},
   "source": [
    "17. Devuelva la suma de los valores del vector del ejercicio anterior"
   ]
  },
  {
   "cell_type": "markdown",
   "id": "aa3d5192",
   "metadata": {},
   "source": [
    "18. Devuelve el resultado de la suma del vector ejercicio 16 de una forma más rápida que utilizar np.sum"
   ]
  },
  {
   "cell_type": "markdown",
   "id": "34163b26",
   "metadata": {},
   "source": [
    "19. Crea un vector aleatorio de tamaño 20 y reemplaza el máximo valor por 0"
   ]
  },
  {
   "cell_type": "markdown",
   "id": "2b9f71a0",
   "metadata": {},
   "source": [
    "20. Itera un numpy arrays mostrando su posición y el valor"
   ]
  },
  {
   "cell_type": "markdown",
   "id": "47ff80af",
   "metadata": {},
   "source": [
    "21. Resta a cada elemento la media calculada de su fila de la matriz"
   ]
  },
  {
   "cell_type": "markdown",
   "id": "f31bee4d",
   "metadata": {},
   "source": [
    "22. Crea una matriz de 6x6 y ordenala por la 4ª fila"
   ]
  },
  {
   "cell_type": "markdown",
   "id": "7a67ce90",
   "metadata": {},
   "source": [
    "23. Existiendo el vector [1, 2, 3, 4, 5], construir un nuevo vector con 3 ceros consecuitovs entre cada valor del vector anterior"
   ]
  },
  {
   "cell_type": "markdown",
   "id": "fe2632d3",
   "metadata": {},
   "source": [
    "24. Crea un vector con números aleatorios de 5x5 e intercambia la fila segunda por la tercera"
   ]
  }
 ],
 "metadata": {
  "kernelspec": {
   "display_name": "Python 3",
   "language": "python",
   "name": "python3"
  },
  "language_info": {
   "codemirror_mode": {
    "name": "ipython",
    "version": 3
   },
   "file_extension": ".py",
   "mimetype": "text/x-python",
   "name": "python",
   "nbconvert_exporter": "python",
   "pygments_lexer": "ipython3",
   "version": "3.11.0"
  },
  "vscode": {
   "interpreter": {
    "hash": "8788d27cba0b2dbc0718fef4e715449fab30bd59957c04e36cc9c246182e8fe0"
   }
  }
 },
 "nbformat": 4,
 "nbformat_minor": 5
}
