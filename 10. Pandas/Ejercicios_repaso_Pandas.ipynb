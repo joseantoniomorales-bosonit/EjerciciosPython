{
 "cells": [
  {
   "cell_type": "markdown",
   "id": "4f8157d3",
   "metadata": {},
   "source": [
    "## Ejercicios repaso Pandas"
   ]
  },
  {
   "cell_type": "code",
   "execution_count": null,
   "id": "d1f054dc",
   "metadata": {},
   "outputs": [],
   "source": [
    "lst1 = ['gato', 'perro', 'ratón', 'elefante', 'rinoceronte']\n",
    "lst2 = [x for x in range(1,6)]"
   ]
  },
  {
   "cell_type": "markdown",
   "id": "f3a1b319",
   "metadata": {},
   "source": [
    "1. Convierte lst1 a un Series y lst2 a otro Series. Una vez creados, combinar los Series para crear un DataFrame"
   ]
  },
  {
   "cell_type": "markdown",
   "id": "37ee267c",
   "metadata": {},
   "source": [
    "2. Renombra la Series basada en lst1 creada previamente a \"animales\""
   ]
  },
  {
   "cell_type": "markdown",
   "id": "49473b99",
   "metadata": {},
   "source": [
    "3. Crea dos series de tamaño 10 con valores entre 1 y 10. Elimina del series1 los elementos que aparezcan en Series2"
   ]
  },
  {
   "cell_type": "markdown",
   "id": "548bcbb2",
   "metadata": {},
   "source": [
    "4. Obtén los elementos no comunes en ambas series"
   ]
  },
  {
   "cell_type": "markdown",
   "id": "ebc0c811",
   "metadata": {},
   "source": [
    "5. Obtén el mínimo y los percentiles 25, 50, 75 y 80 de la primera serie"
   ]
  },
  {
   "cell_type": "markdown",
   "id": "16c14a4f",
   "metadata": {},
   "source": [
    "6. Obtén la frecuencia con la que se repite cada valor"
   ]
  },
  {
   "cell_type": "markdown",
   "id": "13e8adcd",
   "metadata": {},
   "source": [
    "7. Mantén el valor de los dos elementos más repetidos y al resto asignale el valor \"Otros\""
   ]
  },
  {
   "cell_type": "markdown",
   "id": "6f62999c",
   "metadata": {},
   "source": [
    "8. Crea un Series de tamaño 35 con valores aleatorios. Crea un DataFrame basado en este Series de dimensión 7 filas y 5 columnas"
   ]
  },
  {
   "cell_type": "markdown",
   "id": "4aeca4e5",
   "metadata": {},
   "source": [
    "9. Partiendo de las series creadas en el *Ejercicio 1* apilar las dos series verticalmente."
   ]
  },
  {
   "cell_type": "markdown",
   "id": "2bc5028a",
   "metadata": {},
   "source": [
    "10. Ahora apila horizontalmente"
   ]
  },
  {
   "cell_type": "markdown",
   "id": "22a258c7",
   "metadata": {},
   "source": [
    "11. Cómo convertir en mayúscula el primer caracter de Series de animales"
   ]
  },
  {
   "cell_type": "markdown",
   "id": "4cefcc04",
   "metadata": {},
   "source": [
    "12. Calcula el número de caracteres de cada elemento"
   ]
  },
  {
   "cell_type": "markdown",
   "id": "05040d2c",
   "metadata": {},
   "source": [
    "13. Calcula la diferencia entre los valores de cada elemento consecutivo del Series numérico"
   ]
  },
  {
   "cell_type": "markdown",
   "id": "16d1e640",
   "metadata": {},
   "source": [
    "14. Dada la lista siguiente de fechas, carga un Series de string a datetime\n",
    "['2015-08-06T12:20', '2012-04-02', '2021/01/03', '20191121', '01-12-2015', '04 Jan 2007']"
   ]
  },
  {
   "cell_type": "markdown",
   "id": "dcdc6ddb",
   "metadata": {},
   "source": [
    "15. Obtén el día del año del Series anterior"
   ]
  },
  {
   "cell_type": "markdown",
   "id": "f46a8e66",
   "metadata": {},
   "source": [
    "16. Obtén el día de la semana"
   ]
  },
  {
   "cell_type": "markdown",
   "id": "d9890155",
   "metadata": {},
   "source": [
    "17. Crea un DataFrame basado en un Series de 10 elementos que se genere aleatoriamente entre \"manzana\", \"plátano\", \"zanahoria\" y pesos que sea un Series de 10 elementos aleatorios entre 1 y 10. Calcula la media del peso por fruta."
   ]
  },
  {
   "cell_type": "markdown",
   "id": "1eedeed1",
   "metadata": {},
   "source": [
    "18. Crea un Series que contenga los 10 primeros lunes de 2022 como índice y un número aleatorio como valor"
   ]
  },
  {
   "cell_type": "markdown",
   "id": "f2eaa4e8",
   "metadata": {},
   "source": [
    "19. Crea un DataFrame basado en el Series del *Ejercicio 18* con las columnas llamadas fecha y precio"
   ]
  },
  {
   "cell_type": "markdown",
   "id": "f0b3989c",
   "metadata": {},
   "source": [
    "20. Genera un DataFrame de 5x5 y posteriormente invierte el orden de los valores de sus filas"
   ]
  },
  {
   "cell_type": "markdown",
   "id": "27ca9a3f",
   "metadata": {},
   "source": [
    "21. Añade una nueva columna que sea el máximo entre el mínimo de cada fila"
   ]
  }
 ],
 "metadata": {
  "kernelspec": {
   "display_name": "Python 3 (ipykernel)",
   "language": "python",
   "name": "python3"
  },
  "language_info": {
   "codemirror_mode": {
    "name": "ipython",
    "version": 3
   },
   "file_extension": ".py",
   "mimetype": "text/x-python",
   "name": "python",
   "nbconvert_exporter": "python",
   "pygments_lexer": "ipython3",
   "version": "3.9.7"
  }
 },
 "nbformat": 4,
 "nbformat_minor": 5
}
