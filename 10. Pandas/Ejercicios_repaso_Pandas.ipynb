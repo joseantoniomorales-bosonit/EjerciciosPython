{
 "cells": [
  {
   "cell_type": "markdown",
   "id": "4f8157d3",
   "metadata": {},
   "source": [
    "## Ejercicios repaso Pandas"
   ]
  },
  {
   "cell_type": "code",
   "execution_count": 10,
   "id": "d1f054dc",
   "metadata": {},
   "outputs": [],
   "source": [
    "lst1 = ['gato', 'perro', 'ratón', 'elefante', 'rinoceronte']\n",
    "lst2 = [x for x in range(1,6)]"
   ]
  },
  {
   "cell_type": "markdown",
   "id": "f3a1b319",
   "metadata": {},
   "source": [
    "1. Convierte lst1 a un Series y lst2 a otro Series. Una vez creados, combinar los Series para crear un DataFrame"
   ]
  },
  {
   "cell_type": "code",
   "execution_count": 11,
   "id": "ed41a383",
   "metadata": {},
   "outputs": [
    {
     "data": {
      "text/html": [
       "<div>\n",
       "<style scoped>\n",
       "    .dataframe tbody tr th:only-of-type {\n",
       "        vertical-align: middle;\n",
       "    }\n",
       "\n",
       "    .dataframe tbody tr th {\n",
       "        vertical-align: top;\n",
       "    }\n",
       "\n",
       "    .dataframe thead th {\n",
       "        text-align: right;\n",
       "    }\n",
       "</style>\n",
       "<table border=\"1\" class=\"dataframe\">\n",
       "  <thead>\n",
       "    <tr style=\"text-align: right;\">\n",
       "      <th></th>\n",
       "      <th>Animal</th>\n",
       "      <th>Cantidad</th>\n",
       "    </tr>\n",
       "  </thead>\n",
       "  <tbody>\n",
       "    <tr>\n",
       "      <th>0</th>\n",
       "      <td>gato</td>\n",
       "      <td>1</td>\n",
       "    </tr>\n",
       "    <tr>\n",
       "      <th>1</th>\n",
       "      <td>perro</td>\n",
       "      <td>2</td>\n",
       "    </tr>\n",
       "    <tr>\n",
       "      <th>2</th>\n",
       "      <td>ratón</td>\n",
       "      <td>3</td>\n",
       "    </tr>\n",
       "    <tr>\n",
       "      <th>3</th>\n",
       "      <td>elefante</td>\n",
       "      <td>4</td>\n",
       "    </tr>\n",
       "    <tr>\n",
       "      <th>4</th>\n",
       "      <td>rinoceronte</td>\n",
       "      <td>5</td>\n",
       "    </tr>\n",
       "  </tbody>\n",
       "</table>\n",
       "</div>"
      ],
      "text/plain": [
       "        Animal  Cantidad\n",
       "0         gato         1\n",
       "1        perro         2\n",
       "2        ratón         3\n",
       "3     elefante         4\n",
       "4  rinoceronte         5"
      ]
     },
     "execution_count": 11,
     "metadata": {},
     "output_type": "execute_result"
    }
   ],
   "source": [
    "import pandas as pd\n",
    "animales = pd.Series(lst1,name=\"Animal\")\n",
    "cantidad = pd.Series(lst2,name=\"Cantidad\")\n",
    "\n",
    "df = pd.concat([animales, cantidad],axis=1)\n",
    "df"
   ]
  },
  {
   "cell_type": "markdown",
   "id": "37ee267c",
   "metadata": {},
   "source": [
    "2. Renombra la Series basada en lst1 creada previamente a \"animales\""
   ]
  },
  {
   "cell_type": "code",
   "execution_count": 12,
   "id": "ebcefa83",
   "metadata": {},
   "outputs": [],
   "source": [
    "animales.name = \"animales\""
   ]
  },
  {
   "cell_type": "markdown",
   "id": "49473b99",
   "metadata": {},
   "source": [
    "3. Crea dos series de tamaño 10 con valores entre 1 y 10. Elimina del series1 los elementos que aparezcan en Series2"
   ]
  },
  {
   "cell_type": "code",
   "execution_count": 13,
   "id": "d9ba197e",
   "metadata": {},
   "outputs": [
    {
     "data": {
      "text/plain": [
       "0    8\n",
       "1    6\n",
       "3    8\n",
       "4    9\n",
       "5    9\n",
       "6    8\n",
       "7    7\n",
       "dtype: int32"
      ]
     },
     "execution_count": 13,
     "metadata": {},
     "output_type": "execute_result"
    }
   ],
   "source": [
    "import numpy as np\n",
    "serie1 = pd.Series(np.random.randint(1,11,(10)))\n",
    "serie2 = pd.Series(np.random.randint(1,11,(10)))\n",
    "\n",
    "serie1 = serie1[~serie1.isin(serie2)]\n",
    "serie1\n",
    "\n",
    "#df[~df.Cantidad.isin(serie1)]"
   ]
  },
  {
   "cell_type": "markdown",
   "id": "548bcbb2",
   "metadata": {},
   "source": [
    "4. Obtén los elementos no comunes en ambas series"
   ]
  },
  {
   "cell_type": "code",
   "execution_count": 14,
   "id": "b4b85ac6",
   "metadata": {},
   "outputs": [
    {
     "data": {
      "text/plain": [
       "0      8\n",
       "1      6\n",
       "3      9\n",
       "6      7\n",
       "7      5\n",
       "8     10\n",
       "9      3\n",
       "10     2\n",
       "12     1\n",
       "14     4\n",
       "dtype: int32"
      ]
     },
     "execution_count": 14,
     "metadata": {},
     "output_type": "execute_result"
    }
   ],
   "source": [
    "serie3 = pd.concat([serie1,serie2],ignore_index=True)\n",
    "serie3[~serie3.duplicated(keep='first')]"
   ]
  },
  {
   "cell_type": "markdown",
   "id": "ebc0c811",
   "metadata": {},
   "source": [
    "5. Obtén el mínimo y los percentiles 25, 50, 75 y 80 de la primera serie"
   ]
  },
  {
   "cell_type": "code",
   "execution_count": 38,
   "id": "a789faf4",
   "metadata": {},
   "outputs": [
    {
     "name": "stdout",
     "output_type": "stream",
     "text": [
      "min    6.0\n",
      "25%    7.5\n",
      "50%    8.0\n",
      "75%    8.5\n",
      "dtype: float64\n"
     ]
    }
   ],
   "source": [
    "infoSerie = serie1.describe([.25,.5,.75,.8]).loc[[\"min\",\"25%\",\"50%\",\"75%\"]]\n",
    "print(infoSerie)"
   ]
  },
  {
   "cell_type": "markdown",
   "id": "16c14a4f",
   "metadata": {},
   "source": [
    "6. Obtén la frecuencia con la que se repite cada valor"
   ]
  },
  {
   "cell_type": "code",
   "execution_count": 40,
   "id": "bf451ce9",
   "metadata": {},
   "outputs": [
    {
     "name": "stdout",
     "output_type": "stream",
     "text": [
      "0    8\n",
      "1    6\n",
      "3    8\n",
      "4    9\n",
      "5    9\n",
      "6    8\n",
      "7    7\n",
      "dtype: int32\n"
     ]
    },
    {
     "data": {
      "text/plain": [
       "8    3\n",
       "9    2\n",
       "6    1\n",
       "7    1\n",
       "dtype: int64"
      ]
     },
     "execution_count": 40,
     "metadata": {},
     "output_type": "execute_result"
    }
   ],
   "source": [
    "serie1.value_counts()"
   ]
  },
  {
   "cell_type": "markdown",
   "id": "13e8adcd",
   "metadata": {},
   "source": [
    "7. Mantén el valor de los dos elementos más repetidos y al resto asignale el valor \"Otros\""
   ]
  },
  {
   "cell_type": "code",
   "execution_count": 48,
   "id": "0821eb53",
   "metadata": {},
   "outputs": [
    {
     "name": "stdout",
     "output_type": "stream",
     "text": [
      "8        3\n",
      "9        2\n",
      "6    Otros\n",
      "7    Otros\n",
      "dtype: object\n"
     ]
    }
   ],
   "source": [
    "repetidos = serie1.value_counts()\n",
    "repetidos.iloc[2:] = \"Otros\"\n",
    "print(repetidos)"
   ]
  },
  {
   "cell_type": "markdown",
   "id": "6f62999c",
   "metadata": {},
   "source": [
    "8. Crea un Series de tamaño 35 con valores aleatorios. Crea un DataFrame basado en este Series de dimensión 7 filas y 5 columnas"
   ]
  },
  {
   "cell_type": "code",
   "execution_count": 53,
   "id": "eb14d748",
   "metadata": {},
   "outputs": [
    {
     "data": {
      "text/html": [
       "<div>\n",
       "<style scoped>\n",
       "    .dataframe tbody tr th:only-of-type {\n",
       "        vertical-align: middle;\n",
       "    }\n",
       "\n",
       "    .dataframe tbody tr th {\n",
       "        vertical-align: top;\n",
       "    }\n",
       "\n",
       "    .dataframe thead th {\n",
       "        text-align: right;\n",
       "    }\n",
       "</style>\n",
       "<table border=\"1\" class=\"dataframe\">\n",
       "  <thead>\n",
       "    <tr style=\"text-align: right;\">\n",
       "      <th></th>\n",
       "      <th>0</th>\n",
       "      <th>1</th>\n",
       "      <th>2</th>\n",
       "      <th>3</th>\n",
       "      <th>4</th>\n",
       "    </tr>\n",
       "  </thead>\n",
       "  <tbody>\n",
       "    <tr>\n",
       "      <th>0</th>\n",
       "      <td>30</td>\n",
       "      <td>16</td>\n",
       "      <td>36</td>\n",
       "      <td>87</td>\n",
       "      <td>57</td>\n",
       "    </tr>\n",
       "    <tr>\n",
       "      <th>1</th>\n",
       "      <td>15</td>\n",
       "      <td>36</td>\n",
       "      <td>60</td>\n",
       "      <td>29</td>\n",
       "      <td>88</td>\n",
       "    </tr>\n",
       "    <tr>\n",
       "      <th>2</th>\n",
       "      <td>13</td>\n",
       "      <td>21</td>\n",
       "      <td>90</td>\n",
       "      <td>52</td>\n",
       "      <td>60</td>\n",
       "    </tr>\n",
       "    <tr>\n",
       "      <th>3</th>\n",
       "      <td>79</td>\n",
       "      <td>80</td>\n",
       "      <td>1</td>\n",
       "      <td>13</td>\n",
       "      <td>84</td>\n",
       "    </tr>\n",
       "    <tr>\n",
       "      <th>4</th>\n",
       "      <td>56</td>\n",
       "      <td>30</td>\n",
       "      <td>6</td>\n",
       "      <td>44</td>\n",
       "      <td>8</td>\n",
       "    </tr>\n",
       "    <tr>\n",
       "      <th>5</th>\n",
       "      <td>86</td>\n",
       "      <td>72</td>\n",
       "      <td>74</td>\n",
       "      <td>89</td>\n",
       "      <td>74</td>\n",
       "    </tr>\n",
       "    <tr>\n",
       "      <th>6</th>\n",
       "      <td>18</td>\n",
       "      <td>54</td>\n",
       "      <td>20</td>\n",
       "      <td>100</td>\n",
       "      <td>32</td>\n",
       "    </tr>\n",
       "  </tbody>\n",
       "</table>\n",
       "</div>"
      ],
      "text/plain": [
       "    0   1   2    3   4\n",
       "0  30  16  36   87  57\n",
       "1  15  36  60   29  88\n",
       "2  13  21  90   52  60\n",
       "3  79  80   1   13  84\n",
       "4  56  30   6   44   8\n",
       "5  86  72  74   89  74\n",
       "6  18  54  20  100  32"
      ]
     },
     "execution_count": 53,
     "metadata": {},
     "output_type": "execute_result"
    }
   ],
   "source": [
    "import numpy as np\n",
    "\n",
    "serieRand = pd.Series(np.random.randint(1,101,(35)))\n",
    "dfRand = pd.DataFrame(serieRand.values.reshape(7,5))\n",
    "dfRand"
   ]
  },
  {
   "cell_type": "markdown",
   "id": "4aeca4e5",
   "metadata": {},
   "source": [
    "9. Partiendo de las series creadas en el *Ejercicio 1* apilar las dos series verticalmente."
   ]
  },
  {
   "cell_type": "code",
   "execution_count": 61,
   "id": "a0bfcdcc",
   "metadata": {},
   "outputs": [
    {
     "data": {
      "text/plain": [
       "0           gato\n",
       "1          perro\n",
       "2          ratón\n",
       "3       elefante\n",
       "4    rinoceronte\n",
       "5              1\n",
       "6              2\n",
       "7              3\n",
       "8              4\n",
       "9              5\n",
       "dtype: object"
      ]
     },
     "execution_count": 61,
     "metadata": {},
     "output_type": "execute_result"
    }
   ],
   "source": [
    "pd.concat([animales,cantidad],ignore_index=True)"
   ]
  },
  {
   "cell_type": "markdown",
   "id": "2bc5028a",
   "metadata": {},
   "source": [
    "10. Ahora apila horizontalmente"
   ]
  },
  {
   "cell_type": "code",
   "execution_count": 60,
   "id": "a1e818de",
   "metadata": {},
   "outputs": [
    {
     "data": {
      "text/html": [
       "<div>\n",
       "<style scoped>\n",
       "    .dataframe tbody tr th:only-of-type {\n",
       "        vertical-align: middle;\n",
       "    }\n",
       "\n",
       "    .dataframe tbody tr th {\n",
       "        vertical-align: top;\n",
       "    }\n",
       "\n",
       "    .dataframe thead th {\n",
       "        text-align: right;\n",
       "    }\n",
       "</style>\n",
       "<table border=\"1\" class=\"dataframe\">\n",
       "  <thead>\n",
       "    <tr style=\"text-align: right;\">\n",
       "      <th></th>\n",
       "      <th>animales</th>\n",
       "      <th>Cantidad</th>\n",
       "    </tr>\n",
       "  </thead>\n",
       "  <tbody>\n",
       "    <tr>\n",
       "      <th>0</th>\n",
       "      <td>gato</td>\n",
       "      <td>1</td>\n",
       "    </tr>\n",
       "    <tr>\n",
       "      <th>1</th>\n",
       "      <td>perro</td>\n",
       "      <td>2</td>\n",
       "    </tr>\n",
       "    <tr>\n",
       "      <th>2</th>\n",
       "      <td>ratón</td>\n",
       "      <td>3</td>\n",
       "    </tr>\n",
       "    <tr>\n",
       "      <th>3</th>\n",
       "      <td>elefante</td>\n",
       "      <td>4</td>\n",
       "    </tr>\n",
       "    <tr>\n",
       "      <th>4</th>\n",
       "      <td>rinoceronte</td>\n",
       "      <td>5</td>\n",
       "    </tr>\n",
       "  </tbody>\n",
       "</table>\n",
       "</div>"
      ],
      "text/plain": [
       "      animales  Cantidad\n",
       "0         gato         1\n",
       "1        perro         2\n",
       "2        ratón         3\n",
       "3     elefante         4\n",
       "4  rinoceronte         5"
      ]
     },
     "execution_count": 60,
     "metadata": {},
     "output_type": "execute_result"
    }
   ],
   "source": [
    "pd.concat([animales,cantidad],axis=1)"
   ]
  },
  {
   "cell_type": "markdown",
   "id": "22a258c7",
   "metadata": {},
   "source": [
    "11. Cómo convertir en mayúscula el primer caracter de Series de animales"
   ]
  },
  {
   "cell_type": "code",
   "execution_count": 73,
   "id": "3765c83b",
   "metadata": {},
   "outputs": [
    {
     "name": "stdout",
     "output_type": "stream",
     "text": [
      "0           Gato\n",
      "1          Perro\n",
      "2          Ratón\n",
      "3       Elefante\n",
      "4    Rinoceronte\n",
      "Name: animales, dtype: object\n"
     ]
    }
   ],
   "source": [
    "animales = animales.apply(lambda x : x[0].upper()+x[1:])\n",
    "print(animales)"
   ]
  },
  {
   "cell_type": "markdown",
   "id": "4cefcc04",
   "metadata": {},
   "source": [
    "12. Calcula el número de caracteres de cada elemento"
   ]
  },
  {
   "cell_type": "code",
   "execution_count": 89,
   "id": "f6f9f0e1",
   "metadata": {},
   "outputs": [
    {
     "data": {
      "text/html": [
       "<div>\n",
       "<style scoped>\n",
       "    .dataframe tbody tr th:only-of-type {\n",
       "        vertical-align: middle;\n",
       "    }\n",
       "\n",
       "    .dataframe tbody tr th {\n",
       "        vertical-align: top;\n",
       "    }\n",
       "\n",
       "    .dataframe thead th {\n",
       "        text-align: right;\n",
       "    }\n",
       "</style>\n",
       "<table border=\"1\" class=\"dataframe\">\n",
       "  <thead>\n",
       "    <tr style=\"text-align: right;\">\n",
       "      <th></th>\n",
       "      <th>Animales</th>\n",
       "      <th>Longitud</th>\n",
       "    </tr>\n",
       "  </thead>\n",
       "  <tbody>\n",
       "    <tr>\n",
       "      <th>0</th>\n",
       "      <td>Gato</td>\n",
       "      <td>4</td>\n",
       "    </tr>\n",
       "    <tr>\n",
       "      <th>1</th>\n",
       "      <td>Perro</td>\n",
       "      <td>5</td>\n",
       "    </tr>\n",
       "    <tr>\n",
       "      <th>2</th>\n",
       "      <td>Ratón</td>\n",
       "      <td>5</td>\n",
       "    </tr>\n",
       "    <tr>\n",
       "      <th>3</th>\n",
       "      <td>Elefante</td>\n",
       "      <td>8</td>\n",
       "    </tr>\n",
       "    <tr>\n",
       "      <th>4</th>\n",
       "      <td>Rinoceronte</td>\n",
       "      <td>11</td>\n",
       "    </tr>\n",
       "  </tbody>\n",
       "</table>\n",
       "</div>"
      ],
      "text/plain": [
       "      Animales  Longitud\n",
       "0         Gato         4\n",
       "1        Perro         5\n",
       "2        Ratón         5\n",
       "3     Elefante         8\n",
       "4  Rinoceronte        11"
      ]
     },
     "execution_count": 89,
     "metadata": {},
     "output_type": "execute_result"
    }
   ],
   "source": [
    "numCar = animales.apply(lambda x: len(x))\n",
    "df = pd.concat([animales,numCar],axis=1)\n",
    "df.columns = [\"Animales\",\"Longitud\"]\n",
    "\n",
    "df\n"
   ]
  },
  {
   "cell_type": "markdown",
   "id": "05040d2c",
   "metadata": {},
   "source": [
    "13. Calcula la diferencia entre los valores de cada elemento consecutivo del Series numérico"
   ]
  },
  {
   "cell_type": "code",
   "execution_count": 140,
   "id": "25c9fb8e",
   "metadata": {},
   "outputs": [
    {
     "name": "stdout",
     "output_type": "stream",
     "text": [
      "[1 0 3 3]\n"
     ]
    }
   ],
   "source": [
    "diferencia = abs(numCar[0:-1].values - numCar[1:].values)\n",
    "\n",
    "print(diferencia)"
   ]
  },
  {
   "cell_type": "markdown",
   "id": "16d1e640",
   "metadata": {},
   "source": [
    "14. Dada la lista siguiente de fechas, carga un Series de string a datetime\n",
    "['2015-08-06T12:20', '2012-04-02', '2021/01/03', '20191121', '01-12-2015', '04 Jan 2007']"
   ]
  },
  {
   "cell_type": "code",
   "execution_count": 146,
   "id": "06c49735",
   "metadata": {},
   "outputs": [
    {
     "name": "stdout",
     "output_type": "stream",
     "text": [
      "0   2015-08-06 12:20:00\n",
      "1   2012-04-02 00:00:00\n",
      "2   2021-01-03 00:00:00\n",
      "3   2019-11-21 00:00:00\n",
      "4   2015-01-12 00:00:00\n",
      "5   2007-01-04 00:00:00\n",
      "dtype: datetime64[ns]\n"
     ]
    }
   ],
   "source": [
    "fechas = pd.Series(pd.to_datetime(['2015-08-06T12:20', '2012-04-02', '2021/01/03', '20191121', '01-12-2015', '04 Jan 2007']))\n",
    "print(fechas)"
   ]
  },
  {
   "cell_type": "markdown",
   "id": "dcdc6ddb",
   "metadata": {},
   "source": [
    "15. Obtén el día del año del Series anterior"
   ]
  },
  {
   "cell_type": "code",
   "execution_count": 148,
   "id": "03a7e568",
   "metadata": {},
   "outputs": [
    {
     "data": {
      "text/plain": [
       "0    218\n",
       "1     93\n",
       "2      3\n",
       "3    325\n",
       "4     12\n",
       "5      4\n",
       "dtype: int64"
      ]
     },
     "execution_count": 148,
     "metadata": {},
     "output_type": "execute_result"
    }
   ],
   "source": [
    "print(fechas.dt.day_of_year)"
   ]
  },
  {
   "cell_type": "markdown",
   "id": "f46a8e66",
   "metadata": {},
   "source": [
    "16. Obtén el día de la semana"
   ]
  },
  {
   "cell_type": "code",
   "execution_count": 150,
   "id": "44487536",
   "metadata": {},
   "outputs": [
    {
     "name": "stdout",
     "output_type": "stream",
     "text": [
      "0    3\n",
      "1    0\n",
      "2    6\n",
      "3    3\n",
      "4    0\n",
      "5    3\n",
      "dtype: int64\n"
     ]
    }
   ],
   "source": [
    "print(fechas.dt.day_of_week)"
   ]
  },
  {
   "cell_type": "markdown",
   "id": "d9890155",
   "metadata": {},
   "source": [
    "17. Crea un DataFrame basado en un Series de 10 elementos que se genere aleatoriamente entre \"manzana\", \"plátano\", \"zanahoria\" y pesos que sea un Series de 10 elementos aleatorios entre 1 y 10. Calcula la media del peso por fruta."
   ]
  },
  {
   "cell_type": "code",
   "execution_count": 232,
   "id": "d688359e",
   "metadata": {},
   "outputs": [
    {
     "data": {
      "text/html": [
       "<div>\n",
       "<style scoped>\n",
       "    .dataframe tbody tr th:only-of-type {\n",
       "        vertical-align: middle;\n",
       "    }\n",
       "\n",
       "    .dataframe tbody tr th {\n",
       "        vertical-align: top;\n",
       "    }\n",
       "\n",
       "    .dataframe thead th {\n",
       "        text-align: right;\n",
       "    }\n",
       "</style>\n",
       "<table border=\"1\" class=\"dataframe\">\n",
       "  <thead>\n",
       "    <tr style=\"text-align: right;\">\n",
       "      <th></th>\n",
       "      <th>Peso</th>\n",
       "    </tr>\n",
       "    <tr>\n",
       "      <th>Fruta</th>\n",
       "      <th></th>\n",
       "    </tr>\n",
       "  </thead>\n",
       "  <tbody>\n",
       "    <tr>\n",
       "      <th>manzana</th>\n",
       "      <td>5.75</td>\n",
       "    </tr>\n",
       "    <tr>\n",
       "      <th>platano</th>\n",
       "      <td>6.00</td>\n",
       "    </tr>\n",
       "    <tr>\n",
       "      <th>zanahoria</th>\n",
       "      <td>4.00</td>\n",
       "    </tr>\n",
       "  </tbody>\n",
       "</table>\n",
       "</div>"
      ],
      "text/plain": [
       "           Peso\n",
       "Fruta          \n",
       "manzana    5.75\n",
       "platano    6.00\n",
       "zanahoria  4.00"
      ]
     },
     "execution_count": 232,
     "metadata": {},
     "output_type": "execute_result"
    }
   ],
   "source": [
    "def frutasAleatorioas():\n",
    "    fruta = [\"manzana\",\"platano\",\"zanahoria\"]\n",
    "    lista = list()\n",
    "    for i in range(10):\n",
    "        lista.append(fruta[np.random.randint(0,len(fruta))])\n",
    "\n",
    "    return pd.Series(lista)\n",
    "\n",
    "df = pd.concat([frutasAleatorioas(), pd.Series(np.random.randint(1,11,(10)))], axis=1)\n",
    "df.columns = [\"Fruta\", \"Peso\"]\n",
    "df = df.groupby([\"Fruta\"]).mean()\n",
    "\n",
    "df"
   ]
  },
  {
   "cell_type": "markdown",
   "id": "1eedeed1",
   "metadata": {},
   "source": [
    "18. Crea un Series que contenga los 10 primeros lunes de 2022 como índice y un número aleatorio como valor"
   ]
  },
  {
   "cell_type": "code",
   "execution_count": 247,
   "id": "43f66b19",
   "metadata": {},
   "outputs": [
    {
     "data": {
      "text/plain": [
       "2022-01-03    1\n",
       "2022-01-10    6\n",
       "2022-01-17    4\n",
       "2022-01-24    3\n",
       "2022-01-31    3\n",
       "2022-02-07    1\n",
       "2022-02-14    9\n",
       "2022-02-21    6\n",
       "2022-02-28    9\n",
       "2022-03-07    5\n",
       "dtype: int32"
      ]
     },
     "execution_count": 247,
     "metadata": {},
     "output_type": "execute_result"
    }
   ],
   "source": [
    "fechas = pd.Series(np.arange('2022-01', '2022-05', dtype='datetime64[D]'))\n",
    "fechas = fechas[fechas.dt.weekday == 0].head(10)\n",
    "\n",
    "fechas = pd.Series(np.random.randint(1,10,(fechas.size)),index=fechas)\n",
    "fechas"
   ]
  },
  {
   "cell_type": "markdown",
   "id": "f2eaa4e8",
   "metadata": {},
   "source": [
    "19. Crea un DataFrame basado en el Series del *Ejercicio 18* con las columnas llamadas fecha y precio"
   ]
  },
  {
   "cell_type": "code",
   "execution_count": 262,
   "id": "0e3a72c6",
   "metadata": {},
   "outputs": [
    {
     "data": {
      "text/html": [
       "<div>\n",
       "<style scoped>\n",
       "    .dataframe tbody tr th:only-of-type {\n",
       "        vertical-align: middle;\n",
       "    }\n",
       "\n",
       "    .dataframe tbody tr th {\n",
       "        vertical-align: top;\n",
       "    }\n",
       "\n",
       "    .dataframe thead th {\n",
       "        text-align: right;\n",
       "    }\n",
       "</style>\n",
       "<table border=\"1\" class=\"dataframe\">\n",
       "  <thead>\n",
       "    <tr style=\"text-align: right;\">\n",
       "      <th></th>\n",
       "      <th>fecha</th>\n",
       "      <th>precio</th>\n",
       "    </tr>\n",
       "  </thead>\n",
       "  <tbody>\n",
       "    <tr>\n",
       "      <th>0</th>\n",
       "      <td>2022-01-03</td>\n",
       "      <td>1</td>\n",
       "    </tr>\n",
       "    <tr>\n",
       "      <th>1</th>\n",
       "      <td>2022-01-10</td>\n",
       "      <td>6</td>\n",
       "    </tr>\n",
       "    <tr>\n",
       "      <th>2</th>\n",
       "      <td>2022-01-17</td>\n",
       "      <td>4</td>\n",
       "    </tr>\n",
       "    <tr>\n",
       "      <th>3</th>\n",
       "      <td>2022-01-24</td>\n",
       "      <td>3</td>\n",
       "    </tr>\n",
       "    <tr>\n",
       "      <th>4</th>\n",
       "      <td>2022-01-31</td>\n",
       "      <td>3</td>\n",
       "    </tr>\n",
       "    <tr>\n",
       "      <th>5</th>\n",
       "      <td>2022-02-07</td>\n",
       "      <td>1</td>\n",
       "    </tr>\n",
       "    <tr>\n",
       "      <th>6</th>\n",
       "      <td>2022-02-14</td>\n",
       "      <td>9</td>\n",
       "    </tr>\n",
       "    <tr>\n",
       "      <th>7</th>\n",
       "      <td>2022-02-21</td>\n",
       "      <td>6</td>\n",
       "    </tr>\n",
       "    <tr>\n",
       "      <th>8</th>\n",
       "      <td>2022-02-28</td>\n",
       "      <td>9</td>\n",
       "    </tr>\n",
       "    <tr>\n",
       "      <th>9</th>\n",
       "      <td>2022-03-07</td>\n",
       "      <td>5</td>\n",
       "    </tr>\n",
       "  </tbody>\n",
       "</table>\n",
       "</div>"
      ],
      "text/plain": [
       "       fecha  precio\n",
       "0 2022-01-03       1\n",
       "1 2022-01-10       6\n",
       "2 2022-01-17       4\n",
       "3 2022-01-24       3\n",
       "4 2022-01-31       3\n",
       "5 2022-02-07       1\n",
       "6 2022-02-14       9\n",
       "7 2022-02-21       6\n",
       "8 2022-02-28       9\n",
       "9 2022-03-07       5"
      ]
     },
     "execution_count": 262,
     "metadata": {},
     "output_type": "execute_result"
    }
   ],
   "source": [
    "df = pd.DataFrame(fechas).reset_index()\n",
    "df.columns = [\"fecha\",\"precio\"]\n",
    "df"
   ]
  },
  {
   "cell_type": "markdown",
   "id": "f0b3989c",
   "metadata": {},
   "source": [
    "20. Genera un DataFrame de 5x5 y posteriormente invierte el orden de los valores de sus filas"
   ]
  },
  {
   "cell_type": "code",
   "execution_count": 266,
   "id": "71319ff9",
   "metadata": {},
   "outputs": [
    {
     "name": "stdout",
     "output_type": "stream",
     "text": [
      "    0   1   2   3   4\n",
      "0  96  97  84  10  47\n",
      "1  51   4  33  51  35\n",
      "2  48  75  26  51  65\n",
      "3   1   7  83  49  93\n",
      "4  60  23  84  50  16\n"
     ]
    },
    {
     "data": {
      "text/html": [
       "<div>\n",
       "<style scoped>\n",
       "    .dataframe tbody tr th:only-of-type {\n",
       "        vertical-align: middle;\n",
       "    }\n",
       "\n",
       "    .dataframe tbody tr th {\n",
       "        vertical-align: top;\n",
       "    }\n",
       "\n",
       "    .dataframe thead th {\n",
       "        text-align: right;\n",
       "    }\n",
       "</style>\n",
       "<table border=\"1\" class=\"dataframe\">\n",
       "  <thead>\n",
       "    <tr style=\"text-align: right;\">\n",
       "      <th></th>\n",
       "      <th>0</th>\n",
       "      <th>1</th>\n",
       "      <th>2</th>\n",
       "      <th>3</th>\n",
       "      <th>4</th>\n",
       "    </tr>\n",
       "  </thead>\n",
       "  <tbody>\n",
       "    <tr>\n",
       "      <th>4</th>\n",
       "      <td>60</td>\n",
       "      <td>23</td>\n",
       "      <td>84</td>\n",
       "      <td>50</td>\n",
       "      <td>16</td>\n",
       "    </tr>\n",
       "    <tr>\n",
       "      <th>3</th>\n",
       "      <td>1</td>\n",
       "      <td>7</td>\n",
       "      <td>83</td>\n",
       "      <td>49</td>\n",
       "      <td>93</td>\n",
       "    </tr>\n",
       "    <tr>\n",
       "      <th>2</th>\n",
       "      <td>48</td>\n",
       "      <td>75</td>\n",
       "      <td>26</td>\n",
       "      <td>51</td>\n",
       "      <td>65</td>\n",
       "    </tr>\n",
       "    <tr>\n",
       "      <th>1</th>\n",
       "      <td>51</td>\n",
       "      <td>4</td>\n",
       "      <td>33</td>\n",
       "      <td>51</td>\n",
       "      <td>35</td>\n",
       "    </tr>\n",
       "    <tr>\n",
       "      <th>0</th>\n",
       "      <td>96</td>\n",
       "      <td>97</td>\n",
       "      <td>84</td>\n",
       "      <td>10</td>\n",
       "      <td>47</td>\n",
       "    </tr>\n",
       "  </tbody>\n",
       "</table>\n",
       "</div>"
      ],
      "text/plain": [
       "    0   1   2   3   4\n",
       "4  60  23  84  50  16\n",
       "3   1   7  83  49  93\n",
       "2  48  75  26  51  65\n",
       "1  51   4  33  51  35\n",
       "0  96  97  84  10  47"
      ]
     },
     "execution_count": 266,
     "metadata": {},
     "output_type": "execute_result"
    }
   ],
   "source": [
    "df = pd.DataFrame(np.random.randint(1,101,(5,5)))\n",
    "print(df)\n",
    "\n",
    "df.iloc[::-1]"
   ]
  },
  {
   "cell_type": "markdown",
   "id": "27ca9a3f",
   "metadata": {},
   "source": [
    "21. Añade una nueva columna que sea el máximo entre el mínimo de cada fila"
   ]
  },
  {
   "cell_type": "code",
   "execution_count": 268,
   "id": "eef678c5",
   "metadata": {},
   "outputs": [
    {
     "data": {
      "text/html": [
       "<div>\n",
       "<style scoped>\n",
       "    .dataframe tbody tr th:only-of-type {\n",
       "        vertical-align: middle;\n",
       "    }\n",
       "\n",
       "    .dataframe tbody tr th {\n",
       "        vertical-align: top;\n",
       "    }\n",
       "\n",
       "    .dataframe thead th {\n",
       "        text-align: right;\n",
       "    }\n",
       "</style>\n",
       "<table border=\"1\" class=\"dataframe\">\n",
       "  <thead>\n",
       "    <tr style=\"text-align: right;\">\n",
       "      <th></th>\n",
       "      <th>0</th>\n",
       "      <th>1</th>\n",
       "      <th>2</th>\n",
       "      <th>3</th>\n",
       "      <th>4</th>\n",
       "      <th>max/min</th>\n",
       "    </tr>\n",
       "  </thead>\n",
       "  <tbody>\n",
       "    <tr>\n",
       "      <th>0</th>\n",
       "      <td>96</td>\n",
       "      <td>97</td>\n",
       "      <td>84</td>\n",
       "      <td>10</td>\n",
       "      <td>47</td>\n",
       "      <td>9.700000</td>\n",
       "    </tr>\n",
       "    <tr>\n",
       "      <th>1</th>\n",
       "      <td>51</td>\n",
       "      <td>4</td>\n",
       "      <td>33</td>\n",
       "      <td>51</td>\n",
       "      <td>35</td>\n",
       "      <td>12.750000</td>\n",
       "    </tr>\n",
       "    <tr>\n",
       "      <th>2</th>\n",
       "      <td>48</td>\n",
       "      <td>75</td>\n",
       "      <td>26</td>\n",
       "      <td>51</td>\n",
       "      <td>65</td>\n",
       "      <td>23.214286</td>\n",
       "    </tr>\n",
       "    <tr>\n",
       "      <th>3</th>\n",
       "      <td>1</td>\n",
       "      <td>7</td>\n",
       "      <td>83</td>\n",
       "      <td>49</td>\n",
       "      <td>93</td>\n",
       "      <td>93.000000</td>\n",
       "    </tr>\n",
       "    <tr>\n",
       "      <th>4</th>\n",
       "      <td>60</td>\n",
       "      <td>23</td>\n",
       "      <td>84</td>\n",
       "      <td>50</td>\n",
       "      <td>16</td>\n",
       "      <td>14.451613</td>\n",
       "    </tr>\n",
       "  </tbody>\n",
       "</table>\n",
       "</div>"
      ],
      "text/plain": [
       "    0   1   2   3   4    max/min\n",
       "0  96  97  84  10  47   9.700000\n",
       "1  51   4  33  51  35  12.750000\n",
       "2  48  75  26  51  65  23.214286\n",
       "3   1   7  83  49  93  93.000000\n",
       "4  60  23  84  50  16  14.451613"
      ]
     },
     "execution_count": 268,
     "metadata": {},
     "output_type": "execute_result"
    }
   ],
   "source": [
    "df[\"max/min\"] = df.max(axis=1)/df.min(axis=1)\n",
    "df"
   ]
  }
 ],
 "metadata": {
  "kernelspec": {
   "display_name": "Python 3",
   "language": "python",
   "name": "python3"
  },
  "language_info": {
   "codemirror_mode": {
    "name": "ipython",
    "version": 3
   },
   "file_extension": ".py",
   "mimetype": "text/x-python",
   "name": "python",
   "nbconvert_exporter": "python",
   "pygments_lexer": "ipython3",
   "version": "3.11.0"
  },
  "vscode": {
   "interpreter": {
    "hash": "8788d27cba0b2dbc0718fef4e715449fab30bd59957c04e36cc9c246182e8fe0"
   }
  }
 },
 "nbformat": 4,
 "nbformat_minor": 5
}
