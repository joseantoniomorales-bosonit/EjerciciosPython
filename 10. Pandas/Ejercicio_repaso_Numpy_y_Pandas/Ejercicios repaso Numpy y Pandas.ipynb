{
 "cells": [
  {
   "cell_type": "markdown",
   "id": "8b2d3ec1",
   "metadata": {},
   "source": [
    "## Repaso Numpy y Pandas"
   ]
  },
  {
   "cell_type": "markdown",
   "id": "5a2d9873",
   "metadata": {},
   "source": [
    "1. Crea un array de 5x2 con los valores desde 100 hasta 200 de 10 en 10"
   ]
  },
  {
   "cell_type": "markdown",
   "id": "19a870c6",
   "metadata": {},
   "source": [
    "2. Redimensiona el array a 3x3 (se debe de eliminar el último elemento)"
   ]
  },
  {
   "cell_type": "markdown",
   "id": "dd26bf40",
   "metadata": {},
   "source": [
    "3. Crea un array con los elementos de la tercera posición de cada fila"
   ]
  },
  {
   "cell_type": "markdown",
   "id": "dfd9735c",
   "metadata": {},
   "source": [
    "4. Muestra los elementos de las filas de posición par y columna de posición impar"
   ]
  },
  {
   "cell_type": "markdown",
   "id": "49ace05f",
   "metadata": {},
   "source": [
    "5. Crea dos arrays de 2x3. Posteriormente suma los dos arrays y a su resultado eleva al cuadrado cada elemento"
   ]
  },
  {
   "cell_type": "markdown",
   "id": "8798bd1e",
   "metadata": {},
   "source": [
    "6. Crea un array de 8x3. Posteriormente dividelo en 4 subarrays"
   ]
  },
  {
   "cell_type": "markdown",
   "id": "6d159453",
   "metadata": {},
   "source": [
    "7. Dado un array de 3x3. Crea un nuevo array con este ordenado por la 2ª fila y otro array con este array ordenado por la 2ª columna"
   ]
  },
  {
   "cell_type": "markdown",
   "id": "5c97d5c8",
   "metadata": {},
   "source": [
    "8. Dado un array de 3x3. Devuelve sus mínimos de cada columna y el máximo de cada fila"
   ]
  },
  {
   "cell_type": "markdown",
   "id": "0b9e30cf",
   "metadata": {},
   "source": [
    "9. Dado un array de 3x3 elimina su 2ª columna y añadela al inicio"
   ]
  },
  {
   "cell_type": "markdown",
   "id": "c8f1cba2",
   "metadata": {},
   "source": [
    "10. Crea un DataFrame con la información de *coches.csv*"
   ]
  },
  {
   "cell_type": "markdown",
   "id": "19bf2ab9",
   "metadata": {},
   "source": [
    "11. Muestra la compañía que tenga el coche más caro"
   ]
  },
  {
   "cell_type": "markdown",
   "id": "f3a044b0",
   "metadata": {},
   "source": [
    "12. Muestra todos los coches de Toyota"
   ]
  },
  {
   "cell_type": "markdown",
   "id": "a7917d5d",
   "metadata": {},
   "source": [
    "13. Muestra cuántos coches tiene cada compañía"
   ]
  },
  {
   "cell_type": "markdown",
   "id": "529332e2",
   "metadata": {},
   "source": [
    "14. Muestra todas las compañías con su precio más caro"
   ]
  },
  {
   "cell_type": "markdown",
   "id": "5701b828",
   "metadata": {},
   "source": [
    "15. Calcula la media de kilometros de cada compañía"
   ]
  },
  {
   "cell_type": "markdown",
   "id": "a6b777cb",
   "metadata": {},
   "source": [
    "16. Ordena los coches por precio"
   ]
  }
 ],
 "metadata": {
  "kernelspec": {
   "display_name": "Python 3 (ipykernel)",
   "language": "python",
   "name": "python3"
  },
  "language_info": {
   "codemirror_mode": {
    "name": "ipython",
    "version": 3
   },
   "file_extension": ".py",
   "mimetype": "text/x-python",
   "name": "python",
   "nbconvert_exporter": "python",
   "pygments_lexer": "ipython3",
   "version": "3.9.7"
  }
 },
 "nbformat": 4,
 "nbformat_minor": 5
}
