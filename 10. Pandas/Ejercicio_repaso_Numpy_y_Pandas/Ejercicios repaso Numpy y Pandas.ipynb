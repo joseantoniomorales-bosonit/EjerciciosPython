{
 "cells": [
  {
   "cell_type": "markdown",
   "id": "8b2d3ec1",
   "metadata": {},
   "source": [
    "## Repaso Numpy y Pandas"
   ]
  },
  {
   "cell_type": "markdown",
   "id": "5a2d9873",
   "metadata": {},
   "source": [
    "1. Crea un array de 5x2 con los valores desde 100 hasta 200 de 10 en 10"
   ]
  },
  {
   "cell_type": "code",
   "execution_count": 2,
   "id": "f7a3b2dd",
   "metadata": {},
   "outputs": [],
   "source": [
    "import numpy as np\n",
    "array = np.arange(100,201,10)"
   ]
  },
  {
   "cell_type": "markdown",
   "id": "19a870c6",
   "metadata": {},
   "source": [
    "2. Redimensiona el array a 3x3 (se debe de eliminar el último elemento)"
   ]
  },
  {
   "cell_type": "code",
   "execution_count": 28,
   "id": "90759e1c",
   "metadata": {},
   "outputs": [
    {
     "name": "stdout",
     "output_type": "stream",
     "text": [
      "[[100 110 120]\n",
      " [130 140 150]\n",
      " [160 170 180]]\n"
     ]
    }
   ],
   "source": [
    "if array[-1] == 190: array = array[0:-1]\n",
    "\n",
    "array = array.reshape(3,3)\n",
    "print(array)"
   ]
  },
  {
   "cell_type": "markdown",
   "id": "dd26bf40",
   "metadata": {},
   "source": [
    "3. Crea un array con los elementos de la tercera posición de cada fila"
   ]
  },
  {
   "cell_type": "code",
   "execution_count": 34,
   "id": "2094c81b",
   "metadata": {},
   "outputs": [
    {
     "name": "stdout",
     "output_type": "stream",
     "text": [
      "[120 150 180]\n"
     ]
    }
   ],
   "source": [
    "array2 = array[:,2]\n",
    "print(array2)"
   ]
  },
  {
   "cell_type": "markdown",
   "id": "dfd9735c",
   "metadata": {},
   "source": [
    "4. Muestra los elementos de las filas de posición par y columna de posición impar"
   ]
  },
  {
   "cell_type": "code",
   "execution_count": 38,
   "id": "05692b68",
   "metadata": {},
   "outputs": [
    {
     "data": {
      "text/plain": [
       "array([[110],\n",
       "       [170]])"
      ]
     },
     "execution_count": 38,
     "metadata": {},
     "output_type": "execute_result"
    }
   ],
   "source": [
    "array[0::2,1::2]"
   ]
  },
  {
   "cell_type": "markdown",
   "id": "49ace05f",
   "metadata": {},
   "source": [
    "5. Crea dos arrays de 2x3. Posteriormente suma los dos arrays y a su resultado eleva al cuadrado cada elemento"
   ]
  },
  {
   "cell_type": "code",
   "execution_count": 41,
   "id": "4466ebc5",
   "metadata": {},
   "outputs": [
    {
     "name": "stdout",
     "output_type": "stream",
     "text": [
      "[[ 64 193  18]\n",
      " [ 55  94 189]]\n",
      "[[106  62  14]\n",
      " [ 90  43  65]]\n"
     ]
    },
    {
     "data": {
      "text/plain": [
       "array([[28900, 65025,  1024],\n",
       "       [21025, 18769, 64516]])"
      ]
     },
     "execution_count": 41,
     "metadata": {},
     "output_type": "execute_result"
    }
   ],
   "source": [
    "array1 = np.random.randint(1,200,(2,3))\n",
    "array2 = np.random.randint(1,200,(2,3))\n",
    "print(array1)\n",
    "print(array2)\n",
    "\n",
    "resultado = array1 + array2\n",
    "resultado **= 2\n",
    "resultado"
   ]
  },
  {
   "cell_type": "markdown",
   "id": "8798bd1e",
   "metadata": {},
   "source": [
    "6. Crea un array de 8x3. Posteriormente dividelo en 4 subarrays"
   ]
  },
  {
   "cell_type": "code",
   "execution_count": 42,
   "id": "4cae229f",
   "metadata": {},
   "outputs": [
    {
     "data": {
      "text/plain": [
       "array([[143, 103, 114,  83],\n",
       "       [133,  91, 152, 104],\n",
       "       [ 42,   2, 145,  83],\n",
       "       [ 77, 196,  51, 186],\n",
       "       [154, 183, 109,  58],\n",
       "       [160,  81, 160,  82]])"
      ]
     },
     "execution_count": 42,
     "metadata": {},
     "output_type": "execute_result"
    }
   ],
   "source": [
    "array4 = np.random.randint(1,200,(8,3))\n",
    "array4.reshape(6,4)"
   ]
  },
  {
   "cell_type": "markdown",
   "id": "6d159453",
   "metadata": {},
   "source": [
    "7. Dado un array de 3x3. Crea un nuevo array con este ordenado por la 2ª fila y otro array con este array ordenado por la 2ª columna"
   ]
  },
  {
   "cell_type": "code",
   "execution_count": 76,
   "id": "2d49f889",
   "metadata": {},
   "outputs": [
    {
     "name": "stdout",
     "output_type": "stream",
     "text": [
      "[[159 197  90]\n",
      " [ 29 154 120]\n",
      " [ 29  20   1]]\n",
      "\n",
      "[[159 197  90]\n",
      " [ 29 120 154]\n",
      " [ 29  20   1]]\n",
      "\n",
      "[[159  20  90]\n",
      " [ 29 154 120]\n",
      " [ 29 197   1]]\n"
     ]
    }
   ],
   "source": [
    "array5 = np.random.randint(1,200,(3,3))\n",
    "print(array5)\n",
    "print()\n",
    "\n",
    "array2f = array5.copy()\n",
    "array2f[1,:] = np.sort(array2f[1,:])\n",
    "\n",
    "print(array2f)\n",
    "print()\n",
    "\n",
    "array2c = array5.copy()\n",
    "array2c[:,1] = np.sort(array2c[:,1])\n",
    "\n",
    "print(array2c)"
   ]
  },
  {
   "cell_type": "markdown",
   "id": "5c97d5c8",
   "metadata": {},
   "source": [
    "8. Dado un array de 3x3. Devuelve sus mínimos de cada columna y el máximo de cada fila"
   ]
  },
  {
   "cell_type": "code",
   "execution_count": 3,
   "id": "da998c68",
   "metadata": {},
   "outputs": [
    {
     "name": "stdout",
     "output_type": "stream",
     "text": [
      "     0   1   2\n",
      "0   28  81  59\n",
      "1  102  22   6\n",
      "2  178  12  54\n"
     ]
    },
    {
     "data": {
      "text/html": [
       "<div>\n",
       "<style scoped>\n",
       "    .dataframe tbody tr th:only-of-type {\n",
       "        vertical-align: middle;\n",
       "    }\n",
       "\n",
       "    .dataframe tbody tr th {\n",
       "        vertical-align: top;\n",
       "    }\n",
       "\n",
       "    .dataframe thead th {\n",
       "        text-align: right;\n",
       "    }\n",
       "</style>\n",
       "<table border=\"1\" class=\"dataframe\">\n",
       "  <thead>\n",
       "    <tr style=\"text-align: right;\">\n",
       "      <th></th>\n",
       "      <th>0</th>\n",
       "      <th>1</th>\n",
       "      <th>2</th>\n",
       "      <th>Max Fila</th>\n",
       "    </tr>\n",
       "  </thead>\n",
       "  <tbody>\n",
       "    <tr>\n",
       "      <th>0</th>\n",
       "      <td>28.0</td>\n",
       "      <td>81.0</td>\n",
       "      <td>59.0</td>\n",
       "      <td>81.0</td>\n",
       "    </tr>\n",
       "    <tr>\n",
       "      <th>1</th>\n",
       "      <td>102.0</td>\n",
       "      <td>22.0</td>\n",
       "      <td>6.0</td>\n",
       "      <td>102.0</td>\n",
       "    </tr>\n",
       "    <tr>\n",
       "      <th>2</th>\n",
       "      <td>178.0</td>\n",
       "      <td>12.0</td>\n",
       "      <td>54.0</td>\n",
       "      <td>178.0</td>\n",
       "    </tr>\n",
       "    <tr>\n",
       "      <th>Min Col</th>\n",
       "      <td>28.0</td>\n",
       "      <td>12.0</td>\n",
       "      <td>6.0</td>\n",
       "      <td>NaN</td>\n",
       "    </tr>\n",
       "  </tbody>\n",
       "</table>\n",
       "</div>"
      ],
      "text/plain": [
       "             0     1     2  Max Fila\n",
       "0         28.0  81.0  59.0      81.0\n",
       "1        102.0  22.0   6.0     102.0\n",
       "2        178.0  12.0  54.0     178.0\n",
       "Min Col   28.0  12.0   6.0       NaN"
      ]
     },
     "execution_count": 3,
     "metadata": {},
     "output_type": "execute_result"
    }
   ],
   "source": [
    "import pandas as pd\n",
    "\n",
    "array6 = np.random.randint(1,200,(3,3))\n",
    "df = pd.DataFrame(array6)\n",
    "print(df)\n",
    "\n",
    "minC = pd.Series(df.min(axis=0))\n",
    "maxF = pd.Series(df.max(axis=1))\n",
    "df[\"Max Fila\"] = maxF\n",
    "df.loc[\"Min Col\"] = minC\n",
    "\n",
    "df"
   ]
  },
  {
   "cell_type": "markdown",
   "id": "0b9e30cf",
   "metadata": {},
   "source": [
    "9. Dado un array de 3x3 elimina su 2ª columna y añadela al inicio"
   ]
  },
  {
   "cell_type": "code",
   "execution_count": 122,
   "id": "5dd126a8",
   "metadata": {},
   "outputs": [
    {
     "name": "stdout",
     "output_type": "stream",
     "text": [
      "     0   1    2\n",
      "0  153  99  178\n",
      "1  149  17   61\n",
      "2  141   9  172\n"
     ]
    },
    {
     "data": {
      "text/html": [
       "<div>\n",
       "<style scoped>\n",
       "    .dataframe tbody tr th:only-of-type {\n",
       "        vertical-align: middle;\n",
       "    }\n",
       "\n",
       "    .dataframe tbody tr th {\n",
       "        vertical-align: top;\n",
       "    }\n",
       "\n",
       "    .dataframe thead th {\n",
       "        text-align: right;\n",
       "    }\n",
       "</style>\n",
       "<table border=\"1\" class=\"dataframe\">\n",
       "  <thead>\n",
       "    <tr style=\"text-align: right;\">\n",
       "      <th></th>\n",
       "      <th>1</th>\n",
       "      <th>0</th>\n",
       "      <th>2</th>\n",
       "    </tr>\n",
       "  </thead>\n",
       "  <tbody>\n",
       "    <tr>\n",
       "      <th>0</th>\n",
       "      <td>99</td>\n",
       "      <td>153</td>\n",
       "      <td>178</td>\n",
       "    </tr>\n",
       "    <tr>\n",
       "      <th>1</th>\n",
       "      <td>17</td>\n",
       "      <td>149</td>\n",
       "      <td>61</td>\n",
       "    </tr>\n",
       "    <tr>\n",
       "      <th>2</th>\n",
       "      <td>9</td>\n",
       "      <td>141</td>\n",
       "      <td>172</td>\n",
       "    </tr>\n",
       "  </tbody>\n",
       "</table>\n",
       "</div>"
      ],
      "text/plain": [
       "    1    0    2\n",
       "0  99  153  178\n",
       "1  17  149   61\n",
       "2   9  141  172"
      ]
     },
     "execution_count": 122,
     "metadata": {},
     "output_type": "execute_result"
    }
   ],
   "source": [
    "df2 = pd.DataFrame(np.random.randint(1,200,(3,3)))\n",
    "print(df2)\n",
    "\n",
    "#Obtneros la serie que queremos poner al principio\n",
    "primC = df2.iloc[:,1]\n",
    "\n",
    "#Eliminamos la columna que ya tenemos\n",
    "df2 = df2.drop(columns=1)\n",
    "\n",
    "#Ponemos al principio\n",
    "df2.insert(0,\"1\",primC)\n",
    "df2\n"
   ]
  },
  {
   "cell_type": "markdown",
   "id": "c8f1cba2",
   "metadata": {},
   "source": [
    "10. Crea un DataFrame con la información de *coches.csv*"
   ]
  },
  {
   "cell_type": "code",
   "execution_count": 4,
   "id": "9580a16f",
   "metadata": {},
   "outputs": [],
   "source": [
    "coches = pd.read_csv(\"coches.csv\")\n",
    "coches"
   ]
  },
  {
   "cell_type": "markdown",
   "id": "19bf2ab9",
   "metadata": {},
   "source": [
    "11. Muestra la compañía que tenga el coche más caro"
   ]
  },
  {
   "cell_type": "code",
   "execution_count": 132,
   "id": "31cb5c71",
   "metadata": {},
   "outputs": [
    {
     "data": {
      "text/plain": [
       "35    mercedes-benz\n",
       "Name: company, dtype: object"
      ]
     },
     "execution_count": 132,
     "metadata": {},
     "output_type": "execute_result"
    }
   ],
   "source": [
    "coches[coches.price == coches.price.max()].company"
   ]
  },
  {
   "cell_type": "markdown",
   "id": "f3a044b0",
   "metadata": {},
   "source": [
    "12. Muestra todos los coches de Toyota"
   ]
  },
  {
   "cell_type": "code",
   "execution_count": 134,
   "id": "7b2d4af1",
   "metadata": {},
   "outputs": [
    {
     "data": {
      "text/html": [
       "<div>\n",
       "<style scoped>\n",
       "    .dataframe tbody tr th:only-of-type {\n",
       "        vertical-align: middle;\n",
       "    }\n",
       "\n",
       "    .dataframe tbody tr th {\n",
       "        vertical-align: top;\n",
       "    }\n",
       "\n",
       "    .dataframe thead th {\n",
       "        text-align: right;\n",
       "    }\n",
       "</style>\n",
       "<table border=\"1\" class=\"dataframe\">\n",
       "  <thead>\n",
       "    <tr style=\"text-align: right;\">\n",
       "      <th></th>\n",
       "      <th>index</th>\n",
       "      <th>company</th>\n",
       "      <th>body-style</th>\n",
       "      <th>wheel-base</th>\n",
       "      <th>length</th>\n",
       "      <th>engine-type</th>\n",
       "      <th>num-of-cylinders</th>\n",
       "      <th>horsepower</th>\n",
       "      <th>average-mileage</th>\n",
       "      <th>price</th>\n",
       "    </tr>\n",
       "  </thead>\n",
       "  <tbody>\n",
       "    <tr>\n",
       "      <th>48</th>\n",
       "      <td>66</td>\n",
       "      <td>toyota</td>\n",
       "      <td>hatchback</td>\n",
       "      <td>95.7</td>\n",
       "      <td>158.7</td>\n",
       "      <td>ohc</td>\n",
       "      <td>four</td>\n",
       "      <td>62</td>\n",
       "      <td>35</td>\n",
       "      <td>5348.0</td>\n",
       "    </tr>\n",
       "    <tr>\n",
       "      <th>49</th>\n",
       "      <td>67</td>\n",
       "      <td>toyota</td>\n",
       "      <td>hatchback</td>\n",
       "      <td>95.7</td>\n",
       "      <td>158.7</td>\n",
       "      <td>ohc</td>\n",
       "      <td>four</td>\n",
       "      <td>62</td>\n",
       "      <td>31</td>\n",
       "      <td>6338.0</td>\n",
       "    </tr>\n",
       "    <tr>\n",
       "      <th>50</th>\n",
       "      <td>68</td>\n",
       "      <td>toyota</td>\n",
       "      <td>hatchback</td>\n",
       "      <td>95.7</td>\n",
       "      <td>158.7</td>\n",
       "      <td>ohc</td>\n",
       "      <td>four</td>\n",
       "      <td>62</td>\n",
       "      <td>31</td>\n",
       "      <td>6488.0</td>\n",
       "    </tr>\n",
       "    <tr>\n",
       "      <th>51</th>\n",
       "      <td>69</td>\n",
       "      <td>toyota</td>\n",
       "      <td>wagon</td>\n",
       "      <td>95.7</td>\n",
       "      <td>169.7</td>\n",
       "      <td>ohc</td>\n",
       "      <td>four</td>\n",
       "      <td>62</td>\n",
       "      <td>31</td>\n",
       "      <td>6918.0</td>\n",
       "    </tr>\n",
       "    <tr>\n",
       "      <th>52</th>\n",
       "      <td>70</td>\n",
       "      <td>toyota</td>\n",
       "      <td>wagon</td>\n",
       "      <td>95.7</td>\n",
       "      <td>169.7</td>\n",
       "      <td>ohc</td>\n",
       "      <td>four</td>\n",
       "      <td>62</td>\n",
       "      <td>27</td>\n",
       "      <td>7898.0</td>\n",
       "    </tr>\n",
       "    <tr>\n",
       "      <th>53</th>\n",
       "      <td>71</td>\n",
       "      <td>toyota</td>\n",
       "      <td>wagon</td>\n",
       "      <td>95.7</td>\n",
       "      <td>169.7</td>\n",
       "      <td>ohc</td>\n",
       "      <td>four</td>\n",
       "      <td>62</td>\n",
       "      <td>27</td>\n",
       "      <td>8778.0</td>\n",
       "    </tr>\n",
       "    <tr>\n",
       "      <th>54</th>\n",
       "      <td>79</td>\n",
       "      <td>toyota</td>\n",
       "      <td>wagon</td>\n",
       "      <td>104.5</td>\n",
       "      <td>187.8</td>\n",
       "      <td>dohc</td>\n",
       "      <td>six</td>\n",
       "      <td>156</td>\n",
       "      <td>19</td>\n",
       "      <td>15750.0</td>\n",
       "    </tr>\n",
       "  </tbody>\n",
       "</table>\n",
       "</div>"
      ],
      "text/plain": [
       "    index company body-style  wheel-base  length engine-type num-of-cylinders  \\\n",
       "48     66  toyota  hatchback        95.7   158.7         ohc             four   \n",
       "49     67  toyota  hatchback        95.7   158.7         ohc             four   \n",
       "50     68  toyota  hatchback        95.7   158.7         ohc             four   \n",
       "51     69  toyota      wagon        95.7   169.7         ohc             four   \n",
       "52     70  toyota      wagon        95.7   169.7         ohc             four   \n",
       "53     71  toyota      wagon        95.7   169.7         ohc             four   \n",
       "54     79  toyota      wagon       104.5   187.8        dohc              six   \n",
       "\n",
       "    horsepower  average-mileage    price  \n",
       "48          62               35   5348.0  \n",
       "49          62               31   6338.0  \n",
       "50          62               31   6488.0  \n",
       "51          62               31   6918.0  \n",
       "52          62               27   7898.0  \n",
       "53          62               27   8778.0  \n",
       "54         156               19  15750.0  "
      ]
     },
     "execution_count": 134,
     "metadata": {},
     "output_type": "execute_result"
    }
   ],
   "source": [
    "coches[coches.company == \"toyota\"]"
   ]
  },
  {
   "cell_type": "markdown",
   "id": "a7917d5d",
   "metadata": {},
   "source": [
    "13. Muestra cuántos coches tiene cada compañía"
   ]
  },
  {
   "cell_type": "code",
   "execution_count": 136,
   "id": "8ab7ff85",
   "metadata": {},
   "outputs": [
    {
     "data": {
      "text/plain": [
       "company\n",
       "alfa-romero      3\n",
       "audi             4\n",
       "bmw              6\n",
       "chevrolet        3\n",
       "dodge            2\n",
       "honda            3\n",
       "isuzu            3\n",
       "jaguar           3\n",
       "mazda            5\n",
       "mercedes-benz    4\n",
       "mitsubishi       4\n",
       "nissan           5\n",
       "porsche          3\n",
       "toyota           7\n",
       "volkswagen       4\n",
       "volvo            2\n",
       "Name: company, dtype: int64"
      ]
     },
     "execution_count": 136,
     "metadata": {},
     "output_type": "execute_result"
    }
   ],
   "source": [
    "coches.groupby([\"company\"])[\"company\"].count()"
   ]
  },
  {
   "cell_type": "markdown",
   "id": "529332e2",
   "metadata": {},
   "source": [
    "14. Muestra todas las compañías con su precio más caro"
   ]
  },
  {
   "cell_type": "code",
   "execution_count": 140,
   "id": "e85d054e",
   "metadata": {},
   "outputs": [
    {
     "data": {
      "text/html": [
       "<div>\n",
       "<style scoped>\n",
       "    .dataframe tbody tr th:only-of-type {\n",
       "        vertical-align: middle;\n",
       "    }\n",
       "\n",
       "    .dataframe tbody tr th {\n",
       "        vertical-align: top;\n",
       "    }\n",
       "\n",
       "    .dataframe thead th {\n",
       "        text-align: right;\n",
       "    }\n",
       "</style>\n",
       "<table border=\"1\" class=\"dataframe\">\n",
       "  <thead>\n",
       "    <tr style=\"text-align: right;\">\n",
       "      <th></th>\n",
       "      <th>price</th>\n",
       "    </tr>\n",
       "    <tr>\n",
       "      <th>company</th>\n",
       "      <th></th>\n",
       "    </tr>\n",
       "  </thead>\n",
       "  <tbody>\n",
       "    <tr>\n",
       "      <th>alfa-romero</th>\n",
       "      <td>16500.0</td>\n",
       "    </tr>\n",
       "    <tr>\n",
       "      <th>audi</th>\n",
       "      <td>18920.0</td>\n",
       "    </tr>\n",
       "    <tr>\n",
       "      <th>bmw</th>\n",
       "      <td>41315.0</td>\n",
       "    </tr>\n",
       "    <tr>\n",
       "      <th>chevrolet</th>\n",
       "      <td>6575.0</td>\n",
       "    </tr>\n",
       "    <tr>\n",
       "      <th>dodge</th>\n",
       "      <td>6377.0</td>\n",
       "    </tr>\n",
       "    <tr>\n",
       "      <th>honda</th>\n",
       "      <td>12945.0</td>\n",
       "    </tr>\n",
       "    <tr>\n",
       "      <th>isuzu</th>\n",
       "      <td>6785.0</td>\n",
       "    </tr>\n",
       "    <tr>\n",
       "      <th>jaguar</th>\n",
       "      <td>36000.0</td>\n",
       "    </tr>\n",
       "    <tr>\n",
       "      <th>mazda</th>\n",
       "      <td>18344.0</td>\n",
       "    </tr>\n",
       "    <tr>\n",
       "      <th>mercedes-benz</th>\n",
       "      <td>45400.0</td>\n",
       "    </tr>\n",
       "    <tr>\n",
       "      <th>mitsubishi</th>\n",
       "      <td>8189.0</td>\n",
       "    </tr>\n",
       "    <tr>\n",
       "      <th>nissan</th>\n",
       "      <td>13499.0</td>\n",
       "    </tr>\n",
       "    <tr>\n",
       "      <th>porsche</th>\n",
       "      <td>37028.0</td>\n",
       "    </tr>\n",
       "    <tr>\n",
       "      <th>toyota</th>\n",
       "      <td>15750.0</td>\n",
       "    </tr>\n",
       "    <tr>\n",
       "      <th>volkswagen</th>\n",
       "      <td>9995.0</td>\n",
       "    </tr>\n",
       "    <tr>\n",
       "      <th>volvo</th>\n",
       "      <td>13415.0</td>\n",
       "    </tr>\n",
       "  </tbody>\n",
       "</table>\n",
       "</div>"
      ],
      "text/plain": [
       "                 price\n",
       "company               \n",
       "alfa-romero    16500.0\n",
       "audi           18920.0\n",
       "bmw            41315.0\n",
       "chevrolet       6575.0\n",
       "dodge           6377.0\n",
       "honda          12945.0\n",
       "isuzu           6785.0\n",
       "jaguar         36000.0\n",
       "mazda          18344.0\n",
       "mercedes-benz  45400.0\n",
       "mitsubishi      8189.0\n",
       "nissan         13499.0\n",
       "porsche        37028.0\n",
       "toyota         15750.0\n",
       "volkswagen      9995.0\n",
       "volvo          13415.0"
      ]
     },
     "execution_count": 140,
     "metadata": {},
     "output_type": "execute_result"
    }
   ],
   "source": [
    "coches.groupby([\"company\"])[[\"company\",\"price\"]].agg({\"price\":np.max})"
   ]
  },
  {
   "cell_type": "markdown",
   "id": "5701b828",
   "metadata": {},
   "source": [
    "15. Calcula la media de kilometros de cada compañía"
   ]
  },
  {
   "cell_type": "markdown",
   "id": "a6b777cb",
   "metadata": {},
   "source": [
    "16. Ordena los coches por precio"
   ]
  }
 ],
 "metadata": {
  "kernelspec": {
   "display_name": "Python 3",
   "language": "python",
   "name": "python3"
  },
  "language_info": {
   "codemirror_mode": {
    "name": "ipython",
    "version": 3
   },
   "file_extension": ".py",
   "mimetype": "text/x-python",
   "name": "python",
   "nbconvert_exporter": "python",
   "pygments_lexer": "ipython3",
   "version": "3.11.0"
  },
  "vscode": {
   "interpreter": {
    "hash": "8788d27cba0b2dbc0718fef4e715449fab30bd59957c04e36cc9c246182e8fe0"
   }
  }
 },
 "nbformat": 4,
 "nbformat_minor": 5
}
