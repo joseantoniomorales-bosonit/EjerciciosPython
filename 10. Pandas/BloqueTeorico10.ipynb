{
 "cells": [
  {
   "attachments": {},
   "cell_type": "markdown",
   "metadata": {},
   "source": [
    "# Ejercicios con Series"
   ]
  },
  {
   "cell_type": "code",
   "execution_count": 1,
   "metadata": {},
   "outputs": [],
   "source": [
    "from pandas import Series"
   ]
  },
  {
   "cell_type": "code",
   "execution_count": 20,
   "metadata": {},
   "outputs": [
    {
     "name": "stdout",
     "output_type": "stream",
     "text": [
      "Size brand: 10\n",
      "Size models: 10\n",
      "Size prices: 10\n"
     ]
    }
   ],
   "source": [
    "#1. Crea las listas brand, models y prices citadas anteriormente.\n",
    "brand = ['Camp', 'Camp', 'Petzl', 'Petzl', 'Edelrid', 'Edelrid', 'Edelrid', 'Black Diamond', 'Black Diamond', 'Mammut']\n",
    "models = ['Energy', 'Jasper', 'Simba', 'Adjama New', 'Moe', 'Orion', 'Leaf','Xenes', 'Chaos', 'Ophir']\n",
    "prices = [39.90, 56.00, 45.00, 75.00, 49.90, 99.90, 65.00, 119.90, 99.90, 55.00]"
   ]
  },
  {
   "cell_type": "code",
   "execution_count": 8,
   "metadata": {},
   "outputs": [
    {
     "name": "stdout",
     "output_type": "stream",
     "text": [
      "Energy         39.9\n",
      "Jasper         56.0\n",
      "Simba          45.0\n",
      "Adjama New     75.0\n",
      "Moe            49.9\n",
      "Orion          99.9\n",
      "Leaf           65.0\n",
      "Xenes         119.9\n",
      "Chaos          99.9\n",
      "Ophir          55.0\n",
      "dtype: float64\n"
     ]
    }
   ],
   "source": [
    "#2. Define una Series en la que models sean los índices y prices los valores\n",
    "product = Series(prices, index=models)\n",
    "print(product)"
   ]
  },
  {
   "cell_type": "code",
   "execution_count": 5,
   "metadata": {},
   "outputs": [
    {
     "name": "stdout",
     "output_type": "stream",
     "text": [
      "Energy    39.9\n",
      "Jasper    56.0\n",
      "Simba     45.0\n",
      "Moe       49.9\n",
      "Leaf      65.0\n",
      "Ophir     55.0\n",
      "dtype: float64\n"
     ]
    }
   ],
   "source": [
    "#3. Muestra los modelos con el precio menor que 70 euros.\n",
    "print(product[product < 70])"
   ]
  },
  {
   "cell_type": "code",
   "execution_count": 23,
   "metadata": {},
   "outputs": [
    {
     "data": {
      "text/plain": [
       "Edelrid    44.91\n",
       "Edelrid    89.91\n",
       "Edelrid    58.50\n",
       "dtype: float64"
      ]
     },
     "execution_count": 23,
     "metadata": {},
     "output_type": "execute_result"
    }
   ],
   "source": [
    "#4. Define una nueva Series que contenta el precio original para todos los productos excepto para la marca (brand) “Edelrid”,\n",
    "# a la que hay que realizarle el 10% de descuento.\n",
    "nuevaSerie = Series(prices,index=brand)\n",
    "nuevaSerie[\"Edelrid\"] -= nuevaSerie[\"Edelrid\"] * 0.10\n",
    "nuevaSerie[\"Edelrid\"]\n"
   ]
  },
  {
   "attachments": {},
   "cell_type": "markdown",
   "metadata": {},
   "source": [
    "# Ejercicios con DataFrame"
   ]
  },
  {
   "cell_type": "code",
   "execution_count": 111,
   "metadata": {},
   "outputs": [
    {
     "name": "stdout",
     "output_type": "stream",
     "text": [
      "           Brand       Model  Price\n",
      "0           Camp      Energy   39.9\n",
      "1           Camp      Jasper   56.0\n",
      "2          Petzl       Simba   45.0\n",
      "3          Petzl  Adjama New   75.0\n",
      "4        Edelrid         Moe   49.9\n",
      "5        Edelrid       Orion   99.9\n",
      "6        Edelrid        Leaf   65.0\n",
      "7  Black Diamond       Xenes  119.9\n",
      "8  Black Diamond       Chaos   99.9\n",
      "9         Mammut       Ophir   55.0\n"
     ]
    }
   ],
   "source": [
    "from pandas import DataFrame\n",
    "\n",
    "#1. Usando las listas brands, models y prices de los ejercios anterior. Crear un DataFrame llamado que almacene toda esta\n",
    "# información en tres columnas (brand, model y price) y los índices los genere automáticamente.\n",
    "valores = {\"Brand\":brand,\"Model\":models,\"Price\":prices}\n",
    "miDataFrame = DataFrame(valores)\n",
    "print(miDataFrame)"
   ]
  },
  {
   "cell_type": "code",
   "execution_count": 45,
   "metadata": {},
   "outputs": [
    {
     "data": {
      "text/plain": [
       "0             Camp\n",
       "1             Camp\n",
       "2            Petzl\n",
       "3            Petzl\n",
       "4          Edelrid\n",
       "5          Edelrid\n",
       "6          Edelrid\n",
       "7    Black Diamond\n",
       "8    Black Diamond\n",
       "9           Mammut\n",
       "Name: Brand, dtype: object"
      ]
     },
     "execution_count": 45,
     "metadata": {},
     "output_type": "execute_result"
    }
   ],
   "source": [
    "#2. Mostrar la columna “Brand”.\n",
    "#miDataFrame[\"Brand\"] o:\n",
    "miDataFrame.Brand"
   ]
  },
  {
   "cell_type": "code",
   "execution_count": 47,
   "metadata": {},
   "outputs": [
    {
     "data": {
      "text/plain": [
       "Brand    Edelrid\n",
       "Model      Orion\n",
       "Price       99.9\n",
       "Name: 5, dtype: object"
      ]
     },
     "execution_count": 47,
     "metadata": {},
     "output_type": "execute_result"
    }
   ],
   "source": [
    "#3. Muestra la quinta fila.\n",
    "miDataFrame.iloc[5]"
   ]
  },
  {
   "cell_type": "code",
   "execution_count": 70,
   "metadata": {},
   "outputs": [
    {
     "name": "stdout",
     "output_type": "stream",
     "text": [
      "           Brand       Model   Price\n",
      "0           Camp      Energy  9999.0\n",
      "1           Camp      Jasper    56.0\n",
      "2          Petzl       Simba    45.0\n",
      "3          Petzl  Adjama New    75.0\n",
      "4        Edelrid         Moe    49.9\n",
      "5        Edelrid       Orion    99.9\n",
      "6        Edelrid        Leaf    65.0\n",
      "7  Black Diamond       Xenes   119.9\n",
      "8  Black Diamond       Chaos    99.9\n",
      "9         Mammut       Ophir    55.0\n"
     ]
    }
   ],
   "source": [
    "#4. Modifica el precio del modelo “Energy” a 9999.\n",
    "miDataFrame.loc[(miDataFrame.Model == \"Energy\"),'Price'] = 9999\n",
    "print(miDataFrame)"
   ]
  },
  {
   "cell_type": "code",
   "execution_count": 71,
   "metadata": {},
   "outputs": [
    {
     "name": "stdout",
     "output_type": "stream",
     "text": [
      "           Brand       Model   Price  Discount\n",
      "0           Camp      Energy  9999.0        50\n",
      "1           Camp      Jasper    56.0        50\n",
      "2          Petzl       Simba    45.0        50\n",
      "3          Petzl  Adjama New    75.0        50\n",
      "4        Edelrid         Moe    49.9        50\n",
      "5        Edelrid       Orion    99.9        50\n",
      "6        Edelrid        Leaf    65.0        50\n",
      "7  Black Diamond       Xenes   119.9        50\n",
      "8  Black Diamond       Chaos    99.9        50\n",
      "9         Mammut       Ophir    55.0        50\n"
     ]
    }
   ],
   "source": [
    "#5. Crea una nueva columna “Discount” con el valor 50 para cada fila.\n",
    "miDataFrame[\"Discount\"] = 50\n",
    "print(miDataFrame)"
   ]
  },
  {
   "cell_type": "code",
   "execution_count": 113,
   "metadata": {},
   "outputs": [
    {
     "name": "stdout",
     "output_type": "stream",
     "text": [
      "           Brand       Model  Price  Total\n",
      "0           Camp      Energy   39.9      0\n",
      "1           Camp      Jasper   56.0      0\n",
      "2          Petzl       Simba   45.0      0\n",
      "3          Petzl  Adjama New   75.0      0\n",
      "4        Edelrid         Moe   49.9      0\n",
      "5        Edelrid       Orion   99.9      0\n",
      "6        Edelrid        Leaf   65.0      0\n",
      "7  Black Diamond       Xenes  119.9      0\n",
      "8  Black Diamond       Chaos   99.9      0\n",
      "9         Mammut       Ophir   55.0      0\n"
     ]
    }
   ],
   "source": [
    "#6. Usando el DataFrame del Ejercicio 5, crea un nuevo DataFrame que añada las columnas “Sales” y “Total”.\n",
    "miDataFrame2 = miDataFrame.copy()\n",
    "miDataFrame[\"Sales\"] = 0\n",
    "miDataFrame2[\"Total\"] = 0\n",
    "\n",
    "print(miDataFrame2)"
   ]
  },
  {
   "cell_type": "code",
   "execution_count": 105,
   "metadata": {},
   "outputs": [
    {
     "name": "stdout",
     "output_type": "stream",
     "text": [
      "           Brand       Model  Price  Sales  Total\n",
      "1           Camp      Jasper   56.0      0      0\n",
      "2          Petzl       Simba   45.0      0      0\n",
      "3          Petzl  Adjama New   75.0      0      0\n",
      "4        Edelrid         Moe   49.9      0      0\n",
      "5        Edelrid       Orion   99.9      0      0\n",
      "7  Black Diamond       Xenes  119.9      0      0\n",
      "8  Black Diamond       Chaos   99.9      0      0\n",
      "9         Mammut       Ophir   55.0      0      0\n"
     ]
    }
   ],
   "source": [
    "#7. Borra la primera y séptima fila.\n",
    "miDataFrame2.drop([0,6],axis=0,inplace=True)\n",
    "print(miDataFrame2)"
   ]
  },
  {
   "cell_type": "code",
   "execution_count": 108,
   "metadata": {},
   "outputs": [
    {
     "name": "stdout",
     "output_type": "stream",
     "text": [
      "        Model  Sales  Total\n",
      "1      Jasper      0      0\n",
      "2       Simba      0      0\n",
      "3  Adjama New      0      0\n",
      "4         Moe      0      0\n",
      "5       Orion      0      0\n",
      "7       Xenes      0      0\n",
      "8       Chaos      0      0\n",
      "9       Ophir      0      0\n"
     ]
    }
   ],
   "source": [
    "#8. Borra la primera y tercera columna.\n",
    "miDataFrame2.drop([\"Brand\",\"Price\"],axis=1,inplace=True)\n",
    "print(miDataFrame2)\n"
   ]
  },
  {
   "cell_type": "code",
   "execution_count": 119,
   "metadata": {},
   "outputs": [
    {
     "name": "stdout",
     "output_type": "stream",
     "text": [
      "     Brand  Model  Price  Sales  Total\n",
      "4  Edelrid    Moe   49.9      0      0\n",
      "5  Edelrid  Orion   99.9      0      0\n",
      "6  Edelrid   Leaf   65.0      0      0\n"
     ]
    }
   ],
   "source": [
    "#9. Muestra la información para la marca “Edelrid”\n",
    "miDataFrame2 = miDataFrame.copy()\n",
    "miDataFrame[\"Sales\"] = 0\n",
    "miDataFrame2[\"Total\"] = 0\n",
    "\n",
    "print(miDataFrame2[miDataFrame2.Brand == \"Edelrid\"])"
   ]
  },
  {
   "cell_type": "code",
   "execution_count": 120,
   "metadata": {},
   "outputs": [
    {
     "name": "stdout",
     "output_type": "stream",
     "text": [
      "           Brand       Model  Price  Sales  Total\n",
      "3          Petzl  Adjama New   75.0      0      0\n",
      "5        Edelrid       Orion   99.9      0      0\n",
      "7  Black Diamond       Xenes  119.9      0      0\n",
      "8  Black Diamond       Chaos   99.9      0      0\n"
     ]
    }
   ],
   "source": [
    "#10.Muestra todos los valores con un precio mayor que 70.\n",
    "print(miDataFrame2[miDataFrame2.Price > 70])"
   ]
  },
  {
   "cell_type": "code",
   "execution_count": 123,
   "metadata": {},
   "outputs": [
    {
     "name": "stdout",
     "output_type": "stream",
     "text": [
      "           Brand       Model  Price  Sales  Total\n",
      "0           Camp      Energy   39.9     46      0\n",
      "1           Camp      Jasper   56.0    445      0\n",
      "2          Petzl       Simba   45.0     92      0\n",
      "3          Petzl  Adjama New   75.0      9      0\n",
      "4        Edelrid         Moe   49.9     17      0\n",
      "5        Edelrid       Orion   99.9    156      0\n",
      "6        Edelrid        Leaf   65.0     64      0\n",
      "7  Black Diamond       Xenes  119.9    239      0\n",
      "8  Black Diamond       Chaos   99.9      8      0\n",
      "9         Mammut       Ophir   55.0    422      0\n"
     ]
    }
   ],
   "source": [
    "import numpy as np\n",
    "\n",
    "#11.Cree una lista con 10 número aleatorios entre 0 y 500 y añadelo como valor de la columna “Sales”.\n",
    "array = np.random.randint(0,501,(10))\n",
    "\n",
    "miDataFrame2[\"Sales\"] = array\n",
    "print(miDataFrame2)"
   ]
  },
  {
   "cell_type": "code",
   "execution_count": 124,
   "metadata": {},
   "outputs": [
    {
     "name": "stdout",
     "output_type": "stream",
     "text": [
      "           Brand       Model  Price  Sales    Total\n",
      "0           Camp      Energy   39.9     46   1835.4\n",
      "1           Camp      Jasper   56.0    445  24920.0\n",
      "2          Petzl       Simba   45.0     92   4140.0\n",
      "3          Petzl  Adjama New   75.0      9    675.0\n",
      "4        Edelrid         Moe   49.9     17    848.3\n",
      "5        Edelrid       Orion   99.9    156  15584.4\n",
      "6        Edelrid        Leaf   65.0     64   4160.0\n",
      "7  Black Diamond       Xenes  119.9    239  28656.1\n",
      "8  Black Diamond       Chaos   99.9      8    799.2\n",
      "9         Mammut       Ophir   55.0    422  23210.0\n"
     ]
    }
   ],
   "source": [
    "#12.Calcula el valor de la columna “Total” del resultado de multiplicar el precio y las ventas.\n",
    "miDataFrame2[\"Total\"] = miDataFrame2[\"Price\"] * miDataFrame2[\"Sales\"]\n",
    "print(miDataFrame2)"
   ]
  },
  {
   "cell_type": "code",
   "execution_count": 133,
   "metadata": {},
   "outputs": [
    {
     "name": "stdout",
     "output_type": "stream",
     "text": [
      "           Brand       Model  Price  Sales    Total\n",
      "8  Black Diamond       Chaos   99.9      8    799.2\n",
      "3          Petzl  Adjama New   75.0      9    675.0\n",
      "4        Edelrid         Moe   49.9     17    848.3\n",
      "0           Camp      Energy   39.9     46   1835.4\n",
      "6        Edelrid        Leaf   65.0     64   4160.0\n",
      "2          Petzl       Simba   45.0     92   4140.0\n",
      "5        Edelrid       Orion   99.9    156  15584.4\n",
      "7  Black Diamond       Xenes  119.9    239  28656.1\n",
      "9         Mammut       Ophir   55.0    422  23210.0\n",
      "1           Camp      Jasper   56.0    445  24920.0\n"
     ]
    }
   ],
   "source": [
    "#13.Muestra la información del DataFrame ordenado por ventas.\n",
    "print(miDataFrame2.sort_values(by=\"Sales\"))"
   ]
  },
  {
   "cell_type": "code",
   "execution_count": 176,
   "metadata": {},
   "outputs": [
    {
     "name": "stdout",
     "output_type": "stream",
     "text": [
      "   Price    Total\n",
      "0   39.9   1835.4\n",
      "1   56.0  24920.0\n",
      "2   45.0   4140.0\n",
      "3   75.0    675.0\n",
      "4   49.9    848.3\n",
      "5   99.9  15584.4\n",
      "6   65.0   4160.0\n",
      "7  119.9  28656.1\n",
      "8   99.9    799.2\n",
      "9   55.0  23210.0\n"
     ]
    }
   ],
   "source": [
    "#14.Usando la función apply cambia el formato a dos decimales.\n",
    "print(miDataFrame2[[\"Price\",\"Total\"]].apply(lambda x: round(x,2)))"
   ]
  },
  {
   "cell_type": "code",
   "execution_count": 203,
   "metadata": {},
   "outputs": [
    {
     "name": "stdout",
     "output_type": "stream",
     "text": [
      "            Price       Sales         Total\n",
      "count   10.000000   10.000000     10.000000\n",
      "mean    70.550000  149.800000  10482.840000\n",
      "std     27.245846  166.090872  11374.848461\n",
      "min     39.900000    8.000000    675.000000\n",
      "25%     51.175000   24.250000   1095.075000\n",
      "50%     60.500000   78.000000   4150.000000\n",
      "75%     93.675000  218.250000  21303.600000\n",
      "max    119.900000  445.000000  28656.100000\n"
     ]
    }
   ],
   "source": [
    "import numpy as np\n",
    "\n",
    "#15.Muestra la principal información de las variables estadísticas de las columnas de tipo numérico.\n",
    "try:\n",
    "    print(miDataFrame2.describe(include=np.number))\n",
    "except:\n",
    "    print(\"No hay variables estadisticas de tipo numerico\")"
   ]
  },
  {
   "cell_type": "code",
   "execution_count": 204,
   "metadata": {},
   "outputs": [
    {
     "name": "stdout",
     "output_type": "stream",
     "text": [
      "No hay variables estadisticas de tipo categórico\n"
     ]
    }
   ],
   "source": [
    "#16.Muestra la principal información de las variables estadísticas de las columnas de tipo categórico.\n",
    "try:\n",
    "    print(miDataFrame2.describe(include=['category']))\n",
    "except:\n",
    "    print(\"No hay variables estadisticas de tipo categórico\")"
   ]
  },
  {
   "cell_type": "code",
   "execution_count": 216,
   "metadata": {},
   "outputs": [
    {
     "name": "stdout",
     "output_type": "stream",
     "text": [
      "Empty DataFrame\n",
      "Columns: [Brand, Model, Price, Sales, Total]\n",
      "Index: []\n",
      "\n",
      "  Brand   Model  Price  Sales   Total\n",
      "0  Camp  Energy   39.9     46  1835.4\n"
     ]
    }
   ],
   "source": [
    "#17.Muestra si hay algún valor nulo.\n",
    "print(miDataFrame2[miDataFrame2.isna().any(axis=1)])\n",
    "print()\n",
    "\n",
    "miDataFrame3 = miDataFrame2.copy()\n",
    "miDataFrame3.loc[0,\"Price\"] = None\n",
    "print(miDataFrame2[miDataFrame3.isna().any(axis=1)])"
   ]
  },
  {
   "cell_type": "code",
   "execution_count": 224,
   "metadata": {},
   "outputs": [
    {
     "name": "stdout",
     "output_type": "stream",
     "text": [
      "           Brand       Model  Price  Sales    Total\n",
      "0           Camp      Energy   39.9     46   1835.4\n",
      "1           Camp      Jasper   56.0    445  24920.0\n",
      "2          Petzl       Simba   45.0     92   4140.0\n",
      "3          Petzl  Adjama New   75.0      9    675.0\n",
      "4        Edelrid         Moe   49.9     17    848.3\n",
      "5        Edelrid       Orion   99.9    156  15584.4\n",
      "6        Edelrid        Leaf   65.0     64   4160.0\n",
      "7  Black Diamond       Xenes  119.9    239  28656.1\n",
      "8  Black Diamond       Chaos   99.9      8    799.2\n",
      "9         Mammut       Ophir   55.0    422  23210.0\n"
     ]
    },
    {
     "data": {
      "text/plain": [
       "Brand\n",
       "Black Diamond    2\n",
       "Camp             2\n",
       "Edelrid          3\n",
       "Mammut           1\n",
       "Petzl            2\n",
       "Name: Total, dtype: int64"
      ]
     },
     "execution_count": 224,
     "metadata": {},
     "output_type": "execute_result"
    }
   ],
   "source": [
    "#18.Calcula el número de productos para cada marca.\n",
    "print(miDataFrame2)\n",
    "miDataFrame2.groupby([\"Brand\"])[\"Total\"].count()"
   ]
  },
  {
   "cell_type": "code",
   "execution_count": 227,
   "metadata": {},
   "outputs": [],
   "source": [
    "#19.Guarda la información del DataFrame en un fichero xlsx.\n",
    "miDataFrame2.to_excel('DataFrame2.xlsx')"
   ]
  }
 ],
 "metadata": {
  "kernelspec": {
   "display_name": "Python 3",
   "language": "python",
   "name": "python3"
  },
  "language_info": {
   "codemirror_mode": {
    "name": "ipython",
    "version": 3
   },
   "file_extension": ".py",
   "mimetype": "text/x-python",
   "name": "python",
   "nbconvert_exporter": "python",
   "pygments_lexer": "ipython3",
   "version": "3.11.0 (main, Oct 24 2022, 18:26:48) [MSC v.1933 64 bit (AMD64)]"
  },
  "orig_nbformat": 4,
  "vscode": {
   "interpreter": {
    "hash": "8788d27cba0b2dbc0718fef4e715449fab30bd59957c04e36cc9c246182e8fe0"
   }
  }
 },
 "nbformat": 4,
 "nbformat_minor": 2
}
