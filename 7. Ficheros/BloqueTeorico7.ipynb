{
 "cells": [
  {
   "attachments": {},
   "cell_type": "markdown",
   "metadata": {},
   "source": [
    "# Ejercicio ficheros\n",
    "\n",
    "* line1 = “Es mi primera línea.”\n",
    "* line2 = “Es mi segunda línea.”\n",
    "* line3 = “Es mi tercera línea.”\n",
    "* line4 = “¡Es el final del fichero!”"
   ]
  },
  {
   "cell_type": "code",
   "execution_count": 25,
   "metadata": {},
   "outputs": [],
   "source": [
    "line1 = \"Es mi primera linea.\"\n",
    "line2 = \"Es mi segunda linea.\"\n",
    "line3 = \"Es mi tercera linea.\"\n",
    "line4 = \"¡Es el final del fichero!\"\n",
    "\n",
    "#1. Crea un fichero vacío llamado primerfichero.txt sin usar with.\n",
    "file = open(\"./archivos/primerfichero.txt\",\"w\")\n",
    "file.close()"
   ]
  },
  {
   "cell_type": "code",
   "execution_count": 26,
   "metadata": {},
   "outputs": [
    {
     "name": "stdout",
     "output_type": "stream",
     "text": [
      "fichero creado\n"
     ]
    }
   ],
   "source": [
    "#2. Crea un segundo fichero vacío llamado segundofichero.txt usando with.\n",
    "with open(\"./archivos/segundofichero.txt\",\"w\") as file:\n",
    "    print(\"fichero creado\")\n"
   ]
  },
  {
   "cell_type": "code",
   "execution_count": 27,
   "metadata": {},
   "outputs": [
    {
     "name": "stdout",
     "output_type": "stream",
     "text": [
      "Entra\n"
     ]
    },
    {
     "data": {
      "text/plain": [
       "True"
      ]
     },
     "execution_count": 27,
     "metadata": {},
     "output_type": "execute_result"
    }
   ],
   "source": [
    "import os.path\n",
    "\n",
    "#3. Escribe line1 en primerfichero.txt\n",
    "def escribirFichero(ruta, contenido):\n",
    "    if os.path.exists(ruta):\n",
    "        file = open(ruta,\"a\")\n",
    "    else:\n",
    "        file = open(ruta,\"w\")\n",
    "\n",
    "    if type(contenido) is list:\n",
    "        for i in contenido:\n",
    "            file.write(\"{0}\\n\".format(i))\n",
    "    else:\n",
    "        file.write(contenido)\n",
    "\n",
    "    file.close()\n",
    "    return file.closed\n",
    "\n",
    "escribirFichero(\"./archivos/primerfichero.txt\",line1)"
   ]
  },
  {
   "cell_type": "code",
   "execution_count": 28,
   "metadata": {},
   "outputs": [
    {
     "name": "stdout",
     "output_type": "stream",
     "text": [
      "Entra\n"
     ]
    },
    {
     "data": {
      "text/plain": [
       "True"
      ]
     },
     "execution_count": 28,
     "metadata": {},
     "output_type": "execute_result"
    }
   ],
   "source": [
    "#4. Escribe line2, line3 y line4 en segundofichero.txt cada uno en una línea.\n",
    "escribirFichero(\"./archivos/segundofichero.txt\",[line2,line3,line4])"
   ]
  },
  {
   "cell_type": "code",
   "execution_count": 29,
   "metadata": {},
   "outputs": [
    {
     "name": "stdout",
     "output_type": "stream",
     "text": [
      "Entra\n"
     ]
    },
    {
     "data": {
      "text/plain": [
       "True"
      ]
     },
     "execution_count": 29,
     "metadata": {},
     "output_type": "execute_result"
    }
   ],
   "source": [
    "#5. Lee primerfichero.txt y añade su contenido al final de segundofichero.txt.\n",
    "def leerFichero(ruta):\n",
    "    if not os.path.exists(ruta): raise TypeError(\"File not found\")\n",
    "\n",
    "    contenido = list()\n",
    "    fichero = open(ruta,\"r\")\n",
    "\n",
    "    for i in fichero:\n",
    "        contenido.append(i)\n",
    "\n",
    "    fichero.close()\n",
    "\n",
    "    return contenido\n",
    "\n",
    "contenido = leerFichero(\"./archivos/primerfichero.txt\")\n",
    "escribirFichero(\"./archivos/segundofichero.txt\",contenido)\n"
   ]
  }
 ],
 "metadata": {
  "kernelspec": {
   "display_name": "Python 3",
   "language": "python",
   "name": "python3"
  },
  "language_info": {
   "codemirror_mode": {
    "name": "ipython",
    "version": 3
   },
   "file_extension": ".py",
   "mimetype": "text/x-python",
   "name": "python",
   "nbconvert_exporter": "python",
   "pygments_lexer": "ipython3",
   "version": "3.11.0 (main, Oct 24 2022, 18:26:48) [MSC v.1933 64 bit (AMD64)]"
  },
  "orig_nbformat": 4,
  "vscode": {
   "interpreter": {
    "hash": "8788d27cba0b2dbc0718fef4e715449fab30bd59957c04e36cc9c246182e8fe0"
   }
  }
 },
 "nbformat": 4,
 "nbformat_minor": 2
}
