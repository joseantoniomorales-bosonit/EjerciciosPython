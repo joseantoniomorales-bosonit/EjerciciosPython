{
 "cells": [
  {
   "cell_type": "code",
   "execution_count": 1,
   "metadata": {},
   "outputs": [],
   "source": [
    "#1. Define las variables a y b con los valores 50 y 10\n",
    "a = 50\n",
    "b = 10"
   ]
  },
  {
   "cell_type": "code",
   "execution_count": 2,
   "metadata": {},
   "outputs": [
    {
     "name": "stdout",
     "output_type": "stream",
     "text": [
      "No es igual\n"
     ]
    }
   ],
   "source": [
    "#2. Comprueba si a y b son iguales.\n",
    "print(\"Es igual\" if a == b else \"No es igual\")"
   ]
  },
  {
   "cell_type": "code",
   "execution_count": 3,
   "metadata": {},
   "outputs": [
    {
     "name": "stdout",
     "output_type": "stream",
     "text": [
      "Es distinto\n"
     ]
    }
   ],
   "source": [
    "#3. Comprueba si a y b son distintos.\n",
    "print(\"Es distinto\" if a != b else \"No es distinto\")"
   ]
  },
  {
   "cell_type": "code",
   "execution_count": 4,
   "metadata": {},
   "outputs": [
    {
     "name": "stdout",
     "output_type": "stream",
     "text": [
      "A es mayor que B\n"
     ]
    }
   ],
   "source": [
    "#4. Comprueba si a es mayor que b.\n",
    "print(\"A es mayor que B\" if a > b else \"A no es mayor que B\")"
   ]
  },
  {
   "cell_type": "code",
   "execution_count": 5,
   "metadata": {},
   "outputs": [
    {
     "name": "stdout",
     "output_type": "stream",
     "text": [
      "A no es mayor o igual que B\n"
     ]
    }
   ],
   "source": [
    "#Comprueba si a es menor o igual que b.\n",
    "print(\"A es mayor o igual que B\" if a <= b else \"A no es mayor o igual que B\")"
   ]
  }
 ],
 "metadata": {
  "kernelspec": {
   "display_name": "Python 3.11.0 64-bit",
   "language": "python",
   "name": "python3"
  },
  "language_info": {
   "codemirror_mode": {
    "name": "ipython",
    "version": 3
   },
   "file_extension": ".py",
   "mimetype": "text/x-python",
   "name": "python",
   "nbconvert_exporter": "python",
   "pygments_lexer": "ipython3",
   "version": "3.11.0"
  },
  "orig_nbformat": 4,
  "vscode": {
   "interpreter": {
    "hash": "8788d27cba0b2dbc0718fef4e715449fab30bd59957c04e36cc9c246182e8fe0"
   }
  }
 },
 "nbformat": 4,
 "nbformat_minor": 2
}
