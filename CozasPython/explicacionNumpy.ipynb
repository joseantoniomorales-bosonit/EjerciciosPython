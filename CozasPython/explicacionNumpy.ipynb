{
 "cells": [
  {
   "cell_type": "code",
   "execution_count": 2,
   "metadata": {},
   "outputs": [
    {
     "name": "stdout",
     "output_type": "stream",
     "text": [
      "less(x1, x2, /, out=None, *, where=True, casting='same_kind', order='K', dtype=None, subok=True[, signature, extobj])\n",
      "\n",
      "Return the truth value of (x1 < x2) element-wise.\n",
      "\n",
      "Parameters\n",
      "----------\n",
      "x1, x2 : array_like\n",
      "    Input arrays.\n",
      "    If ``x1.shape != x2.shape``, they must be broadcastable to a common\n",
      "    shape (which becomes the shape of the output).\n",
      "out : ndarray, None, or tuple of ndarray and None, optional\n",
      "    A location into which the result is stored. If provided, it must have\n",
      "    a shape that the inputs broadcast to. If not provided or None,\n",
      "    a freshly-allocated array is returned. A tuple (possible only as a\n",
      "    keyword argument) must have length equal to the number of outputs.\n",
      "where : array_like, optional\n",
      "    This condition is broadcast over the input. At locations where the\n",
      "    condition is True, the `out` array will be set to the ufunc result.\n",
      "    Elsewhere, the `out` array will retain its original value.\n",
      "    Note that if an uninitialized `out` array is created via the default\n",
      "    ``out=None``, locations within it where the condition is False will\n",
      "    remain uninitialized.\n",
      "**kwargs\n",
      "    For other keyword-only arguments, see the\n",
      "    :ref:`ufunc docs <ufuncs.kwargs>`.\n",
      "\n",
      "Returns\n",
      "-------\n",
      "out : ndarray or scalar\n",
      "    Output array, element-wise comparison of `x1` and `x2`.\n",
      "    Typically of type bool, unless ``dtype=object`` is passed.\n",
      "    This is a scalar if both `x1` and `x2` are scalars.\n",
      "\n",
      "See Also\n",
      "--------\n",
      "greater, less_equal, greater_equal, equal, not_equal\n",
      "\n",
      "Examples\n",
      "--------\n",
      ">>> np.less([1, 2], [2, 2])\n",
      "array([ True, False])\n",
      "\n",
      "The ``<`` operator can be used as a shorthand for ``np.less`` on ndarrays.\n",
      "\n",
      ">>> a = np.array([1, 2])\n",
      ">>> b = np.array([2, 2])\n",
      ">>> a < b\n",
      "array([ True, False])\n"
     ]
    }
   ],
   "source": [
    "import numpy as np\n",
    "\n",
    "#Obtener informacion de un metodo np\n",
    "np.info(np.less)"
   ]
  },
  {
   "cell_type": "code",
   "execution_count": 5,
   "metadata": {},
   "outputs": [
    {
     "name": "stdout",
     "output_type": "stream",
     "text": [
      "True\n",
      "False\n",
      "True\n"
     ]
    }
   ],
   "source": [
    "#Comprobar si todos los elementos del array son verdaderos\n",
    "a = np.ones(5)\n",
    "b = np.zeros(5)\n",
    "b[2] = 1\n",
    "\n",
    "print(np.all(a))\n",
    "print(np.all(b))\n",
    "\n",
    "#Comprobar si algun de los elementos del array es verdadero\n",
    "print(np.any(b))"
   ]
  },
  {
   "cell_type": "code",
   "execution_count": 8,
   "metadata": {},
   "outputs": [
    {
     "name": "stdout",
     "output_type": "stream",
     "text": [
      "[ True False False]\n",
      "[ True  True False]\n",
      "[False False  True]\n",
      "[False  True  True]\n"
     ]
    }
   ],
   "source": [
    "a = np.array([1,6,7])\n",
    "b = np.flip(a) #Invertir array\n",
    "\n",
    "#Menor que\n",
    "print(np.less(a,b))\n",
    "#Menor igual que\n",
    "print(np.less_equal(a,b))\n",
    "\n",
    "#Mayor que\n",
    "print(np.greater(a,b))\n",
    "#Mayor igual que\n",
    "print(np.greater_equal(a,b))"
   ]
  },
  {
   "cell_type": "code",
   "execution_count": 20,
   "metadata": {},
   "outputs": [
    {
     "name": "stdout",
     "output_type": "stream",
     "text": [
      "[ 1  2  3  4  5  6  7  8  9 10 11 12 13 14 15 16 17 18 19 20 21 22]\n",
      "[ 0  2  4  6  8 10 12 14 16 18 20 22]\n",
      "[[ 9  6  6]\n",
      " [ 5 15 17]\n",
      " [ 6  7 10]]\n"
     ]
    }
   ],
   "source": [
    "#Crear array con un rango numerico\n",
    "print(np.arange(1,23))\n",
    "\n",
    "#Crear array con un rango numerico con saltos\n",
    "print(np.arange(0,23,2))\n",
    "\n",
    "#Crear array aleatorios\n",
    "print(np.random.randint(0,20,(3,3)))"
   ]
  },
  {
   "cell_type": "code",
   "execution_count": 14,
   "metadata": {},
   "outputs": [
    {
     "name": "stdout",
     "output_type": "stream",
     "text": [
      "Matriz de identidad\n",
      "[[1. 0. 0.]\n",
      " [0. 1. 0.]\n",
      " [0. 0. 1.]]\n",
      "\n",
      "Diagonal del array\n",
      "[1 5]\n",
      "\n",
      "Filas y columnas\n",
      "(3, 3)\n",
      "\n",
      "Diagonal con cualquier numero\n",
      "[[6. 0. 0.]\n",
      " [0. 6. 0.]\n",
      " [0. 0. 6.]]\n",
      "\n",
      "Invertir una diagonal\n",
      "[[0. 0. 6.]\n",
      " [0. 6. 0.]\n",
      " [6. 0. 0.]]\n",
      "\n",
      "Diagonal a partir de una matriz\n",
      "[[1 0 0]\n",
      " [0 2 0]\n",
      " [0 0 3]]\n",
      "Invertir diagonal en filas\n",
      "[[0 0 3]\n",
      " [0 2 0]\n",
      " [1 0 0]]\n",
      "\n"
     ]
    }
   ],
   "source": [
    "#Crear matriz de identeidad\n",
    "print(\"Matriz de identidad\")\n",
    "print(np.identity(3))\n",
    "print()\n",
    "\n",
    "#Obtener la diagonal del array\n",
    "print(\"Diagonal del array\")\n",
    "a = np.arange(9).reshape(3,3)\n",
    "print(np.diag(a,1))\n",
    "print()\n",
    "\n",
    "#Obtener filas y columnas del array\n",
    "print(\"Filas y columnas\")\n",
    "print(a.shape)\n",
    "print()\n",
    "\n",
    "#Crear una diagonal con cualquier numero\n",
    "print(\"Diagonal con cualquier numero\")\n",
    "numero = 6\n",
    "a = np.zeros((3,3))\n",
    "np.fill_diagonal(a,numero)\n",
    "print(a)\n",
    "print()\n",
    "\n",
    "#Invertir orden columnas\n",
    "print(\"Invertir una diagonal\")\n",
    "b = a\n",
    "b = np.fliplr(b)\n",
    "print(b)\n",
    "print()\n",
    "\n",
    "#Crear diagonal a paritr de una numeracion\n",
    "a = np.diagflat(np.arange(1,4))\n",
    "print(\"Diagonal a partir de una matriz\")\n",
    "print(a)\n",
    "\n",
    "#Invertir orden filas\n",
    "print(\"Invertir diagonal en filas\")\n",
    "c = a\n",
    "c = np.flipud(c)\n",
    "print(c)\n",
    "print()\n",
    "\n",
    "\n"
   ]
  },
  {
   "cell_type": "code",
   "execution_count": 19,
   "metadata": {},
   "outputs": [
    {
     "name": "stdout",
     "output_type": "stream",
     "text": [
      "Diagonal a partir de una matriz\n",
      "[[1 0 0]\n",
      " [0 2 0]\n",
      " [0 0 3]]\n",
      "\n",
      "[[0 0 1]\n",
      " [0 2 0]\n",
      " [3 0 0]]\n",
      "\n",
      "\n",
      "[[0 0 3]\n",
      " [0 2 0]\n",
      " [1 0 0]]\n",
      "\n",
      "\n",
      "[[3 0 0]\n",
      " [0 2 0]\n",
      " [0 0 1]]\n",
      "\n"
     ]
    }
   ],
   "source": [
    "a = np.diagflat(np.arange(1,4))\n",
    "print(\"Diagonal a partir de una matriz\")\n",
    "print(a)\n",
    "print()\n",
    "print(np.fliplr(a))\n",
    "print()\n",
    "print()\n",
    "print(np.flipud(a))\n",
    "print()\n",
    "print()\n",
    "print(np.flipud(np.fliplr(a)))\n",
    "print()"
   ]
  },
  {
   "cell_type": "code",
   "execution_count": null,
   "metadata": {},
   "outputs": [],
   "source": []
  }
 ],
 "metadata": {
  "kernelspec": {
   "display_name": "Python 3",
   "language": "python",
   "name": "python3"
  },
  "language_info": {
   "codemirror_mode": {
    "name": "ipython",
    "version": 3
   },
   "file_extension": ".py",
   "mimetype": "text/x-python",
   "name": "python",
   "nbconvert_exporter": "python",
   "pygments_lexer": "ipython3",
   "version": "3.11.0"
  },
  "orig_nbformat": 4,
  "vscode": {
   "interpreter": {
    "hash": "8788d27cba0b2dbc0718fef4e715449fab30bd59957c04e36cc9c246182e8fe0"
   }
  }
 },
 "nbformat": 4,
 "nbformat_minor": 2
}
