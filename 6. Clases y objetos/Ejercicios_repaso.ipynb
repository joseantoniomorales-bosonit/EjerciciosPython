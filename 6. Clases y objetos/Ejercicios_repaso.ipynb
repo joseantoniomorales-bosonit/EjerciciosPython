{
 "cells": [
  {
   "cell_type": "markdown",
   "id": "823e0ba2",
   "metadata": {},
   "source": [
    "# Ejercicios de Repaso\n",
    "\n",
    "## Ejercicio 1\n",
    "\n",
    "Crear un programa que tire un dado. Tras tener un resultado, pide al usuario que diga si quiere que se genere otro número. Nota: Para pedir información al usuario se puede utilizar *variable = input()"
   ]
  },
  {
   "cell_type": "markdown",
   "id": "c4da793d",
   "metadata": {},
   "source": [
    "## Ejercicio 2\n",
    "\n",
    "El ordenador generará un número aleatorio del 1 al 10. El usuario tendrá que adivinarlo. El ordenador pedirá al usuario que diga un número y en caso de que falle le dará una pista (el número es mayor o menor que el dicho)."
   ]
  },
  {
   "cell_type": "markdown",
   "id": "c4be1266",
   "metadata": {},
   "source": [
    "## Ejercicio 3\n",
    "\n",
    "Crear una función a la que le pasamos una lista y nos devuelve la misma lista pero ordenada al azar. Utilizar la función random.choice()"
   ]
  },
  {
   "cell_type": "code",
   "execution_count": null,
   "id": "bb64f10d",
   "metadata": {},
   "outputs": [],
   "source": [
    "import random\n"
   ]
  },
  {
   "cell_type": "markdown",
   "id": "2f20154b",
   "metadata": {},
   "source": [
    "## Ejercicio 4\n",
    "\n",
    "Crear una clase contraseña. Tendrá un método que nos diga si la contraseña es válida (usando el código del otro día). Será capaz de puntuar una contraseña (longitud + n_simbolos + n_numero) y comparar contraseñas entre sí. Al imprimir por pantalla una cadena mostraremos asteriscos."
   ]
  },
  {
   "cell_type": "code",
   "execution_count": null,
   "id": "b321d19e",
   "metadata": {},
   "outputs": [],
   "source": []
  },
  {
   "cell_type": "markdown",
   "id": "b6368597",
   "metadata": {},
   "source": [
    "A continuacion crear una clase usuario que tiene nombre, apellidos, correo electrónico y una contraseña."
   ]
  },
  {
   "cell_type": "code",
   "execution_count": null,
   "id": "b8e82b3f",
   "metadata": {},
   "outputs": [],
   "source": []
  },
  {
   "cell_type": "markdown",
   "id": "18036cc8",
   "metadata": {},
   "source": [
    "## Ejercicio 5\n",
    "\n",
    "Vamos a realizar una pequeña simulación con números aleatorios. Vamos a simular como antes el lanzamiento de un dado. Trataremos de obtener de una forma experimental la probabilidad de obtener distintos resultados:\n",
    "\n",
    "+ Calcular la probabilidad de obtener un 6 en un lanzamiento.\n",
    "+ Calcular la probabilidad de obtener al menos cuatro 6 en 5 lanzamientos.\n",
    "+ Calcular la probabilidad de obtener un número mayor en el segundo lanzamiento que en el primer lanzamiento.\n"
   ]
  },
  {
   "cell_type": "code",
   "execution_count": null,
   "id": "38d3b0c1",
   "metadata": {},
   "outputs": [],
   "source": [
    "import random\n",
    "import numpy as np"
   ]
  },
  {
   "cell_type": "markdown",
   "id": "859ab042",
   "metadata": {},
   "source": [
    "## Ejercicio 6\n",
    "\n",
    "Tenemos el siguiente juego: pagamos 1 euro y podemos tirar 4 dados. Si la suma de los 4 dados es menor que 9 nos pagan _r_ euros, en caso contrario perdemos el euro apostado (supondremos r=10). ¿Jugarías?"
   ]
  },
  {
   "cell_type": "markdown",
   "id": "063eccbe",
   "metadata": {},
   "source": [
    "## Ejercicio 7\n",
    "\n",
    "Dado el [Ejercicio 3.3](#Ejercicio3.3), reproduce el ejercicio, pero esta vez con un *regex*"
   ]
  }
 ],
 "metadata": {
  "kernelspec": {
   "display_name": "Python 3 (ipykernel)",
   "language": "python",
   "name": "python3"
  },
  "language_info": {
   "codemirror_mode": {
    "name": "ipython",
    "version": 3
   },
   "file_extension": ".py",
   "mimetype": "text/x-python",
   "name": "python",
   "nbconvert_exporter": "python",
   "pygments_lexer": "ipython3",
   "version": "3.9.7"
  }
 },
 "nbformat": 4,
 "nbformat_minor": 5
}
