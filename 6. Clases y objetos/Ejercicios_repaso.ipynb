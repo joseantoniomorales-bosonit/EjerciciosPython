{
 "cells": [
  {
   "cell_type": "markdown",
   "id": "823e0ba2",
   "metadata": {},
   "source": [
    "# Ejercicios de Repaso\n",
    "\n",
    "## Ejercicio 1\n",
    "\n",
    "Crear un programa que tire un dado. Tras tener un resultado, pide al usuario que diga si quiere que se genere otro número. Nota: Para pedir información al usuario se puede utilizar *variable = input()"
   ]
  },
  {
   "cell_type": "code",
   "execution_count": 8,
   "id": "77ff8a51",
   "metadata": {},
   "outputs": [
    {
     "name": "stdout",
     "output_type": "stream",
     "text": [
      "El resultado es: 1\n",
      "El resultado es: 5\n",
      "El resultado es: 4\n",
      "El resultado es: 1\n"
     ]
    }
   ],
   "source": [
    "import random\n",
    "from random import randint\n",
    "\n",
    "def exe():\n",
    "    generar = \"si\"\n",
    "\n",
    "    while generar == \"si\":\n",
    "        dado = randint(1,6)\n",
    "        print(\"El resultado es: {0}\".format(dado))\n",
    "\n",
    "        generar = str(input(\"Quieres generar otro numero? (si/no)\")).lower()\n",
    "\n",
    "exe()"
   ]
  },
  {
   "cell_type": "markdown",
   "id": "c4da793d",
   "metadata": {},
   "source": [
    "## Ejercicio 2\n",
    "\n",
    "El ordenador generará un número aleatorio del 1 al 10. El usuario tendrá que adivinarlo. El ordenador pedirá al usuario que diga un número y en caso de que falle le dará una pista (el número es mayor o menor que el dicho)."
   ]
  },
  {
   "cell_type": "code",
   "execution_count": 14,
   "id": "eae926b4",
   "metadata": {},
   "outputs": [
    {
     "name": "stdout",
     "output_type": "stream",
     "text": [
      "5\n",
      "El numero es mayor que 3\n",
      "El numero es menor que 7\n",
      "Has acertado, el numero era 5\n"
     ]
    }
   ],
   "source": [
    "import random\n",
    "\n",
    "def exe():\n",
    "    numAdivinar = random.randint(1,10)\n",
    "    numUser = 0\n",
    "\n",
    "    while True:\n",
    "        try:\n",
    "            numUser = int(input(\"Adivina el numero\"))\n",
    "        except:\n",
    "            raise TypeError(\"Tiene que insertar un elemento de tipo entero\")\n",
    "\n",
    "        if numAdivinar == numUser:\n",
    "            print(\"Has acertado, el numero era {0}\".format(numAdivinar))\n",
    "            break\n",
    "\n",
    "        print(\"El numero es mayor que {0}\".format(numUser)) if numUser < numAdivinar else print(\"El numero es menor que {0}\".format(numUser))\n",
    "\n",
    "exe()"
   ]
  },
  {
   "cell_type": "markdown",
   "id": "c4be1266",
   "metadata": {},
   "source": [
    "## Ejercicio 3\n",
    "\n",
    "Crear una función a la que le pasamos una lista y nos devuelve la misma lista pero ordenada al azar. Utilizar la función random.choice()"
   ]
  },
  {
   "cell_type": "code",
   "execution_count": 36,
   "id": "bb64f10d",
   "metadata": {},
   "outputs": [
    {
     "name": "stdout",
     "output_type": "stream",
     "text": [
      "[6, 2, 4, 7, 5, 8, 1, 3, 7]\n"
     ]
    }
   ],
   "source": [
    "import random\n",
    "\n",
    "def exe(lista):\n",
    "    listaRandom = list()\n",
    "\n",
    "    while len(lista) > 0:\n",
    "        valor = random.choice(lista)\n",
    "        lista.remove(valor)\n",
    "        listaRandom.append(valor)\n",
    "\n",
    "    return listaRandom\n",
    "\n",
    "lista = [1,2,3,4,5,6,7,7,8]\n",
    "print(exe(lista))"
   ]
  },
  {
   "cell_type": "markdown",
   "id": "2f20154b",
   "metadata": {},
   "source": [
    "## Ejercicio 4\n",
    "\n",
    "Crear una clase contraseña. Tendrá un método que nos diga si la contraseña es válida (usando el código del otro día). Será capaz de puntuar una contraseña (longitud + n_simbolos + n_numero) y comparar contraseñas entre sí. Al imprimir por pantalla una cadena mostraremos asteriscos."
   ]
  },
  {
   "cell_type": "code",
   "execution_count": 20,
   "id": "b321d19e",
   "metadata": {},
   "outputs": [],
   "source": [
    "import re\n",
    "\n",
    "def genClave(clave):\n",
    "    if len(clave) < 8:\n",
    "        return \"La contraseña debe tener un minimo de 8 caracteres\"\n",
    "\n",
    "    if len(clave.split(\" \")) - 1 > 0:\n",
    "        return \"La contraseña no debe tener espacios en blanco\"\n",
    "\n",
    "    patron = re.compile(\"[a-z]+[A-Z]+[0-9]+[^a-zA-Z0-9]+\")\n",
    "    if not patron.match(clave):\n",
    "        return \"La contraseña debe contener mayúsculas, minúsculas, números y al menos un caracter no alfanumérico.\"\n",
    "\n",
    "    return True"
   ]
  },
  {
   "cell_type": "markdown",
   "id": "b6368597",
   "metadata": {},
   "source": [
    "A continuacion crear una clase usuario que tiene nombre, apellidos, correo electrónico y una contraseña."
   ]
  },
  {
   "cell_type": "code",
   "execution_count": 32,
   "id": "b8e82b3f",
   "metadata": {},
   "outputs": [
    {
     "name": "stdout",
     "output_type": "stream",
     "text": [
      "\n",
      "        Nombre: Jose\n",
      "        Apellidos: Morales\n",
      "        Email: joseantonio.morales@bosonit.com\n",
      "        Clave: ***********\n",
      "        \n"
     ]
    }
   ],
   "source": [
    "class Usuario:\n",
    "    def __init__(self, nombre,apellidos,email,clave):\n",
    "        self.__nombre = nombre\n",
    "        self.__apellidos = apellidos\n",
    "        self.__email = email\n",
    "        self.__clave = clave\n",
    "\n",
    "    def getNombre(self):\n",
    "        return self.__nombre\n",
    "\n",
    "    def getApellidos(self):\n",
    "        return self.__apellidos\n",
    "\n",
    "    def getEmail(self):\n",
    "        return self.__email\n",
    "\n",
    "    def getClave(self):\n",
    "        return \"*\" * len(self.__clave)\n",
    "\n",
    "    def setNombre(self, nombre):\n",
    "        self.__nombre = nombre\n",
    "\n",
    "    def setApellidos(self, apellidos):\n",
    "        self.__apellidos = apellidos\n",
    "\n",
    "    def setEmail(self, email):\n",
    "        self.__email = email\n",
    "\n",
    "    def setClave(self, clave):\n",
    "        self.__clavev = clave\n",
    "\n",
    "    def __str__(self):\n",
    "        return '''\n",
    "        Nombre: {0}\n",
    "        Apellidos: {1}\n",
    "        Email: {2}\n",
    "        Clave: {3}\n",
    "        '''.format(self.getNombre(), self.getApellidos(), self.getEmail(), self.getClave())\n",
    "\n",
    "clave = \"kasJ43.@@@@\"\n",
    "if genClave(clave):\n",
    "    usu = Usuario(\"Jose\",\"Morales\",\"joseantonio.morales@bosonit.com\",clave)\n",
    "    print(usu.__str__())"
   ]
  },
  {
   "cell_type": "markdown",
   "id": "18036cc8",
   "metadata": {},
   "source": [
    "## Ejercicio 5\n",
    "\n",
    "Vamos a realizar una pequeña simulación con números aleatorios. Vamos a simular como antes el lanzamiento de un dado. Trataremos de obtener de una forma experimental la probabilidad de obtener distintos resultados:\n",
    "\n",
    "+ Calcular la probabilidad de obtener un 6 en un lanzamiento.\n",
    "+ Calcular la probabilidad de obtener al menos cuatro 6 en 5 lanzamientos.\n",
    "+ Calcular la probabilidad de obtener un número mayor en el segundo lanzamiento que en el primer lanzamiento.\n"
   ]
  },
  {
   "cell_type": "code",
   "execution_count": 1,
   "id": "38d3b0c1",
   "metadata": {},
   "outputs": [
    {
     "name": "stdout",
     "output_type": "stream",
     "text": [
      "La probabilidad de obtener un 6 en un lanzamiento es de 0.16666666666666666\n",
      "Lo hacemos con numpy: 0.164685\n",
      "\n",
      "La probabilidad de obtener al menos cuatro 6 en 5 lanzamientos es: 0.13333333333333333\n",
      "Lo hacemos con numpy: 0.13430599999999998\n",
      "\n",
      "0.41602\n"
     ]
    }
   ],
   "source": [
    "import random\n",
    "import numpy as np\n",
    "\n",
    "def npDados(cara=6):\n",
    "    casos = 200000\n",
    "    dado = np.random.randint(1,7, size=casos)\n",
    "\n",
    "    return np.count_nonzero(dado == cara) / casos\n",
    "\n",
    "def npDadosMayor2():\n",
    "    casos = 200000\n",
    "\n",
    "    dado1 = np.random.randint(1,7, size=casos)\n",
    "    dado2 = np.random.randint(1,7, size=casos)\n",
    "\n",
    "    return np.count_nonzero(dado1 < dado2) / casos\n",
    "\n",
    "\n",
    "#Calcular la probabilidad de obtener un 6 en un lanzamiento.\n",
    "pro1 = 1 / 6\n",
    "print(\"La probabilidad de obtener un 6 en un lanzamiento es de {0}\".format(pro1))\n",
    "\n",
    "#con np\n",
    "print(\"Lo hacemos con numpy: {0}\\n\".format(npDados()))\n",
    "\n",
    "#Calcular la probabilidad de obtener al menos cuatro 6 en 5 lanzamientos.\n",
    "lanzamientos = 5\n",
    "aciertos = 4\n",
    "dif = lanzamientos - aciertos\n",
    "pro2 = (1 * (lanzamientos - dif)) / (6 * lanzamientos)\n",
    "print(\"La probabilidad de obtener al menos cuatro 6 en 5 lanzamientos es: {0}\".format(pro2))\n",
    "\n",
    "#con np\n",
    "count = 0\n",
    "for i in range(4):\n",
    "    count += npDados()\n",
    "\n",
    "probNp = count/5\n",
    "print(\"Lo hacemos con numpy: {0}\\n\".format(probNp))\n",
    "\n",
    "#Calcular la probabilidad de obtener un número mayor en el segundo lanzamiento que en el primer lanzamiento.\n",
    "print(npDadosMayor2())"
   ]
  },
  {
   "cell_type": "markdown",
   "id": "859ab042",
   "metadata": {},
   "source": [
    "## Ejercicio 6\n",
    "\n",
    "Tenemos el siguiente juego: pagamos 1 euro y podemos tirar 4 dados. Si la suma de los 4 dados es menor que 9 nos pagan _r_ euros, en caso contrario perdemos el euro apostado (supondremos r=10). ¿Jugarías?"
   ]
  },
  {
   "cell_type": "code",
   "execution_count": 125,
   "id": "d68188ec",
   "metadata": {},
   "outputs": [
    {
     "name": "stdout",
     "output_type": "stream",
     "text": [
      "[4 5 2 3]\n",
      "Has perdido 1€. Suma: 14\n",
      "No, porque la probabilidad de ganar es de: 0.053755\n"
     ]
    }
   ],
   "source": [
    "def tirada():\n",
    "    dados = np.random.randint(1,7, size=4)\n",
    "    print(dados)\n",
    "    suma = str(dados.sum())\n",
    "\n",
    "    return \"Has ganado 10€!! Suma: \"+suma if dados.sum() < 9 else \"Has perdido 1€. Suma: \"+suma\n",
    "\n",
    "def probGanar():\n",
    "    casos = 200000\n",
    "    dados = np.array(np.random.randint(1,7, size=casos))\n",
    "    for i in range(3):\n",
    "        dados += np.random.randint(1,7, size=casos)\n",
    "\n",
    "    return np.count_nonzero(dados < 9) / casos\n",
    "\n",
    "print(tirada())\n",
    "print(\"No, porque la probabilidad de ganar es de: {0}\".format(probGanar()))"
   ]
  },
  {
   "cell_type": "markdown",
   "id": "063eccbe",
   "metadata": {},
   "source": [
    "## Ejercicio 7\n",
    "\n",
    "Dado el [Ejercicio 3.3](#Ejercicio3.3), reproduce el ejercicio, pero esta vez con un *regex*"
   ]
  }
 ],
 "metadata": {
  "kernelspec": {
   "display_name": "Python 3",
   "language": "python",
   "name": "python3"
  },
  "language_info": {
   "codemirror_mode": {
    "name": "ipython",
    "version": 3
   },
   "file_extension": ".py",
   "mimetype": "text/x-python",
   "name": "python",
   "nbconvert_exporter": "python",
   "pygments_lexer": "ipython3",
   "version": "3.11.0"
  },
  "vscode": {
   "interpreter": {
    "hash": "8788d27cba0b2dbc0718fef4e715449fab30bd59957c04e36cc9c246182e8fe0"
   }
  }
 },
 "nbformat": 4,
 "nbformat_minor": 5
}
