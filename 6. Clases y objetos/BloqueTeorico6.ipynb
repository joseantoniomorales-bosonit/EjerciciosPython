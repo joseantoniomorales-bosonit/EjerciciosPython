{
 "cells": [
  {
   "attachments": {},
   "cell_type": "markdown",
   "metadata": {},
   "source": [
    "# Ejercicio FirstExercise"
   ]
  },
  {
   "cell_type": "code",
   "execution_count": 4,
   "metadata": {},
   "outputs": [],
   "source": [
    "#1. Define una clase vacía llamada FirstExercise.\n",
    "#2. Modifica la clase anterior. La clase debe recibir obligatoriamente las variables number y chapter.\n",
    "\n",
    "class FirstExercise:\n",
    "    def __init__(self, number,chapter):\n",
    "        self.number = number\n",
    "        self.chapter = chapter\n",
    "\n",
    "    #4. Añade un método que imprima por pantalla el número.\n",
    "    def getNumber(self):\n",
    "        return self.number\n"
   ]
  },
  {
   "cell_type": "code",
   "execution_count": 5,
   "metadata": {},
   "outputs": [
    {
     "name": "stdout",
     "output_type": "stream",
     "text": [
      "6\n"
     ]
    }
   ],
   "source": [
    "#3. Instancia un objeto con los valores 6 y “Clases y objetos”.\n",
    "inst = FirstExercise(6,\"Clases y objetos\")\n",
    "print(inst.getNumber())"
   ]
  },
  {
   "cell_type": "code",
   "execution_count": 10,
   "metadata": {},
   "outputs": [
    {
     "name": "stdout",
     "output_type": "stream",
     "text": [
      "50.27\n",
      "25.13\n"
     ]
    }
   ],
   "source": [
    "import math\n",
    "\n",
    "#5. Crea una clase Circle que dado un radio permita consultar el área, el perímetro y permita modificar el radio.\n",
    "class Circle:\n",
    "    def __init__(self, radio):\n",
    "        self.radio = radio\n",
    "\n",
    "    def getArea(self):\n",
    "        return round(math.pi * self.radio**2,2)\n",
    "\n",
    "    def getPerimetro(self):\n",
    "        return round(2 * math.pi * self.radio,2)\n",
    "\n",
    "    def setRadio(self, radio):\n",
    "        self.radio = radio\n",
    "\n",
    "circulo = Circle(4)\n",
    "print(circulo.getArea())\n",
    "print(circulo.getPerimetro())"
   ]
  },
  {
   "cell_type": "code",
   "execution_count": 1,
   "metadata": {},
   "outputs": [
    {
     "name": "stdout",
     "output_type": "stream",
     "text": [
      "Autobus\n",
      "La capacidad de Autobus es de 70\n",
      "Bosonit\n",
      "AvanzaBus\n"
     ]
    }
   ],
   "source": [
    "#1. Cree una clase Vehicle que reciba el nombre, velocidad máxima y el kilometraje.\n",
    "class Vehicle:\n",
    "    #5. Defina la variable owner que tenga el valor “Bosonit” para todos los objetos de la clase.\n",
    "    OWNER = \"Bosonit\"\n",
    "\n",
    "    def __init__(self, name,maxSpeed,km):\n",
    "        self.__name = name\n",
    "        self.__maxSpeed = maxSpeed\n",
    "        self.__km = km\n",
    "\n",
    "    def getName(self):\n",
    "        return self.__name\n",
    "\n",
    "    def getMaxSpeed(self):\n",
    "        return self.__maxSpeed\n",
    "\n",
    "    def getKm(self):\n",
    "        return self.__km\n",
    "\n",
    "    def getOwner(self):\n",
    "        return self.OWNER\n",
    "\n",
    "    def setName(self, name):\n",
    "        self.__name = name\n",
    "\n",
    "    def setMaxSpeed(self, maxSpeed):\n",
    "        self.__maxSpeed = maxSpeed\n",
    "\n",
    "    def setKm(self, km):\n",
    "        self.__km = km\n",
    "\n",
    "    #3. Cree un método a Vehicle que recibiendo la capacidad, imprima por pantalla “La capacidad de (nombre) es de (capacidad).\n",
    "    def capacidad(self, cap):\n",
    "        return \"La capacidad de {0} es de {1}\".format(self.__name, cap)\n",
    "\n",
    "\n",
    "#2. Cree una clase Bus que herede todos los métodos y variables de Vehicle.\n",
    "class Bus(Vehicle):\n",
    "    def __ini__(self,name,maxSpeed,km):\n",
    "        super().__init__(name,maxSpeed,km)\n",
    "\n",
    "    #4. Cree el mismo método para Bus en el que por defecto la capacidad sea de 50.\n",
    "    def capacidad(self, cap=50):\n",
    "        return \"La capacidad de {0} es de {1}\".format(super().getName(), cap)\n",
    "\n",
    "bus = Bus(\"Autobus\",200,15555)\n",
    "print(bus.getName())\n",
    "print(bus.capacidad(70))\n",
    "print(bus.getOwner())\n",
    "bus.setName(\"AvanzaBus\")\n",
    "print(bus.getName())\n",
    "\n"
   ]
  }
 ],
 "metadata": {
  "kernelspec": {
   "display_name": "Python 3",
   "language": "python",
   "name": "python3"
  },
  "language_info": {
   "codemirror_mode": {
    "name": "ipython",
    "version": 3
   },
   "file_extension": ".py",
   "mimetype": "text/x-python",
   "name": "python",
   "nbconvert_exporter": "python",
   "pygments_lexer": "ipython3",
   "version": "3.11.0"
  },
  "orig_nbformat": 4,
  "vscode": {
   "interpreter": {
    "hash": "8788d27cba0b2dbc0718fef4e715449fab30bd59957c04e36cc9c246182e8fe0"
   }
  }
 },
 "nbformat": 4,
 "nbformat_minor": 2
}
