{
 "cells": [
  {
   "cell_type": "markdown",
   "id": "d45dc88d",
   "metadata": {},
   "source": [
    "# Ejercicios repaso Objetos\n",
    "\n",
    "## Ejercicio 1\n",
    "\n",
    "Crea una clase vehículo que al instanciarse se le pase la información la potencia y su consumo a los 100 km. Además, crea un método que nos devuelva el consumo por kilómetro"
   ]
  },
  {
   "cell_type": "code",
   "execution_count": 2,
   "id": "39eeee53",
   "metadata": {},
   "outputs": [],
   "source": [
    "class Vehiculo:\n",
    "    def __init__(self, potencia,consumo):\n",
    "        self.__potencia = potencia\n",
    "        self.__consumo = consumo\n",
    "\n",
    "    def getPotencia(self):\n",
    "        return self.__potencia\n",
    "\n",
    "    def getConsumo(self):\n",
    "        return self.__consumo\n",
    "\n",
    "    def setPotencia(self, potencia):\n",
    "        self.__potencia = potencia\n",
    "\n",
    "    def setConsumo(self, consumo):\n",
    "        self.__consumo = consumo\n",
    "\n",
    "    def consumoPorKM(self):\n",
    "        return self.__consumo / 100"
   ]
  },
  {
   "cell_type": "markdown",
   "id": "d57993aa",
   "metadata": {},
   "source": [
    "## Ejercicio 2\n",
    "\n",
    "Crear una clase coche que herede de la clase vehículo. Se añaden los atributos numero de puertas y tipo de gasolina."
   ]
  },
  {
   "cell_type": "code",
   "execution_count": 6,
   "id": "0ca4b844",
   "metadata": {},
   "outputs": [
    {
     "name": "stdout",
     "output_type": "stream",
     "text": [
      "10\n"
     ]
    }
   ],
   "source": [
    "class Coche(Vehiculo):\n",
    "    def __init__(self,potencia,consumo,nPuertas,tipoGasolina):\n",
    "        super().__init__(potencia,consumo)\n",
    "        self.__nPuertas = nPuertas\n",
    "        self.__tipoGasolina = tipoGasolina\n",
    "\n",
    "    def getNPuertas(self):\n",
    "        return self.__nPuertas\n",
    "\n",
    "coche = Coche(10,20,4,\"tipo\")\n",
    "print(coche.getPotencia())"
   ]
  },
  {
   "cell_type": "markdown",
   "id": "c88de038",
   "metadata": {},
   "source": [
    "## Ejercicio 3\n",
    "\n",
    "Crear mediante la utilización de clases un sistema capaz de lidiar con vectores en 2D, es decir, con el que podamos calcular el producto escalar de dos vectores, el coseno del ángulo entre dos vectores y con el que podamos sumar y restar vectores (además de compararlos entre sí en términos de módulo). Definir las funciones de producto como métodos de un vector al que se le pasa otro vector.\n",
    "\n",
    "(Se pueden definir las funciones $__lt__$ y $__gt__$)."
   ]
  },
  {
   "cell_type": "code",
   "execution_count": 9,
   "id": "d3451048",
   "metadata": {},
   "outputs": [
    {
     "name": "stdout",
     "output_type": "stream",
     "text": [
      "38\n",
      "5.86\n"
     ]
    }
   ],
   "source": [
    "import math\n",
    "\n",
    "class Vector:\n",
    "    def __init__(self, x, y):\n",
    "        self.x = x\n",
    "        self.y = y\n",
    "\n",
    "    def productoEscarlar(self):\n",
    "        producto = 0\n",
    "\n",
    "        for i in range(len(self.x)):\n",
    "            producto += self.x[i] * self.y[i]\n",
    "\n",
    "        return producto\n",
    "\n",
    "    def cosenoAngulo(self, grados=90):\n",
    "        return round(self.productoEscarlar() *  math.cos(grados), 2)\n",
    "\n",
    "    def sumaVectores(self):\n",
    "        suma = 0\n",
    "        for i in range(len(self.x)):\n",
    "            suma += self.x[i] + self.y[i]\n",
    "\n",
    "        return suma\n",
    "\n",
    "    def restaVectores(self):\n",
    "        resta = 0\n",
    "        for i in range(len(self.x)):\n",
    "            resta += self.x[i] - self.y[i]\n",
    "\n",
    "        return resta\n",
    "\n",
    "    def __lt__(self, other):\n",
    "        return self.x < other.x and self.y < other.y\n",
    "\n",
    "    def __gt__(self, other):\n",
    "        return self.x > other.x and self.y > other.y\n",
    "\n",
    "\n",
    "vectorX = [1,3,4]\n",
    "vectorY = [2,4,6]\n",
    "\n",
    "vector = Vector(vectorX, vectorY)\n",
    "print(vector.productoEscarlar())\n",
    "print(vector.cosenoAngulo(30))"
   ]
  },
  {
   "cell_type": "markdown",
   "id": "28f5f9ee",
   "metadata": {},
   "source": [
    "## Ejercicio 4\n",
    "\n",
    "Crear un objeto de tipo rectángulo, que tenga la posibilidad de devolver el area y el perímetro. Además, tendrá que poder comparar rectángulos entre sí (la igualdad será igualdad total y las comparaciones se realizarán en términos de área). Tambien implementar si un rectángulo está contenido en otro.\n",
    "\n",
    "Para hacerlo más sencillo, definir el rectángulo como un origen en el plano x e y , la longitud del lado horizontal y la longitud del lado vertical (es decir, no trabajaremos con rectángulos que no tengan un lado paralelo al eje X. Además, supondremos que el origen dado es la esquina inferior izquierda."
   ]
  },
  {
   "cell_type": "code",
   "execution_count": 25,
   "id": "d0e9df2a",
   "metadata": {},
   "outputs": [
    {
     "name": "stdout",
     "output_type": "stream",
     "text": [
      "El area de rect1 es 12\n",
      "El perimetro de rect1 es 16\n",
      "Los rectangulos no son iguales\n",
      "El rect1 esta contenido en rect2\n"
     ]
    }
   ],
   "source": [
    "class Rectangulo:\n",
    "    def __init__(self, origen_x, origen_y, lado_h, lado_v):\n",
    "        self.x = origen_x\n",
    "        self.y = origen_y\n",
    "        self.h = lado_h\n",
    "        self.v = lado_v\n",
    "\n",
    "    def area(self):\n",
    "        return self.h * self.v\n",
    "\n",
    "    def perimetro(self):\n",
    "        return 2 * (self.h + self.v)\n",
    "\n",
    "    def __eq__(self, other):\n",
    "        return self.area() == other.area()\n",
    "\n",
    "    def contenido(self, other):\n",
    "        bolXY = self.x > other.x and self.y > other.y\n",
    "        bolHV = self.h < other.h and self.v < other.v\n",
    "        bolRango = self.x + self.v < other.x + other.v and self.y + self.h < other.y + other.h\n",
    "\n",
    "        return bolXY and bolHV and bolRango\n",
    "\n",
    "\n",
    "rect1 = Rectangulo(1,1,2,6)\n",
    "rect2 = Rectangulo(0,0,4,8)\n",
    "print(\"El area de rect1 es {0}\".format(rect1.area()))\n",
    "print(\"El perimetro de rect1 es {0}\".format(rect1.perimetro()))\n",
    "print(\"Los rectangulos son iguales\") if rect1 == rect2 else print(\"Los rectangulos no son iguales\")\n",
    "print(\"El rect1 esta contenido en rect2\") if rect1.contenido(rect2) else print(\"El rect1 no esta contenido en rect2\")\n",
    "\n"
   ]
  },
  {
   "cell_type": "markdown",
   "id": "346840fb",
   "metadata": {},
   "source": [
    "## Ejercicio 5\n",
    "\n",
    "Crear una clase de tipo círculo dando el centro y el radio. Crear los métodos necesarios para calcular el area, el perímetro, un método para poder comprobar si un punto está en su interior y un método que modifique el círculo para introducir un punto en su interior."
   ]
  },
  {
   "cell_type": "code",
   "execution_count": 34,
   "id": "72f1e7ed",
   "metadata": {},
   "outputs": [
    {
     "name": "stdout",
     "output_type": "stream",
     "text": [
      "El area de este circulo es 50.27\n",
      "El perimetro de este circulo es 25.13\n",
      "El punto se encuentra dentro del circulo\n"
     ]
    }
   ],
   "source": [
    "import math\n",
    "\n",
    "class Circulo:\n",
    "    def __init__(self, centro,radio):\n",
    "        #centro[0] eje X, centro[1] eje Y\n",
    "        self.centro = centro\n",
    "        self.radio = radio\n",
    "\n",
    "    def area(self):\n",
    "        return round(math.pi * (self.radio**2), 2)\n",
    "\n",
    "    def perimetro(self):\n",
    "        return round(math.pi * (self.radio*2), 2)\n",
    "\n",
    "    def dentro(self, punto):\n",
    "        if punto[0] >= 0:\n",
    "            if punto[1] >= 0:\n",
    "                return self.centro[0] + self.radio >= punto[0] and self.centro[1] + self.radio >= punto[1]\n",
    "            else:\n",
    "                return self.centro[0] + self.radio >= punto[0] and self.centro[1] - self.radio >= punto[1]\n",
    "        else:\n",
    "            if punto[1] >= 0:\n",
    "                return self.centro[0] - self.radio >= punto[0] and self.centro[1] + self.radio >= punto[1]\n",
    "            else:\n",
    "                return self.centro[0] - self.radio >= punto[0] and self.centro[1] - self.radio >= punto[1]\n",
    "\n",
    "\n",
    "\n",
    "\n",
    "circulo = Circulo((3,3),4)\n",
    "punto = (-1,1)\n",
    "print(\"El area de este circulo es {0}\".format(circulo.area()))\n",
    "print(\"El perimetro de este circulo es {0}\".format(circulo.perimetro()))\n",
    "print(\"El punto se encuentra dentro del circulo\") if circulo.dentro(punto) else print(\"El punto se encuentra fuera del circulo\")"
   ]
  }
 ],
 "metadata": {
  "kernelspec": {
   "display_name": "Python 3",
   "language": "python",
   "name": "python3"
  },
  "language_info": {
   "codemirror_mode": {
    "name": "ipython",
    "version": 3
   },
   "file_extension": ".py",
   "mimetype": "text/x-python",
   "name": "python",
   "nbconvert_exporter": "python",
   "pygments_lexer": "ipython3",
   "version": "3.11.0"
  },
  "vscode": {
   "interpreter": {
    "hash": "8788d27cba0b2dbc0718fef4e715449fab30bd59957c04e36cc9c246182e8fe0"
   }
  }
 },
 "nbformat": 4,
 "nbformat_minor": 5
}
