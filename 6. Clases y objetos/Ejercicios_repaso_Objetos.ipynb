{
 "cells": [
  {
   "cell_type": "markdown",
   "id": "d45dc88d",
   "metadata": {},
   "source": [
    "# Ejercicios repaso Objetos\n",
    "\n",
    "## Ejercicio 1\n",
    "\n",
    "Crea una clase vehículo que al instanciarse se le pase la información la potencia y su consumo a los 100 km. Además, crea un método que nos devuelva el consumo por kilómetro"
   ]
  },
  {
   "cell_type": "code",
   "execution_count": 2,
   "id": "39eeee53",
   "metadata": {},
   "outputs": [],
   "source": [
    "class Vehiculo:\n",
    "    def __init__(self, potencia,consumo):\n",
    "        self.__potencia = potencia\n",
    "        self.__consumo = consumo\n",
    "\n",
    "    def getPotencia(self):\n",
    "        return self.__potencia\n",
    "\n",
    "    def getConsumo(self):\n",
    "        return self.__consumo\n",
    "\n",
    "    def setPotencia(self, potencia):\n",
    "        self.__potencia = potencia\n",
    "\n",
    "    def setConsumo(self, consumo):\n",
    "        self.__consumo = consumo\n",
    "\n",
    "    def consumoPorKM(self):\n",
    "        return self.__consumo / 100"
   ]
  },
  {
   "cell_type": "markdown",
   "id": "d57993aa",
   "metadata": {},
   "source": [
    "## Ejercicio 2\n",
    "\n",
    "Crear una clase coche que herede de la clase vehículo. Se añaden los atributos numero de puertas y tipo de gasolina."
   ]
  },
  {
   "cell_type": "code",
   "execution_count": 6,
   "id": "0ca4b844",
   "metadata": {},
   "outputs": [
    {
     "name": "stdout",
     "output_type": "stream",
     "text": [
      "10\n"
     ]
    }
   ],
   "source": [
    "class Coche(Vehiculo):\n",
    "    def __init__(self,potencia,consumo,nPuertas,tipoGasolina):\n",
    "        super().__init__(potencia,consumo)\n",
    "        self.__nPuertas = nPuertas\n",
    "        self.__tipoGasolina = tipoGasolina\n",
    "\n",
    "    def getNPuertas(self):\n",
    "        return self.__nPuertas\n",
    "\n",
    "coche = Coche(10,20,4,\"tipo\")\n",
    "print(coche.getPotencia())"
   ]
  },
  {
   "cell_type": "markdown",
   "id": "c88de038",
   "metadata": {},
   "source": [
    "## Ejercicio 3\n",
    "\n",
    "Crear mediante la utilización de clases un sistema capaz de lidiar con vectores en 2D, es decir, con el que podamos calcular el producto escalar de dos vectores, el coseno del ángulo entre dos vectores y con el que podamos sumar y restar vectores (además de compararlos entre sí en términos de módulo). Definir las funciones de producto como métodos de un vector al que se le pasa otro vector.\n",
    "\n",
    "(Se pueden definir las funciones $__lt__$ y $__gt__$)."
   ]
  },
  {
   "cell_type": "code",
   "execution_count": 10,
   "id": "d3451048",
   "metadata": {},
   "outputs": [
    {
     "name": "stdout",
     "output_type": "stream",
     "text": [
      "[1]\n"
     ]
    }
   ],
   "source": [
    "class Vector:\n",
    "    def __init__(self, x, y):\n",
    "        self.x = x"
   ]
  },
  {
   "cell_type": "markdown",
   "id": "28f5f9ee",
   "metadata": {},
   "source": [
    "## Ejercicio 4\n",
    "\n",
    "Crear un objeto de tipo rectángulo, que tenga la posibilidad de devolver el area y el perímetro. Además, tendrá que poder comparar rectángulos entre sí (la igualdad será igualdad total y las comparaciones se realizarán en términos de área). Tambien implementar si un rectángulo está contenido en otro.\n",
    "\n",
    "Para hacerlo más sencillo, definir el rectángulo como un origen en el plano x e y , la longitud del lado horizontal y la longitud del lado vertical (es decir, no trabajaremos con rectángulos que no tengan un lado paralelo al eje X. Además, supondremos que el origen dado es la esquina inferior izquierda."
   ]
  },
  {
   "cell_type": "code",
   "execution_count": null,
   "id": "d0e9df2a",
   "metadata": {},
   "outputs": [],
   "source": [
    "class Rectangulo:\n",
    "    def __init__(self, origen_x, origen_y, lado_h, lado_v):\n",
    "        self.x1 = origen_x\n"
   ]
  },
  {
   "cell_type": "markdown",
   "id": "346840fb",
   "metadata": {},
   "source": [
    "## Ejercicio 5\n",
    "\n",
    "Crear una clase de tipo círculo dando el centro y el radio. Crear los métodos necesarios para calcular el area, el perímetro, un método para poder comprobar si un punto está en su interior y un método que modifique el círculo para introducir un punto en su interior."
   ]
  }
 ],
 "metadata": {
  "kernelspec": {
   "display_name": "Python 3",
   "language": "python",
   "name": "python3"
  },
  "language_info": {
   "codemirror_mode": {
    "name": "ipython",
    "version": 3
   },
   "file_extension": ".py",
   "mimetype": "text/x-python",
   "name": "python",
   "nbconvert_exporter": "python",
   "pygments_lexer": "ipython3",
   "version": "3.11.0 (main, Oct 24 2022, 18:26:48) [MSC v.1933 64 bit (AMD64)]"
  },
  "vscode": {
   "interpreter": {
    "hash": "8788d27cba0b2dbc0718fef4e715449fab30bd59957c04e36cc9c246182e8fe0"
   }
  }
 },
 "nbformat": 4,
 "nbformat_minor": 5
}
