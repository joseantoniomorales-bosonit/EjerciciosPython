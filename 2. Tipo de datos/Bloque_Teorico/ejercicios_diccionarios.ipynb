{
 "cells": [
  {
   "cell_type": "markdown",
   "metadata": {},
   "source": [
    "#Para realizar este ejercicio tienes un diccionario con las claves: coche, motocicleta, camión y los valores: 10, 20 y 30 respectivamente."
   ]
  },
  {
   "cell_type": "code",
   "execution_count": 10,
   "metadata": {},
   "outputs": [
    {
     "name": "stdout",
     "output_type": "stream",
     "text": [
      "{'coche': 10, 'motocicleta': 20, 'camion': 30}\n"
     ]
    }
   ],
   "source": [
    "#1. Define el diccionario usando dict()\n",
    "diccionario = dict(coche=10,motocicleta=20,camion=30)\n",
    "print(diccionario)"
   ]
  },
  {
   "cell_type": "code",
   "execution_count": 9,
   "metadata": {},
   "outputs": [
    {
     "name": "stdout",
     "output_type": "stream",
     "text": [
      "{'coche': 10, 'motocicleta': 20, 'camion': 30}\n"
     ]
    }
   ],
   "source": [
    "#2. Define el diccionario usando { }.\n",
    "diccionario = {\"coche\":10,\"motocicleta\":20,\"camion\":30}\n",
    "print(diccionario)"
   ]
  },
  {
   "cell_type": "code",
   "execution_count": 11,
   "metadata": {},
   "outputs": [
    {
     "name": "stdout",
     "output_type": "stream",
     "text": [
      "('coche', 10)\n",
      "('camion', 20)\n",
      "('valores', 30)\n"
     ]
    }
   ],
   "source": [
    "#3. Define el diccionario usando zip().\n",
    "vehiculo = [\"coche\", \"camion\", \"valores\"]\n",
    "valor = [10,20,30]\n",
    "\n",
    "diccionario = zip(vehiculo,valor)\n",
    "for i in diccionario:\n",
    "    print(i)"
   ]
  },
  {
   "cell_type": "code",
   "execution_count": 12,
   "metadata": {},
   "outputs": [
    {
     "name": "stdout",
     "output_type": "stream",
     "text": [
      "dict_values([10, 20, 30])\n"
     ]
    }
   ],
   "source": [
    "#4. Muestra los valores del diccionario.\n",
    "diccionario = {\"coche\":10, \"camion\":20,\"valores\":30}\n",
    "print(diccionario.values())"
   ]
  },
  {
   "cell_type": "code",
   "execution_count": 13,
   "metadata": {},
   "outputs": [
    {
     "name": "stdout",
     "output_type": "stream",
     "text": [
      "dict_keys(['coche', 'camion', 'valores'])\n"
     ]
    }
   ],
   "source": [
    "#5. Muestra las claves del diccionario.\n",
    "diccionario = {\"coche\":10, \"camion\":20,\"valores\":30}\n",
    "print(diccionario.keys())"
   ]
  },
  {
   "cell_type": "code",
   "execution_count": 14,
   "metadata": {},
   "outputs": [
    {
     "name": "stdout",
     "output_type": "stream",
     "text": [
      "10\n"
     ]
    }
   ],
   "source": [
    "#6. Muestra el valor de coche.\n",
    "diccionario = {\"coche\":10, \"camion\":20,\"valores\":30}\n",
    "print(diccionario[\"coche\"])"
   ]
  },
  {
   "cell_type": "code",
   "execution_count": 15,
   "metadata": {},
   "outputs": [
    {
     "name": "stdout",
     "output_type": "stream",
     "text": [
      "{'coche': 10, 'camion': 20, 'valores': 30, 'avion': 100}\n"
     ]
    }
   ],
   "source": [
    "#7. Añade al diccionario avión con valor 100.\n",
    "diccionario = {\"coche\":10, \"camion\":20,\"valores\":30}\n",
    "diccionario[\"avion\"] = 100\n",
    "print(diccionario)"
   ]
  },
  {
   "cell_type": "code",
   "execution_count": 17,
   "metadata": {},
   "outputs": [
    {
     "name": "stdout",
     "output_type": "stream",
     "text": [
      "dict_items([('coche', 10), ('camion', 20), ('valores', 30)])\n"
     ]
    }
   ],
   "source": [
    "#8. Muestra los elementos del diccionario.\n",
    "diccionario = {\"coche\":10, \"camion\":20,\"valores\":30}\n",
    "print(diccionario.items())"
   ]
  }
 ],
 "metadata": {
  "kernelspec": {
   "display_name": "Python 3.11.0 64-bit",
   "language": "python",
   "name": "python3"
  },
  "language_info": {
   "codemirror_mode": {
    "name": "ipython",
    "version": 3
   },
   "file_extension": ".py",
   "mimetype": "text/x-python",
   "name": "python",
   "nbconvert_exporter": "python",
   "pygments_lexer": "ipython3",
   "version": "3.11.0"
  },
  "orig_nbformat": 4,
  "vscode": {
   "interpreter": {
    "hash": "8788d27cba0b2dbc0718fef4e715449fab30bd59957c04e36cc9c246182e8fe0"
   }
  }
 },
 "nbformat": 4,
 "nbformat_minor": 2
}
