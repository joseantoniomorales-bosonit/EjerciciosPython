{
 "cells": [
  {
   "cell_type": "code",
   "execution_count": 7,
   "metadata": {},
   "outputs": [
    {
     "name": "stdout",
     "output_type": "stream",
     "text": [
      "El tipo <class 'bool'> tiene un valor True\n"
     ]
    }
   ],
   "source": [
    "#1. Define una variable con valor True.\n",
    "isTrue = True\n",
    "print(\"El tipo {0} tiene un valor {1}\".format(type(isTrue),isTrue))"
   ]
  },
  {
   "cell_type": "code",
   "execution_count": 4,
   "metadata": {},
   "outputs": [
    {
     "name": "stdout",
     "output_type": "stream",
     "text": [
      "El tipo <class 'bool'> tiene un valor False\n"
     ]
    }
   ],
   "source": [
    "#2. Define una variable con valor False.\n",
    "isFalse = False\n",
    "print(\"El tipo {0} tiene un valor {1}\".format(type(isFalse),isFalse))"
   ]
  },
  {
   "cell_type": "code",
   "execution_count": 8,
   "metadata": {},
   "outputs": [
    {
     "name": "stdout",
     "output_type": "stream",
     "text": [
      "El tipo <class 'bool'> tiene un valor True\n"
     ]
    }
   ],
   "source": [
    "#3. Define una variable con valor True mediante un entero.\n",
    "isTrue = bool(1)\n",
    "print(\"El tipo {0} tiene un valor {1}\".format(type(isTrue),isTrue))"
   ]
  }
 ],
 "metadata": {
  "kernelspec": {
   "display_name": "Python 3.11.0 64-bit",
   "language": "python",
   "name": "python3"
  },
  "language_info": {
   "codemirror_mode": {
    "name": "ipython",
    "version": 3
   },
   "file_extension": ".py",
   "mimetype": "text/x-python",
   "name": "python",
   "nbconvert_exporter": "python",
   "pygments_lexer": "ipython3",
   "version": "3.11.0"
  },
  "orig_nbformat": 4,
  "vscode": {
   "interpreter": {
    "hash": "8788d27cba0b2dbc0718fef4e715449fab30bd59957c04e36cc9c246182e8fe0"
   }
  }
 },
 "nbformat": 4,
 "nbformat_minor": 2
}
