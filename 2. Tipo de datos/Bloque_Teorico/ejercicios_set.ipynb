{
 "cells": [
  {
   "cell_type": "code",
   "execution_count": 1,
   "metadata": {},
   "outputs": [
    {
     "name": "stdout",
     "output_type": "stream",
     "text": [
      "{'coche', 'bicicleta', 'motocicleta'}\n"
     ]
    }
   ],
   "source": [
    "#1. Define un conjunto con los valores coche, motocicleta, bicicleta.\n",
    "mi_set = {\"coche\",\"motocicleta\",\"bicicleta\"}\n",
    "print(mi_set)"
   ]
  },
  {
   "cell_type": "code",
   "execution_count": 2,
   "metadata": {},
   "outputs": [
    {
     "name": "stdout",
     "output_type": "stream",
     "text": [
      "{'coche', 'bicicleta', 'avion', 'motocicleta'}\n"
     ]
    }
   ],
   "source": [
    "#2. Añade avión al conjunto.\n",
    "mi_set = {\"coche\",\"motocicleta\",\"bicicleta\"}\n",
    "mi_set.add(\"avion\")\n",
    "print(mi_set)"
   ]
  },
  {
   "cell_type": "code",
   "execution_count": 3,
   "metadata": {},
   "outputs": [
    {
     "name": "stdout",
     "output_type": "stream",
     "text": [
      "{'bicicleta', 'motocicleta'}\n"
     ]
    }
   ],
   "source": [
    "#3. Elimina coche del conjunto.\n",
    "mi_set = {\"coche\",\"motocicleta\",\"bicicleta\"}\n",
    "mi_set.remove(\"coche\")\n",
    "print(mi_set)"
   ]
  },
  {
   "cell_type": "code",
   "execution_count": 5,
   "metadata": {},
   "outputs": [
    {
     "name": "stdout",
     "output_type": "stream",
     "text": [
      "{'coche', 'avion', 'tractor'}\n"
     ]
    }
   ],
   "source": [
    "#4. Crea otro conjunto con los valores avión, coche, tractor (utiliza una forma diferente que en el punto 1).\n",
    "mi_set = set((\"avion\",\"coche\",\"tractor\"))\n",
    "print(mi_set)"
   ]
  },
  {
   "cell_type": "code",
   "execution_count": 6,
   "metadata": {},
   "outputs": [
    {
     "name": "stdout",
     "output_type": "stream",
     "text": [
      "{'coche', 'avion', 'tractor'}\n"
     ]
    }
   ],
   "source": [
    "#5. Crea otro conjunto con los valores que se repitan en los conjuntos anteriores.\n",
    "mi_set = set((\"avion\",\"coche\",\"tractor\",\"avion\"))\n",
    "print(mi_set)"
   ]
  },
  {
   "cell_type": "code",
   "execution_count": 9,
   "metadata": {},
   "outputs": [
    {
     "name": "stdout",
     "output_type": "stream",
     "text": [
      "{'bicicleta', 'tractor', 'coche', 'avion', 'motocicleta'}\n"
     ]
    }
   ],
   "source": [
    "#6. Muestra un conjunto con todos los valores que pertenecen al conjunto creado en el punto 1 y punto 4\n",
    "mi_set = {\"coche\",\"motocicleta\",\"bicicleta\"}\n",
    "mi_set2 = set((\"avion\",\"coche\",\"tractor\"))\n",
    "mi_set_unido = mi_set.union(mi_set2)\n",
    "\n",
    "print(mi_set_unido)"
   ]
  }
 ],
 "metadata": {
  "kernelspec": {
   "display_name": "Python 3.11.0 64-bit",
   "language": "python",
   "name": "python3"
  },
  "language_info": {
   "codemirror_mode": {
    "name": "ipython",
    "version": 3
   },
   "file_extension": ".py",
   "mimetype": "text/x-python",
   "name": "python",
   "nbconvert_exporter": "python",
   "pygments_lexer": "ipython3",
   "version": "3.11.0"
  },
  "orig_nbformat": 4,
  "vscode": {
   "interpreter": {
    "hash": "8788d27cba0b2dbc0718fef4e715449fab30bd59957c04e36cc9c246182e8fe0"
   }
  }
 },
 "nbformat": 4,
 "nbformat_minor": 2
}
