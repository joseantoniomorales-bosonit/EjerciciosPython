{
 "cells": [
  {
   "cell_type": "code",
   "execution_count": 58,
   "metadata": {},
   "outputs": [
    {
     "name": "stdout",
     "output_type": "stream",
     "text": [
      "Master Python\n"
     ]
    }
   ],
   "source": [
    "#1. Define una variable con un string con el valor “ Master Python”.\n",
    "var = \"Master Python\"\n",
    "print(var)"
   ]
  },
  {
   "cell_type": "code",
   "execution_count": 57,
   "metadata": {},
   "outputs": [
    {
     "name": "stdout",
     "output_type": "stream",
     "text": [
      "26\n"
     ]
    }
   ],
   "source": [
    "#2. Muestra la longitud de la variable anterior.\n",
    "print(len(var))"
   ]
  },
  {
   "cell_type": "code",
   "execution_count": 56,
   "metadata": {},
   "outputs": [
    {
     "name": "stdout",
     "output_type": "stream",
     "text": [
      "M\n"
     ]
    }
   ],
   "source": [
    "#3. Muestra el primer carácter del string.\n",
    "print(var[0])"
   ]
  },
  {
   "cell_type": "code",
   "execution_count": 55,
   "metadata": {},
   "outputs": [
    {
     "name": "stdout",
     "output_type": "stream",
     "text": [
      "n\n"
     ]
    }
   ],
   "source": [
    "#4. Muestra el penúltimo carácter del string.\n",
    "print(var[-2])"
   ]
  },
  {
   "cell_type": "code",
   "execution_count": 54,
   "metadata": {},
   "outputs": [
    {
     "name": "stdout",
     "output_type": "stream",
     "text": [
      "MasterPython\n"
     ]
    }
   ],
   "source": [
    "#5. Elimina los espacios iniciales del string.\n",
    "print(var.replace(\" \",\"\"))"
   ]
  },
  {
   "cell_type": "code",
   "execution_count": 59,
   "metadata": {},
   "outputs": [
    {
     "name": "stdout",
     "output_type": "stream",
     "text": [
      "atrPto\n"
     ]
    }
   ],
   "source": [
    "#6. Muestra los caracteres en posiciones impares.\n",
    "print(var[1::2])"
   ]
  },
  {
   "cell_type": "code",
   "execution_count": 65,
   "metadata": {},
   "outputs": [
    {
     "name": "stdout",
     "output_type": "stream",
     "text": [
      "master python\n"
     ]
    }
   ],
   "source": [
    "#7. Convierte todo el string en minúscula.\n",
    "var_min = var.lower()\n",
    "print(var_min)"
   ]
  },
  {
   "cell_type": "code",
   "execution_count": 64,
   "metadata": {},
   "outputs": [
    {
     "name": "stdout",
     "output_type": "stream",
     "text": [
      "M a s t e r   P y t h o n \n",
      " Master Python \n"
     ]
    }
   ],
   "source": [
    "#8. Separa el string por espacios en blanco.\n",
    "var2 = \"\"\n",
    "for i in var:\n",
    "    if i != \"\":\n",
    "        var2 += i+\" \"\n",
    "print(var2)\n",
    "\n",
    "print(var.center(15))"
   ]
  },
  {
   "cell_type": "code",
   "execution_count": 66,
   "metadata": {},
   "outputs": [
    {
     "name": "stdout",
     "output_type": "stream",
     "text": [
      "Master JAVA\n"
     ]
    }
   ],
   "source": [
    "#9. Reemplaza “python” por “JAVA”.\n",
    "print(var.replace(\"Python\",\"JAVA\"))"
   ]
  }
 ],
 "metadata": {
  "kernelspec": {
   "display_name": "Python 3.11.0 64-bit",
   "language": "python",
   "name": "python3"
  },
  "language_info": {
   "codemirror_mode": {
    "name": "ipython",
    "version": 3
   },
   "file_extension": ".py",
   "mimetype": "text/x-python",
   "name": "python",
   "nbconvert_exporter": "python",
   "pygments_lexer": "ipython3",
   "version": "3.11.0"
  },
  "orig_nbformat": 4,
  "vscode": {
   "interpreter": {
    "hash": "8788d27cba0b2dbc0718fef4e715449fab30bd59957c04e36cc9c246182e8fe0"
   }
  }
 },
 "nbformat": 4,
 "nbformat_minor": 2
}
