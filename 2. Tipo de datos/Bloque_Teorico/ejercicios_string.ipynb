{
 "cells": [
  {
   "cell_type": "code",
   "execution_count": 2,
   "metadata": {},
   "outputs": [
    {
     "name": "stdout",
     "output_type": "stream",
     "text": [
      "Master Python\n"
     ]
    }
   ],
   "source": [
    "#1. Define una variable con un string con el valor “ Master Python”.\n",
    "var = \"Master Python\"\n",
    "print(var)"
   ]
  },
  {
   "cell_type": "code",
   "execution_count": 2,
   "metadata": {},
   "outputs": [
    {
     "name": "stdout",
     "output_type": "stream",
     "text": [
      "13\n"
     ]
    }
   ],
   "source": [
    "#2. Muestra la longitud de la variable anterior.\n",
    "var = \"Master Python\"\n",
    "print(len(var))"
   ]
  },
  {
   "cell_type": "code",
   "execution_count": 3,
   "metadata": {},
   "outputs": [
    {
     "name": "stdout",
     "output_type": "stream",
     "text": [
      "M\n"
     ]
    }
   ],
   "source": [
    "#3. Muestra el primer carácter del string.\n",
    "var = \"Master Python\"\n",
    "print(var[0])"
   ]
  },
  {
   "cell_type": "code",
   "execution_count": 4,
   "metadata": {},
   "outputs": [
    {
     "name": "stdout",
     "output_type": "stream",
     "text": [
      "o\n"
     ]
    }
   ],
   "source": [
    "#4. Muestra el penúltimo carácter del string.\n",
    "var = \"Master Python\"\n",
    "print(var[-2])"
   ]
  },
  {
   "cell_type": "code",
   "execution_count": 15,
   "metadata": {},
   "outputs": [
    {
     "name": "stdout",
     "output_type": "stream",
     "text": [
      "MasterPython\n"
     ]
    }
   ],
   "source": [
    "#5. Elimina los espacios iniciales del string.\n",
    "var = \"Master Python\"\n",
    "print(var.replace(\" \",\"\"))"
   ]
  },
  {
   "cell_type": "code",
   "execution_count": 9,
   "metadata": {},
   "outputs": [
    {
     "name": "stdout",
     "output_type": "stream",
     "text": [
      "atrPto\n"
     ]
    }
   ],
   "source": [
    "#6. Muestra los caracteres en posiciones impares.\n",
    "var = \"Master Python\"\n",
    "print(var[1::2])"
   ]
  },
  {
   "cell_type": "code",
   "execution_count": 16,
   "metadata": {},
   "outputs": [
    {
     "name": "stdout",
     "output_type": "stream",
     "text": [
      "master python\n"
     ]
    }
   ],
   "source": [
    "#7. Convierte todo el string en minúscula.\n",
    "var = \"Master Python\".lower()\n",
    "print(var)"
   ]
  },
  {
   "cell_type": "code",
   "execution_count": 47,
   "metadata": {},
   "outputs": [
    {
     "name": "stdout",
     "output_type": "stream",
     "text": [
      "M a s t e r   P y t h o n \n",
      " Master Python \n"
     ]
    }
   ],
   "source": [
    "#8. Separa el string por espacios en blanco.\n",
    "import re\n",
    "var = \"\"\n",
    "for i in \"Master Python\":\n",
    "    if i != \"\":\n",
    "        var += i+\" \"\n",
    "print(var)\n",
    "\n",
    "var2 = \"Master Python\"\n",
    "print(var2.center(15))"
   ]
  },
  {
   "cell_type": "code",
   "execution_count": 11,
   "metadata": {},
   "outputs": [
    {
     "name": "stdout",
     "output_type": "stream",
     "text": [
      "Master JAVA\n"
     ]
    }
   ],
   "source": [
    "#9. Reemplaza “python” por “JAVA”.\n",
    "var = \"Master Python\"\n",
    "print(var.replace(\"Python\",\"JAVA\"))"
   ]
  }
 ],
 "metadata": {
  "kernelspec": {
   "display_name": "Python 3.11.0 64-bit",
   "language": "python",
   "name": "python3"
  },
  "language_info": {
   "codemirror_mode": {
    "name": "ipython",
    "version": 3
   },
   "file_extension": ".py",
   "mimetype": "text/x-python",
   "name": "python",
   "nbconvert_exporter": "python",
   "pygments_lexer": "ipython3",
   "version": "3.11.0"
  },
  "orig_nbformat": 4,
  "vscode": {
   "interpreter": {
    "hash": "8788d27cba0b2dbc0718fef4e715449fab30bd59957c04e36cc9c246182e8fe0"
   }
  }
 },
 "nbformat": 4,
 "nbformat_minor": 2
}
