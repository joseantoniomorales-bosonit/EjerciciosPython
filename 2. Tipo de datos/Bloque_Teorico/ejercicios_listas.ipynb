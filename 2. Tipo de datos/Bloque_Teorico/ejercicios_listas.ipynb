{
 "cells": [
  {
   "cell_type": "code",
   "execution_count": 31,
   "metadata": {},
   "outputs": [
    {
     "name": "stdout",
     "output_type": "stream",
     "text": [
      "[10, 20, 'Hello', 20.5]\n"
     ]
    }
   ],
   "source": [
    "#1. Define una lista con los valores 10,20,'Hello',20.5\n",
    "lista = [10,20,\"Hello\",20.5]\n",
    "print(lista)"
   ]
  },
  {
   "cell_type": "code",
   "execution_count": 32,
   "metadata": {},
   "outputs": [
    {
     "name": "stdout",
     "output_type": "stream",
     "text": [
      "[10, 20, 'Hello', 20.5, 'Word']\n"
     ]
    }
   ],
   "source": [
    "#2. Añade “Word” al final de la lista.\n",
    "lista.append(\"Word\")\n",
    "print(lista)"
   ]
  },
  {
   "cell_type": "code",
   "execution_count": 33,
   "metadata": {},
   "outputs": [
    {
     "name": "stdout",
     "output_type": "stream",
     "text": [
      "['Python', 10, 20, 'Hello', 20.5, 'Word']\n"
     ]
    }
   ],
   "source": [
    "#3. Añade “Python” al principio de la lista.\n",
    "lista.insert(0,\"Python\")\n",
    "print(lista)"
   ]
  },
  {
   "cell_type": "code",
   "execution_count": 34,
   "metadata": {},
   "outputs": [
    {
     "name": "stdout",
     "output_type": "stream",
     "text": [
      "['Python', 20, 'Hello', 20.5, 'Word']\n"
     ]
    }
   ],
   "source": [
    "#4. Elimina el segundo valor de la lista.\n",
    "lista.pop(1)\n",
    "print(lista)"
   ]
  },
  {
   "cell_type": "code",
   "execution_count": 35,
   "metadata": {},
   "outputs": [
    {
     "name": "stdout",
     "output_type": "stream",
     "text": [
      "[20, 40, 'Bye']\n"
     ]
    }
   ],
   "source": [
    "#5. Crea una segunda lista con los valores 20, 40, ‘Bye’ (utiliza una forma diferente que en el punto 1)\n",
    "lista2 = list((20,40,\"Bye\"))\n",
    "print(lista2)"
   ]
  },
  {
   "cell_type": "code",
   "execution_count": 36,
   "metadata": {},
   "outputs": [
    {
     "name": "stdout",
     "output_type": "stream",
     "text": [
      "['Python', 20, 'Hello', 20.5, 'Word', 20, 40, 'Bye']\n",
      "['Python', 20, 'Hello', 20.5, 'Word', [20, 40, 'Bye']]\n"
     ]
    }
   ],
   "source": [
    "#6. Une las dos listas.\n",
    "listas_unidas = lista + lista2\n",
    "print(listas_unidas)\n",
    "\n",
    "#En el caso que se aniden\n",
    "lista_anidada = lista\n",
    "lista_anidada.append(lista2)\n",
    "print(lista_anidada)"
   ]
  },
  {
   "cell_type": "code",
   "execution_count": 37,
   "metadata": {},
   "outputs": [
    {
     "name": "stdout",
     "output_type": "stream",
     "text": [
      "[20, 40, 'Bye']\n",
      "[20, 40, 'Bye']\n"
     ]
    }
   ],
   "source": [
    "#7. Muestra la lista final.\n",
    "listas_unidas = lista + lista2\n",
    "\n",
    "print(listas_unidas[len(lista):])\n",
    "print(listas_unidas[-len(lista2):])"
   ]
  }
 ],
 "metadata": {
  "kernelspec": {
   "display_name": "Python 3.11.0 64-bit",
   "language": "python",
   "name": "python3"
  },
  "language_info": {
   "codemirror_mode": {
    "name": "ipython",
    "version": 3
   },
   "file_extension": ".py",
   "mimetype": "text/x-python",
   "name": "python",
   "nbconvert_exporter": "python",
   "pygments_lexer": "ipython3",
   "version": "3.11.0"
  },
  "orig_nbformat": 4,
  "vscode": {
   "interpreter": {
    "hash": "8788d27cba0b2dbc0718fef4e715449fab30bd59957c04e36cc9c246182e8fe0"
   }
  }
 },
 "nbformat": 4,
 "nbformat_minor": 2
}
