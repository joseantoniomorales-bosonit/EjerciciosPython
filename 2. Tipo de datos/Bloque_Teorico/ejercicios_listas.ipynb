{
 "cells": [
  {
   "cell_type": "code",
   "execution_count": 1,
   "metadata": {},
   "outputs": [
    {
     "name": "stdout",
     "output_type": "stream",
     "text": [
      "[10, 20, 'Hello', 20.5]\n"
     ]
    }
   ],
   "source": [
    "#1. Define una lista con los valores 10,20,'Hello',20.5\n",
    "lista = [10,20,\"Hello\",20.5]\n",
    "print(lista)"
   ]
  },
  {
   "cell_type": "code",
   "execution_count": 2,
   "metadata": {},
   "outputs": [
    {
     "name": "stdout",
     "output_type": "stream",
     "text": [
      "[10, 20, 'Hello', 20.5, 'Word']\n"
     ]
    }
   ],
   "source": [
    "#2. Añade “Word” al final de la lista.\n",
    "lista = [10,20,\"Hello\",20.5]\n",
    "lista.append(\"Word\")\n",
    "print(lista)"
   ]
  },
  {
   "cell_type": "code",
   "execution_count": 3,
   "metadata": {},
   "outputs": [
    {
     "name": "stdout",
     "output_type": "stream",
     "text": [
      "['Python', 10, 20, 'Hello', 20.5]\n"
     ]
    }
   ],
   "source": [
    "#3. Añade “Python” al principio de la lista.\n",
    "lista = [10,20,\"Hello\",20.5]\n",
    "lista.insert(0,\"Python\")\n",
    "print(lista)"
   ]
  },
  {
   "cell_type": "code",
   "execution_count": 6,
   "metadata": {},
   "outputs": [
    {
     "name": "stdout",
     "output_type": "stream",
     "text": [
      "['Python', 20, 'Hello', 20.5]\n"
     ]
    }
   ],
   "source": [
    "#4. Elimina el segundo valor de la lista.\n",
    "lista = [\"Python\",10,20,\"Hello\",20.5]\n",
    "lista.pop(1)\n",
    "print(lista)"
   ]
  },
  {
   "cell_type": "code",
   "execution_count": 10,
   "metadata": {},
   "outputs": [
    {
     "name": "stdout",
     "output_type": "stream",
     "text": [
      "[20, 40, 'Bye']\n"
     ]
    }
   ],
   "source": [
    "#5. Crea una segunda lista con los valores 20, 40, ‘Bye’ (utiliza una forma diferente que en el punto 1)\n",
    "lista = list((20,40,\"Bye\"))\n",
    "print(lista)"
   ]
  },
  {
   "cell_type": "code",
   "execution_count": 12,
   "metadata": {},
   "outputs": [
    {
     "name": "stdout",
     "output_type": "stream",
     "text": [
      "['Python', 10, 20, 'Hello', 20.5, 20, 40, 'Bye']\n"
     ]
    }
   ],
   "source": [
    "#6. Une las dos listas.\n",
    "lista = [\"Python\",10,20,\"Hello\",20.5]\n",
    "lista2 = list((20,40,\"Bye\"))\n",
    "listas_unidas = lista + lista2\n",
    "\n",
    "print(listas_unidas)"
   ]
  },
  {
   "cell_type": "code",
   "execution_count": 13,
   "metadata": {},
   "outputs": [
    {
     "name": "stdout",
     "output_type": "stream",
     "text": [
      "[20, 40, 'Bye']\n"
     ]
    }
   ],
   "source": [
    "#7. Muestra la lista final.\n",
    "lista = [\"Python\",10,20,\"Hello\",20.5]\n",
    "lista2 = list((20,40,\"Bye\"))\n",
    "listas_unidas = lista + lista2\n",
    "\n",
    "print(listas_unidas[len(lista):])"
   ]
  }
 ],
 "metadata": {
  "kernelspec": {
   "display_name": "Python 3.11.0 64-bit",
   "language": "python",
   "name": "python3"
  },
  "language_info": {
   "codemirror_mode": {
    "name": "ipython",
    "version": 3
   },
   "file_extension": ".py",
   "mimetype": "text/x-python",
   "name": "python",
   "nbconvert_exporter": "python",
   "pygments_lexer": "ipython3",
   "version": "3.11.0"
  },
  "orig_nbformat": 4,
  "vscode": {
   "interpreter": {
    "hash": "8788d27cba0b2dbc0718fef4e715449fab30bd59957c04e36cc9c246182e8fe0"
   }
  }
 },
 "nbformat": 4,
 "nbformat_minor": 2
}
