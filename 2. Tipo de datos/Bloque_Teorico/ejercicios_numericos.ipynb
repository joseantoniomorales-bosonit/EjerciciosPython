{
 "cells": [
  {
   "cell_type": "code",
   "execution_count": 3,
   "metadata": {},
   "outputs": [
    {
     "name": "stdout",
     "output_type": "stream",
     "text": [
      "La variable es de tipo <class 'int'> y su valor es: 2\n"
     ]
    }
   ],
   "source": [
    "#1. Define cualquier número de tipo int.\n",
    "valor = int(2)\n",
    "tipo = type(entero)\n",
    "print(\"La variable es de tipo {0} y su valor es: {1}\".format(tipo,valor))"
   ]
  },
  {
   "cell_type": "code",
   "execution_count": 5,
   "metadata": {},
   "outputs": [
    {
     "name": "stdout",
     "output_type": "stream",
     "text": [
      "La variable es de tipo <class 'float'> y su valor es: 2.0\n"
     ]
    }
   ],
   "source": [
    "#2. Define cualquier número de tipo float.\n",
    "valor = float(2) #Tambien se puede definir como valor = 2.0\n",
    "print(\"La variable es de tipo {0} y su valor es: {1}\".format(type(valor),valor))"
   ]
  },
  {
   "cell_type": "code",
   "execution_count": 7,
   "metadata": {},
   "outputs": [
    {
     "name": "stdout",
     "output_type": "stream",
     "text": [
      "La variable es de tipo <class 'complex'> y su valor es: (2+12j)\n"
     ]
    }
   ],
   "source": [
    "#3. Define cualquier número de tipo complex.\n",
    "valor = complex(2,12) #Tambien se puede definir como valor = 2+12j\n",
    "print(\"La variable es de tipo {0} y su valor es: {1}\".format(type(valor),valor))"
   ]
  },
  {
   "cell_type": "code",
   "execution_count": 8,
   "metadata": {},
   "outputs": [
    {
     "name": "stdout",
     "output_type": "stream",
     "text": [
      "La parte real de la variable valor es: 2.0\n"
     ]
    }
   ],
   "source": [
    "#4. Muestra la parte real del número definido en el punto 3.\n",
    "valor = complex(2,12)\n",
    "print(\"La parte real de la variable valor es: {0}\".format(valor.real))"
   ]
  },
  {
   "cell_type": "code",
   "execution_count": 9,
   "metadata": {},
   "outputs": [
    {
     "name": "stdout",
     "output_type": "stream",
     "text": [
      "La parte real de la variable valor es: 12.0\n"
     ]
    }
   ],
   "source": [
    "#5. Muestra la parte imaginaria del número definido en el punto 3.\n",
    "valor = complex(2,12)\n",
    "print(\"La parte real de la variable valor es: {0}\".format(valor.imag))"
   ]
  }
 ],
 "metadata": {
  "kernelspec": {
   "display_name": "Python 3.11.0 64-bit",
   "language": "python",
   "name": "python3"
  },
  "language_info": {
   "codemirror_mode": {
    "name": "ipython",
    "version": 3
   },
   "file_extension": ".py",
   "mimetype": "text/x-python",
   "name": "python",
   "nbconvert_exporter": "python",
   "pygments_lexer": "ipython3",
   "version": "3.11.0"
  },
  "orig_nbformat": 4,
  "vscode": {
   "interpreter": {
    "hash": "8788d27cba0b2dbc0718fef4e715449fab30bd59957c04e36cc9c246182e8fe0"
   }
  }
 },
 "nbformat": 4,
 "nbformat_minor": 2
}
