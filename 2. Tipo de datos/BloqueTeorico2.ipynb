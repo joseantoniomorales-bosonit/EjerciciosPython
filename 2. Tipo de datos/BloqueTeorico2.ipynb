{
 "cells": [
  {
   "cell_type": "markdown",
   "metadata": {},
   "source": [
    "# Ejercicios numéricos"
   ]
  },
  {
   "cell_type": "code",
   "execution_count": null,
   "metadata": {},
   "outputs": [],
   "source": [
    "#1. Define cualquier número de tipo int.\n",
    "valor = int(2)\n",
    "tipo = type(entero)\n",
    "print(\"La variable es de tipo {0} y su valor es: {1}\".format(tipo,valor))"
   ]
  },
  {
   "cell_type": "code",
   "execution_count": null,
   "metadata": {},
   "outputs": [],
   "source": [
    "#2. Define cualquier número de tipo float.\n",
    "valor = float(2) #Tambien se puede definir como valor = 2.0\n",
    "print(\"La variable es de tipo {0} y su valor es: {1}\".format(type(valor),valor))"
   ]
  },
  {
   "cell_type": "code",
   "execution_count": null,
   "metadata": {},
   "outputs": [],
   "source": [
    "#3. Define cualquier número de tipo complex.\n",
    "valor = complex(2,12) #Tambien se puede definir como valor = 2+12j\n",
    "print(\"La variable es de tipo {0} y su valor es: {1}\".format(type(valor),valor))"
   ]
  },
  {
   "cell_type": "code",
   "execution_count": null,
   "metadata": {},
   "outputs": [],
   "source": [
    "#4. Muestra la parte real del número definido en el punto 3.\n",
    "valor = complex(2,12)\n",
    "print(\"La parte real de la variable valor es: {0}\".format(valor.real))"
   ]
  },
  {
   "cell_type": "code",
   "execution_count": null,
   "metadata": {},
   "outputs": [],
   "source": [
    "#5. Muestra la parte imaginaria del número definido en el punto 3.\n",
    "valor = complex(2,12)\n",
    "print(\"La parte real de la variable valor es: {0}\".format(valor.imag))"
   ]
  },
  {
   "cell_type": "markdown",
   "metadata": {},
   "source": [
    "# Ejercicios boolean"
   ]
  },
  {
   "cell_type": "code",
   "execution_count": null,
   "metadata": {},
   "outputs": [],
   "source": [
    "#1. Define una variable con valor True.\n",
    "isTrue = True\n",
    "print(\"El tipo {0} tiene un valor {1}\".format(type(isTrue),isTrue))"
   ]
  },
  {
   "cell_type": "code",
   "execution_count": null,
   "metadata": {},
   "outputs": [],
   "source": [
    "#2. Define una variable con valor False.\n",
    "isFalse = False\n",
    "print(\"El tipo {0} tiene un valor {1}\".format(type(isFalse),isFalse))"
   ]
  },
  {
   "cell_type": "code",
   "execution_count": null,
   "metadata": {},
   "outputs": [],
   "source": [
    "#3. Define una variable con valor True mediante un entero.\n",
    "isTrue = bool(1)\n",
    "print(\"El tipo {0} tiene un valor {1}\".format(type(isTrue),isTrue))"
   ]
  },
  {
   "cell_type": "markdown",
   "metadata": {},
   "source": [
    "# Ejercicios con string"
   ]
  },
  {
   "cell_type": "code",
   "execution_count": null,
   "metadata": {},
   "outputs": [],
   "source": [
    "#1. Define una variable con un string con el valor “ Master Python”.\n",
    "var = \" Master Python\"\n",
    "print(var)"
   ]
  },
  {
   "cell_type": "code",
   "execution_count": null,
   "metadata": {},
   "outputs": [],
   "source": [
    "#2. Muestra la longitud de la variable anterior.\n",
    "print(len(var))"
   ]
  },
  {
   "cell_type": "code",
   "execution_count": null,
   "metadata": {},
   "outputs": [],
   "source": [
    "#3. Muestra el primer carácter del string.\n",
    "print(var[0])"
   ]
  },
  {
   "cell_type": "code",
   "execution_count": null,
   "metadata": {},
   "outputs": [],
   "source": [
    "#4. Muestra el penúltimo carácter del string.\n",
    "print(var[-2])"
   ]
  },
  {
   "cell_type": "code",
   "execution_count": null,
   "metadata": {},
   "outputs": [],
   "source": [
    "#5. Elimina los espacios iniciales del string.\n",
    "print(var.replace(\" \",\"\"))"
   ]
  },
  {
   "cell_type": "code",
   "execution_count": null,
   "metadata": {},
   "outputs": [],
   "source": [
    "#6. Muestra los caracteres en posiciones impares.\n",
    "print(var[1::2])"
   ]
  },
  {
   "cell_type": "code",
   "execution_count": null,
   "metadata": {},
   "outputs": [],
   "source": [
    "#7. Convierte todo el string en minúscula.\n",
    "var_min = var.lower()\n",
    "print(var_min)"
   ]
  },
  {
   "cell_type": "code",
   "execution_count": null,
   "metadata": {},
   "outputs": [],
   "source": [
    "#8. Separa el string por espacios en blanco.\n",
    "var2 = \"\"\n",
    "for i in var:\n",
    "    if i != \"\":\n",
    "        var2 += i+\" \"\n",
    "print(var2)\n",
    "\n",
    "print(var.center(15))"
   ]
  },
  {
   "cell_type": "code",
   "execution_count": null,
   "metadata": {},
   "outputs": [],
   "source": [
    "#9. Reemplaza “python” por “JAVA”.\n",
    "print(var.replace(\"Python\",\"JAVA\"))"
   ]
  },
  {
   "cell_type": "markdown",
   "metadata": {},
   "source": [
    "# Ejercicio con listas"
   ]
  },
  {
   "cell_type": "code",
   "execution_count": 1,
   "metadata": {},
   "outputs": [
    {
     "name": "stdout",
     "output_type": "stream",
     "text": [
      "[10, 20, 'Hello', 20.5]\n"
     ]
    }
   ],
   "source": [
    "#1. Define una lista con los valores 10,20,'Hello',20.5\n",
    "lista = [10,20,\"Hello\",20.5]\n",
    "print(lista)"
   ]
  },
  {
   "cell_type": "code",
   "execution_count": 2,
   "metadata": {},
   "outputs": [
    {
     "name": "stdout",
     "output_type": "stream",
     "text": [
      "[10, 20, 'Hello', 20.5, 'Word']\n"
     ]
    }
   ],
   "source": [
    "#2. Añade “Word” al final de la lista.\n",
    "lista.append(\"Word\")\n",
    "print(lista)"
   ]
  },
  {
   "cell_type": "code",
   "execution_count": null,
   "metadata": {},
   "outputs": [],
   "source": [
    "#3. Añade “Python” al principio de la lista.\n",
    "lista.insert(0,\"Python\")\n",
    "print(lista)"
   ]
  },
  {
   "cell_type": "code",
   "execution_count": null,
   "metadata": {},
   "outputs": [],
   "source": [
    "#4. Elimina el segundo valor de la lista.\n",
    "lista.pop(1)\n",
    "print(lista)"
   ]
  },
  {
   "cell_type": "code",
   "execution_count": null,
   "metadata": {},
   "outputs": [],
   "source": [
    "#5. Crea una segunda lista con los valores 20, 40, ‘Bye’ (utiliza una forma diferente que en el punto 1)\n",
    "lista2 = list((20,40,\"Bye\"))\n",
    "print(lista2)"
   ]
  },
  {
   "cell_type": "code",
   "execution_count": null,
   "metadata": {},
   "outputs": [],
   "source": [
    "#6. Une las dos listas.\n",
    "listas_unidas = lista + lista2\n",
    "print(listas_unidas)\n",
    "\n",
    "#En el caso que se aniden\n",
    "lista_anidada = lista\n",
    "lista_anidada.append(lista2)\n",
    "print(lista_anidada)"
   ]
  },
  {
   "cell_type": "code",
   "execution_count": null,
   "metadata": {},
   "outputs": [],
   "source": [
    "#7. Muestra la lista final.\n",
    "listas_unidas = lista + lista2\n",
    "\n",
    "print(listas_unidas[len(lista):])\n",
    "print(listas_unidas[-len(lista2):])"
   ]
  },
  {
   "cell_type": "markdown",
   "metadata": {},
   "source": [
    "# Ejercicios con set"
   ]
  },
  {
   "cell_type": "code",
   "execution_count": null,
   "metadata": {},
   "outputs": [],
   "source": [
    "#1. Define un conjunto con los valores coche, motocicleta, bicicleta.\n",
    "mi_set = {\"coche\",\"motocicleta\",\"bicicleta\"}\n",
    "print(mi_set)"
   ]
  },
  {
   "cell_type": "code",
   "execution_count": null,
   "metadata": {},
   "outputs": [],
   "source": [
    "#2. Añade avión al conjunto.\n",
    "mi_set.add(\"avion\")\n",
    "print(mi_set)"
   ]
  },
  {
   "cell_type": "code",
   "execution_count": null,
   "metadata": {},
   "outputs": [],
   "source": [
    "#3. Elimina coche del conjunto.\n",
    "mi_set.remove(\"coche\")\n",
    "print(mi_set)"
   ]
  },
  {
   "cell_type": "code",
   "execution_count": null,
   "metadata": {},
   "outputs": [],
   "source": [
    "#4. Crea otro conjunto con los valores avión, coche, tractor (utiliza una forma diferente que en el punto 1).\n",
    "mi_set2 = set((\"avion\",\"coche\",\"tractor\"))\n",
    "print(mi_set)"
   ]
  },
  {
   "cell_type": "code",
   "execution_count": null,
   "metadata": {},
   "outputs": [],
   "source": [
    "#5. Crea otro conjunto con los valores que se repitan en los conjuntos anteriores.\n",
    "mi_set2.add(\"bicicleta\")\n",
    "print(mi_set)"
   ]
  },
  {
   "cell_type": "code",
   "execution_count": null,
   "metadata": {},
   "outputs": [],
   "source": [
    "#6. Muestra un conjunto con todos los valores que pertenecen al conjunto creado en el punto 1 y punto 4\n",
    "mi_set_unido = mi_set.union(mi_set2)\n",
    "\n",
    "print(mi_set_unido)"
   ]
  },
  {
   "cell_type": "markdown",
   "metadata": {},
   "source": [
    "# Ejercicio diccionarios"
   ]
  },
  {
   "cell_type": "code",
   "execution_count": null,
   "metadata": {},
   "outputs": [],
   "source": [
    "#1. Define el diccionario usando dict()\n",
    "diccionario = dict(coche=10,motocicleta=20,camion=30)\n",
    "print(diccionario)"
   ]
  },
  {
   "cell_type": "code",
   "execution_count": null,
   "metadata": {},
   "outputs": [],
   "source": [
    "#2. Define el diccionario usando { }.\n",
    "diccionario = {\"coche\":10,\"motocicleta\":20,\"camion\":30}\n",
    "print(diccionario)"
   ]
  },
  {
   "cell_type": "code",
   "execution_count": null,
   "metadata": {},
   "outputs": [],
   "source": [
    "#3. Define el diccionario usando zip().\n",
    "vehiculo = [\"coche\", \"camion\", \"valores\"]\n",
    "valor = [10,20,30]\n",
    "\n",
    "diccionario = zip(vehiculo,valor)\n",
    "for i in diccionario:\n",
    "    print(i)"
   ]
  },
  {
   "cell_type": "code",
   "execution_count": null,
   "metadata": {},
   "outputs": [],
   "source": [
    "#4. Muestra los valores del diccionario.\n",
    "print(diccionario.values())"
   ]
  },
  {
   "cell_type": "code",
   "execution_count": null,
   "metadata": {},
   "outputs": [],
   "source": [
    "#5. Muestra las claves del diccionario.\n",
    "print(diccionario.keys())"
   ]
  },
  {
   "cell_type": "code",
   "execution_count": null,
   "metadata": {},
   "outputs": [],
   "source": [
    "#6. Muestra el valor de coche.\n",
    "print(diccionario[\"coche\"])"
   ]
  },
  {
   "cell_type": "code",
   "execution_count": null,
   "metadata": {},
   "outputs": [],
   "source": [
    "#7. Añade al diccionario avión con valor 100.\n",
    "diccionario[\"avion\"] = 100\n",
    "print(diccionario)"
   ]
  },
  {
   "cell_type": "code",
   "execution_count": null,
   "metadata": {},
   "outputs": [],
   "source": [
    "#8. Muestra los elementos del diccionario.\n",
    "print(diccionario.items())"
   ]
  }
 ],
 "metadata": {
  "kernelspec": {
   "display_name": "Python 3.11.0 64-bit",
   "language": "python",
   "name": "python3"
  },
  "language_info": {
   "codemirror_mode": {
    "name": "ipython",
    "version": 3
   },
   "file_extension": ".py",
   "mimetype": "text/x-python",
   "name": "python",
   "nbconvert_exporter": "python",
   "pygments_lexer": "ipython3",
   "version": "3.11.0 (main, Oct 24 2022, 18:26:48) [MSC v.1933 64 bit (AMD64)]"
  },
  "orig_nbformat": 4,
  "vscode": {
   "interpreter": {
    "hash": "8788d27cba0b2dbc0718fef4e715449fab30bd59957c04e36cc9c246182e8fe0"
   }
  }
 },
 "nbformat": 4,
 "nbformat_minor": 2
}
