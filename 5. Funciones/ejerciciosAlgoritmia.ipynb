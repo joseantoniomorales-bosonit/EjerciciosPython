{
 "cells": [
  {
   "cell_type": "markdown",
   "metadata": {},
   "source": [
    "# Cables\n",
    "El problema consiste en comprobar si es posible encontrar una ordenación de cables en la cual todos ellos están conectados formando un círculo.\n",
    "\n",
    "Cada cable tiene dos extremos y cada extremo puede ser un conectar macho (M) o hembra (H).\n",
    "\n",
    "La conexión de un cable con otro sólo es posible juntando conectores diferentes.\n",
    "\n",
    "\n",
    "### **Input**\n",
    "* Un conjunto desordenado de cables representados mediante parejas de letras haciendo referencia al conector de sus extremos.\n",
    "\n",
    "### **Output**\n",
    "* Imprimir por la salida estándar \"true\" si es posible conectar todos los cables, \"false\" en caso contrario.\n",
    "\n",
    "\n",
    "| Sample Input | Sample Output |\n",
    "| --- | --- |\n",
    "| HM | true |\n",
    "| HH | false |\n",
    "| HM HH MM | true |\n"
   ]
  },
  {
   "cell_type": "code",
   "execution_count": 73,
   "metadata": {},
   "outputs": [
    {
     "name": "stdout",
     "output_type": "stream",
     "text": [
      "HH MM HM -> True\n"
     ]
    }
   ],
   "source": [
    "def listarCables(cables):\n",
    "    #Pongo el string en mayus\n",
    "    cables = cables.upper()\n",
    "    #Devuelvo la lista de cables separados por un espacio\n",
    "    return list(cables.split())\n",
    "\n",
    "def validacion(listaCables):\n",
    "    #Le paso un listado\n",
    "    for i in listaCables:\n",
    "        #Si la longitud de cada array es mayor a 2 devuelvo un False\n",
    "        if len(i) != 2: return False\n",
    "        for x in i:\n",
    "            #Si las letras no son H o M devuelvo un false\n",
    "            if not (x == \"H\" or x == \"M\"): return False\n",
    "\n",
    "    return True\n",
    "\n",
    "def conexion(cables):\n",
    "    #Inicializo la lista de cables mediante la funcion\n",
    "    listaCables = listarCables(cables)\n",
    "\n",
    "    #Si el formato es valido paso a ver las conexiones\n",
    "    if validacion(listaCables):\n",
    "        for i in range(len(listaCables)):\n",
    "            #Si la lista solo tiene 1 posicion entro\n",
    "            if len(listaCables) -1 == 0:\n",
    "                #Como solo tiene una posicion miro que sean distintas las conexiones\n",
    "                if listaCables[i][0] != listaCables[i][-1]: return \" \".join(listaCables)+\" -> True\"\n",
    "\n",
    "                return \" \".join(listaCables)+\" -> False\"\n",
    "            else:\n",
    "                #Tiene mas de un elemento\n",
    "                for x in range(len(listaCables[i])):\n",
    "                    #Si no coincide la 1 parte del 1 elemento con la ultima parte del ultimo elemento\n",
    "                    if i == 0 and listaCables[0][0] == listaCables[-1][-1]:\n",
    "                        return \" \".join(listaCables)+\" -> False\"\n",
    "                    else:\n",
    "                        #Si la conexion es igual al conector no se puede (False)\n",
    "                        if listaCables[i][-1] == listaCables[i+1][0]: return \" \".join(listaCables)+\" -> False\"\n",
    "\n",
    "                return \" \".join(listaCables)+\" -> True\"\n",
    "    else:\n",
    "        return \"La lista de cables no es correcta. Por favor, inserte una segun el formato.\"\n",
    "\n",
    "cables = input(\"Dime el circulo de cables: ejemplo HM HM\")\n",
    "print(conexion(cables))"
   ]
  },
  {
   "cell_type": "markdown",
   "metadata": {},
   "source": [
    "# Llenando cubos\n",
    "Dado un conjunto de cubos llenos de distintas cantidades de agua, se pide calcular la cantidad mínima de agua necesaria para nivelar los cubos de forma que todos ellos acaben teniendo la misma cantidad.\n",
    "\n",
    "Consideraciones:\n",
    "- El nivel de agua de un cubo no puede decrecer, sólo aumentar.\n",
    "- Los cubos se nivelarán respecto al cubo más lleno.\n",
    "\n",
    "### **Input**\n",
    "* Un conjunto de números enteros especificando la cantidad de agua de la que dispone cada cubo.\n",
    "\n",
    "### **Output**\n",
    "* Imprimir por la salida estándar la cantidad mínima de agua necesaria para nivelar los cubos.\n",
    "\n",
    "| Sample Input | Sample Output |\n",
    "| --- | --- |\n",
    "| 10 8 7 | 5 |\n",
    "| 8 8 8  | 0 |\n"
   ]
  },
  {
   "cell_type": "code",
   "execution_count": 68,
   "metadata": {},
   "outputs": [
    {
     "name": "stdout",
     "output_type": "stream",
     "text": [
      "Por favor, el numero de cubos tiene que ser de tipo entero...\n"
     ]
    }
   ],
   "source": [
    "from functools import reduce\n",
    "\n",
    "def iniLista(numCubos):\n",
    "    #Si no cumple el min y el maximo de cubos no se ejecuta el resto\n",
    "    if numCubos < 3 or numCubos > 6: return \"Cuidado con la cantidad de cubos (Min 2, Max 6)\"\n",
    "    listaCubos = list()\n",
    "\n",
    "    #Hago un bucle para hacer los input\n",
    "    for i in range(numCubos):\n",
    "        #Por si en el input hay otro literal que no sea de tipo int\n",
    "        try:\n",
    "            listaCubos.append(int(input(\"Dime el tamaño del cubo: \")))\n",
    "        except:\n",
    "            return \"Los cubos tienen que ser de tipo entero, por favor introduce correctamente los parametros\"\n",
    "\n",
    "    return listaCubos\n",
    "\n",
    "def nivelar(numCubos):\n",
    "    #Inicio los cubos\n",
    "    listaCubos = iniLista(numCubos)\n",
    "\n",
    "    #Para que si da fallo devuelva el mensaje de error, y si es un lista continuar\n",
    "    if type(listaCubos) is list:\n",
    "        #Ordenamos por el cubo con mas cantidad\n",
    "        listaCubos = sorted(listaCubos,reverse=True)\n",
    "        litros = 0 #Sumador de los litros que faltan para nivelar\n",
    "\n",
    "        #Bucle que empieza por el indice 1 porque el 0 es el elemento con mas capacidad\n",
    "        for i in range(1,len(listaCubos)):\n",
    "            #El sumador es la resta del elemento mas grande con el siguiente de la lista\n",
    "            litros += listaCubos[0] - listaCubos[i]\n",
    "        return litros\n",
    "    else:\n",
    "        #Devolvemos los errores de validacion de iniLista(numCubos)\n",
    "        return listaCubos\n",
    "\n",
    "try:\n",
    "    numCubos = int(input(\"Cuantos cubos tines? (min 2, max 6)\"))\n",
    "    print(nivelar(numCubos))\n",
    "except:\n",
    "    print(\"Por favor, el numero de cubos tiene que ser de tipo entero...\")"
   ]
  },
  {
   "attachments": {},
   "cell_type": "markdown",
   "metadata": {},
   "source": [
    "# Validación de paréntesis\n",
    "Dada una cadena que contiene únicamente los caracteres ’(’, ’)’, ’{’, ’}’, ’[’ y ’]’, determinar si la cadena de entrada es válida.\n",
    "\n",
    "### **Input**\n",
    "* Los paréntesis abiertos deben cerrarse con el mismo tipo de paréntesis.\n",
    "* Los paréntesis abiertos deben cerrarse en el orden correcto.\n",
    "\n",
    "### **Output**\n",
    "* Imprimir por la salida estándar \"true\" si la cadena es válida, \"false\" en caso contrario.\n",
    "\n",
    "| Sample Input | Sample Output |\n",
    "| --- | --- |\n",
    "| () | true |\n",
    "| () [] {} | true |\n",
    "| (] | false |"
   ]
  },
  {
   "cell_type": "code",
   "execution_count": 1,
   "metadata": {},
   "outputs": [
    {
     "name": "stdout",
     "output_type": "stream",
     "text": [
      "( ( ) -> False\n"
     ]
    }
   ],
   "source": [
    "import re\n",
    "\n",
    "def validacion():\n",
    "    #Por si hay un error en el input\n",
    "    try:\n",
    "        cadena = str(input(\"Dime una cadena de llaves con el siguiente formato de ejemplo (() {} [])\"))\n",
    "    except:\n",
    "        raise TypeError(\"Error al insertar la cadena\")\n",
    "\n",
    "    #Quito los espacios para poder hacer una lista cada dos elementos\n",
    "    cadenaAux = cadena.replace(\" \",\"\")\n",
    "    #Aqui hago una lista cada dos elementos\n",
    "    listaCadena = cadenaAux[::2]\n",
    "    #Utilizo expresiones regulares para la cadena de texto\n",
    "    patron = re.compile(\"(\\\\(\\\\)|\\\\{\\\\}|\\\\[\\\\])\")\n",
    "    #Con el findall obtengo una lista de las coincidencias\n",
    "    listaPatron = patron.findall(cadena)\n",
    "\n",
    "    #Si las conincidencias coinciden en las dos cadenas en longitud es que todo esta correcto\n",
    "    return \" \".join(cadena)+\" -> True\" if len(listaCadena) == len(listaPatron) else \" \".join(cadena)+\" -> False\"\n",
    "\n",
    "print(validacion())"
   ]
  },
  {
   "cell_type": "markdown",
   "metadata": {},
   "source": [
    "# Atrapando lluvia\n",
    "Dados N números enteros no negativos representando un mapa de elevación, calcular cuál es el volumen de agua que queda atrapada después de llover.\n",
    "\n",
    "### **Input**\n",
    "* Una lista de números enteros en el rango 0 ≤ N ≤ 1000000 que definen la elevación del terreno en cada unidad del eje horizontal.\n",
    "\n",
    "### **Output**\n",
    "* Imprimir por la salida estándar las unidades de agua que quedan atrapadas según el mapa de elevación.\n",
    "\n",
    "| Sample Input | Sample Output |\n",
    "| --- | --- |\n",
    "| 4,2,0,3,2,5 | 9 |\n",
    "| 0,1,0,2,1,0,1,3,2,1,2,1  | 6 |\n"
   ]
  },
  {
   "cell_type": "code",
   "execution_count": 3,
   "metadata": {},
   "outputs": [
    {
     "name": "stdout",
     "output_type": "stream",
     "text": [
      "Terreno seco\n",
      "[0 0 0 0 0 9]\n",
      "[9 0 0 0 0 9]\n",
      "[9 0 0 9 0 9]\n",
      "[9 9 0 9 9 9]\n",
      "[9 9 0 9 9 9]\n",
      "\n",
      "Terreno con acumulacion de agua\n",
      "[0 0 0 0 0 9]\n",
      "[9 1 1 1 1 9]\n",
      "[9 1 1 9 1 9]\n",
      "[9 9 1 9 9 9]\n",
      "[9 9 1 9 9 9]\n",
      "\n",
      "[4, 2, 0, 3, 2, 5] -> 9\n"
     ]
    }
   ],
   "source": [
    "import numpy as np\n",
    "\n",
    "#Por si queremos introducir la lista por input\n",
    "'''def iniTerreno():\n",
    "    #Controlo los fallos por si no es tipo entero el input\n",
    "    try:\n",
    "        lonTerreno = int(input(\"Dime la longitud del terreno\"))\n",
    "        #Si no cumple los requisitos\n",
    "        if not (lonTerreno >= 0 and lonTerreno <= 1000000): return \"La longitudo del terreno no cumple las codiciones (0 ≤ N ≤ 1000000)\"\n",
    "        #Si la lista es menor a 2 elementos siempre sera 0, porque no hay terreno donde acumularse el agua\n",
    "        if lonTerreno < 2: return 0\n",
    "\n",
    "        listaTerreno = list()\n",
    "        #Recorro segun la longitud del terreno\n",
    "        for i in range(lonTerreno):\n",
    "            #Controlo los fallos por si no es tipo entero el input y lo voy almacenando en la lista\n",
    "            try:\n",
    "                listaTerreno.append(int(input(\"Dime la elevacion del terreno de la posicion {0}\".format(i))))\n",
    "            except:\n",
    "                raise TypeError(\"Los elementos de la lista tienen que ser de tipo entero\")\n",
    "\n",
    "        return listaTerreno\n",
    "    except:\n",
    "        return \"La longitud del terreno tiene que ser de tipo entero...\"\n",
    "'''\n",
    "\n",
    "def obtMax(lista):\n",
    "    if type(lista) is list:\n",
    "        return sorted(lista,reverse=True)[0]\n",
    "    else:\n",
    "        raise TypeError(\"El parametro tiene que ser una lista...\")\n",
    "\n",
    "\n",
    "def generarArrayBi(lista):\n",
    "    altura = obtMax(lista)\n",
    "    mapa = np.zeros((altura,len(lista)), dtype=int)\n",
    "\n",
    "    for i in range(len(lista)):\n",
    "        if lista[i] > 0:\n",
    "            for x in range(lista[i]):\n",
    "                mapa[x][i] = 9\n",
    "\n",
    "    return mapa\n",
    "\n",
    "def pintarMapa(array):\n",
    "    for i in reversed(range(len(array))):\n",
    "        print(array[i])\n",
    "\n",
    "def calcLluvia(mapaTerreno):\n",
    "    #Inicializo la lista terreno, que nos puede devolver 3 tipos (lista, entero, string)\n",
    "    #listaTerreno = iniTerreno()\n",
    "    #Genero el mapa\n",
    "    #mapaTerreno = generarArrayBi(listaTerreno)\n",
    "\n",
    "    for i in range(len(mapaTerreno)):\n",
    "        for x in range(len(mapaTerreno[i])):\n",
    "            #Si encuentra una celda que tiene terreno compara para llenar de agua\n",
    "            if mapaTerreno[i][x] != 0:\n",
    "                entra = False\n",
    "\n",
    "                #Si la celda de x+1 al final no tiene ningun 9 no entra en el otro for\n",
    "                for y in range(x+1, len(mapaTerreno[i])):\n",
    "                    if mapaTerreno[i][y] == 9:\n",
    "                        entra = True\n",
    "                        break\n",
    "\n",
    "                if entra:\n",
    "                    for x2 in range(x+1,len(mapaTerreno[i])):\n",
    "                        if mapaTerreno[i][x2] == 9:\n",
    "                            break\n",
    "                        else:\n",
    "                            mapaTerreno[i][x2] = 1\n",
    "\n",
    "    pintarMapa(mapaTerreno)\n",
    "    return np.count_nonzero(mapaTerreno == 1)\n",
    "\n",
    "\n",
    "lista = [4,2,0,3,2,5]\n",
    "\n",
    "array = generarArrayBi(lista)\n",
    "print(\"Terreno seco\")\n",
    "pintarMapa(array)\n",
    "print()\n",
    "\n",
    "print(\"Terreno con acumulacion de agua\")\n",
    "valor = calcLluvia(array)\n",
    "print()\n",
    "print(\"{0} -> {1}\".format(lista,valor))\n",
    "\n",
    "\n"
   ]
  },
  {
   "attachments": {},
   "cell_type": "markdown",
   "metadata": {},
   "source": [
    "# Juego de saltos\n",
    "Dada una lista de enteros no negativos de longitud L, comienzas en la posición del primer índice de la lista. Cada elemento de la lista, con valor N, representa la longitud máxima de salto en esa posición. Tu objetivo es llegar al último índice en el mínimo número de saltos.\n",
    "\n",
    "Nota: Puedes asumir que siempre es posible llegar al último índice.\n",
    "\n",
    "### **Input**\n",
    "* 1 <= L <= 100000\n",
    "* 1 <= N <= 1000\n",
    "\n",
    "### **Output**\n",
    "* Imprimir por la salida estándar el mínimo numero de saltos necesarios para llegar al último índice\n",
    "\n",
    "| Sample Input | Sample Output |\n",
    "| --- | --- |\n",
    "| [2,3,1,1,4]  | 2 |\n",
    "| [2,3,0,1,4] | 2 |"
   ]
  },
  {
   "cell_type": "code",
   "execution_count": 140,
   "metadata": {},
   "outputs": [
    {
     "data": {
      "text/plain": [
       "'[2, 3, 1, 1, 4] -> 2'"
      ]
     },
     "execution_count": 140,
     "metadata": {},
     "output_type": "execute_result"
    }
   ],
   "source": [
    "def calcularSaltos(lista):\n",
    "    #Si no cumple los requisitos de logitud expecificados da un error\n",
    "    if not (len(lista) >= 1 and len(lista) <= 100000):\n",
    "        raise TypeError(\"La longitud maxima del array es de 100000, y tiene una longitud de {0}\".format(len(lista)))\n",
    "\n",
    "    saltos = 1\n",
    "    pos = 0\n",
    "    while pos < (len(lista)-2):\n",
    "        #Si no cumple los requisitos de logitud expecificados da un error\n",
    "        if not (lista[pos] >= 1 and lista[pos] <= 1000): raise TypeError(\"El numero almacenado tiene que ser igual o mayor que 1 y menor o igual que 1000\")\n",
    "\n",
    "        #Tiene que sar +1 porque partimos de la posicion 0, un humano empieza contando desde 1\n",
    "        pos += lista[pos]+1\n",
    "        saltos += 1\n",
    "\n",
    "    return \"{0} -> {1}\".format(lista,saltos)\n",
    "\n",
    "lista = [2,3,1,1,4]\n",
    "lista2 = [2,3,0,1,4]\n",
    "lista3 = [2,3,1,1,4,2,3,0,1,4]\n",
    "calcularSaltos(lista)"
   ]
  },
  {
   "cell_type": "markdown",
   "metadata": {},
   "source": [
    "# Matriz Espiral\n",
    "Dada una matriz m x n, devuelve todos los elementos de la matriz ordenados en forma de espiral.\n",
    "\n",
    "### **Input**\n",
    "* m == matriz.length\n",
    "* n == matriz[i].length\n",
    "* 1 <= m, n <= 10\n",
    "* -100 <= matriz[i][j] <= 100\n",
    "\n",
    "### **Output**\n",
    "* Imprimir por la salida estándar el array resultante\n",
    "\n",
    "| Sample Input | Sample Output |\n",
    "| --- | --- |\n",
    "| [[1,2,3], [4,5,6], [7,8,9]]   | [1,2,3,6,9,8,7,4,5] |\n",
    "| [[1,2,3,4], [5,6,7,8], [9,10,11,12]] | [1,2,3,4,8,12,11,10,9,5,6,7] |"
   ]
  },
  {
   "cell_type": "code",
   "execution_count": 34,
   "metadata": {},
   "outputs": [
    {
     "name": "stdout",
     "output_type": "stream",
     "text": [
      "[[ 1  2  3  4]\n",
      " [ 5  6  7  8]\n",
      " [ 9 10 11 12]\n",
      " [13 14 15 16]\n",
      " [18 19 20 21]]\n",
      "\n",
      "[[1, 2, 3, 4], [5, 6, 7, 8], [9, 10, 11, 12], [13, 14, 15, 16], [18, 19, 20, 21]] -> [ 1  2  3  4  8 12 16 21 20 19 18 13  9  5  6  7 11 15 14 10]\n"
     ]
    }
   ],
   "source": [
    "import numpy as np\n",
    "\n",
    "def espiral(array):\n",
    "    if type(array) is list: array = np.array(array)\n",
    "\n",
    "    lista = np.array([],dtype=int)\n",
    "\n",
    "    while array.size > 1:\n",
    "        #Derecha\n",
    "        lista = np.append(lista,array[0].flatten())\n",
    "        array = np.delete(array,0,0)\n",
    "\n",
    "        #Abajo\n",
    "        lista = np.append(lista,array[:,-1:].flatten())\n",
    "        array = np.delete(array,-1,1)\n",
    "\n",
    "        #Izquierda\n",
    "        if np.size(array,0) > 1:\n",
    "            lista = np.append(lista,array[-1,::-1].flatten())\n",
    "            array = np.delete(array,-1,0)\n",
    "\n",
    "        #Arriba\n",
    "        if np.size(array,0) > 1 :\n",
    "            lista = np.append(lista,array[::-1,0].flatten())\n",
    "            array = np.delete(array,0,1)\n",
    "        else:\n",
    "            lista = np.append(lista,array[::-1].flatten())\n",
    "            array = np.delete(array,0,1)\n",
    "\n",
    "    return lista\n",
    "\n",
    "mapa = np.array(lista)\n",
    "print(mapa)\n",
    "print()\n",
    "\n",
    "lista = [[1,2,3,4], [5,6,7,8], [9,10,11,12],[13,14,15,16],[18,19,20,21]]\n",
    "print(\"{0} -> {1}\".format(lista,espiral(lista)))"
   ]
  },
  {
   "cell_type": "markdown",
   "metadata": {},
   "source": [
    "# Subiendo escaleras\n",
    "Estás subiendo una escalera de N escalones.\n",
    "\n",
    "Con cada paso puedes subir 1 o 2 escalones. ¿De cuántas maneras diferentes puedes subir la escalera?\n",
    "\n",
    "### **Input**\n",
    "* Un número entero 1 ≤ N ≤ 45 indicando el número de escalones de la escalera.\n",
    "\n",
    "### **Output**\n",
    "* Imprimir por la salida estándar el número de formas diferentes que existen para subir la escalera.\n",
    "\n",
    "| Sample Input | Sample Output |\n",
    "| --- | --- |\n",
    "| 2 | 2 |\n",
    "| 3 | 3 |\n"
   ]
  },
  {
   "cell_type": "code",
   "execution_count": 8,
   "metadata": {},
   "outputs": [
    {
     "name": "stdout",
     "output_type": "stream",
     "text": [
      "7 -> 21\n"
     ]
    }
   ],
   "source": [
    "def f(n):\n",
    "    if n <= 1:\n",
    "        return 1\n",
    "    return f(n-1) + f(n-2)\n",
    "\n",
    "'''\n",
    "def factorial(n):\n",
    "    if n <= 1:\n",
    "        return 1\n",
    "    return n * factorial(n-1)\n",
    "\n",
    "'''\n",
    "\n",
    "escalones = 7\n",
    "print(\"{0} -> {1}\".format(escalones,f(escalones))) if escalones >=1 and escalones <=45 else print(\"El rango del número entero es el siguiente: 1 ≤ N ≤ 45\")"
   ]
  },
  {
   "cell_type": "markdown",
   "metadata": {},
   "source": [
    "# Máximo beneficio\n",
    "Se proporciona una lista de precios de stock en días consecutivos, de manera que el elemento en posición i es el precio del stock en el día i.\n",
    "\n",
    "Calcular el máximo beneficio resultado de comprar un stock en un único día del listado y venderlo en un día posterior.\n",
    "\n",
    "### **Input**\n",
    "* Una lista de números enteros 0 ≤ N ≤ 1000 que define el precio del stock en cada día.\n",
    "\n",
    "### **Output**\n",
    "* Imprimir por la salida estándar el máximo beneficio que puede obtenerse con la transacción. Si no es posible obtener beneficio, imprimir 0.\n",
    "\n",
    "| Sample Input | Sample Output |\n",
    "| --- | --- |\n",
    "| 7,1,5,3,6,4 | 5 |\n",
    "| 7,6,4,3,1 | 0 |"
   ]
  },
  {
   "cell_type": "code",
   "execution_count": 15,
   "metadata": {},
   "outputs": [
    {
     "data": {
      "text/plain": [
       "5"
      ]
     },
     "execution_count": 15,
     "metadata": {},
     "output_type": "execute_result"
    }
   ],
   "source": [
    "def maxBeneficio(lista):\n",
    "    #Obtengo el minimo precioS del conjunto de dias\n",
    "    minBen = min(lista)\n",
    "    #Y la posicion que ocupa dentro de la lista\n",
    "    posMinBen = lista.index(minBen)\n",
    "\n",
    "    #Si el minimo esta en la ultima posicion devuelvo 0 porque no habra beneficios\n",
    "    if posMinBen == len(lista)-1: return 0\n",
    "\n",
    "    #Obtengo el maximo a partir de la posicion del minimo\n",
    "    maxBen = max(lista[posMinBen:])\n",
    "\n",
    "    #El resultado es la resta de los dos\n",
    "    return maxBen - minBen\n",
    "\n",
    "\n",
    "lista = [7,1,5,3,6,4]\n",
    "#lista = [7,6,4,3,1,1]\n",
    "maxBeneficio(lista)"
   ]
  }
 ],
 "metadata": {
  "kernelspec": {
   "display_name": "Python 3.11.0 64-bit",
   "language": "python",
   "name": "python3"
  },
  "language_info": {
   "codemirror_mode": {
    "name": "ipython",
    "version": 3
   },
   "file_extension": ".py",
   "mimetype": "text/x-python",
   "name": "python",
   "nbconvert_exporter": "python",
   "pygments_lexer": "ipython3",
   "version": "3.11.0 (main, Oct 24 2022, 18:26:48) [MSC v.1933 64 bit (AMD64)]"
  },
  "orig_nbformat": 4,
  "vscode": {
   "interpreter": {
    "hash": "8788d27cba0b2dbc0718fef4e715449fab30bd59957c04e36cc9c246182e8fe0"
   }
  }
 },
 "nbformat": 4,
 "nbformat_minor": 2
}
