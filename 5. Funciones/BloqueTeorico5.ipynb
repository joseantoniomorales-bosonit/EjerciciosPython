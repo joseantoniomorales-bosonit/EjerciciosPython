{
 "cells": [
  {
   "cell_type": "markdown",
   "metadata": {},
   "source": [
    "# Ejercicios con funciones"
   ]
  },
  {
   "cell_type": "code",
   "execution_count": 1,
   "metadata": {},
   "outputs": [
    {
     "name": "stdout",
     "output_type": "stream",
     "text": [
      "El animal se llama Gato y tiene 4 patas\n"
     ]
    }
   ],
   "source": [
    "#1. Define una función llamada showAnimal que reciba dos argumentos name y n_legs e imprima esta información por pantalla.\n",
    "\n",
    "def showAnimal(name, n_legs):\n",
    "    print(\"El animal se llama {0} y tiene {1} patas\".format(name,n_legs))\n",
    "\n",
    "showAnimal(\"Gato\",4)\n"
   ]
  },
  {
   "cell_type": "code",
   "execution_count": 4,
   "metadata": {},
   "outputs": [
    {
     "name": "stdout",
     "output_type": "stream",
     "text": [
      "Esta funcion tiene 2 argumentos\n"
     ]
    }
   ],
   "source": [
    "#2. Define una función que puede recibir cualquier número de argumentos e imprima cuántos argumentos ha recibido.\n",
    "def parametrosArbitrarios(*argumentos):\n",
    "    print(\"Esta funcion tiene {0} argumentos\".format(len(argumentos)))\n",
    "\n",
    "parametrosArbitrarios(\"Hola\",22)"
   ]
  },
  {
   "cell_type": "code",
   "execution_count": 7,
   "metadata": {},
   "outputs": [
    {
     "name": "stdout",
     "output_type": "stream",
     "text": [
      "['La suma es = 6', 'La resta es = 2']\n"
     ]
    }
   ],
   "source": [
    "#3. Define una función que recibiendo dos números, devuelva la suma y la resta de ellos en una sola llamada.\n",
    "\n",
    "def sumaYResta(num1,num2):\n",
    "    lista = list()\n",
    "    lista.append(\"La suma es = {0}\".format((num1 + num2)))\n",
    "    lista.append(\"La resta es = {0}\".format((num1 - num2)))\n",
    "\n",
    "    return lista\n",
    "\n",
    "print(sumaYResta(4,2))"
   ]
  },
  {
   "cell_type": "code",
   "execution_count": 8,
   "metadata": {},
   "outputs": [
    {
     "name": "stdout",
     "output_type": "stream",
     "text": [
      "4\n"
     ]
    }
   ],
   "source": [
    "#4. Define una función que recibiendo dos números devuelva la multiplicación.\n",
    "def multiplicar(num1=0,num2=0):\n",
    "    return num1*num2\n",
    "\n",
    "print(multiplicar(2,2))"
   ]
  },
  {
   "cell_type": "code",
   "execution_count": 11,
   "metadata": {},
   "outputs": [
    {
     "name": "stdout",
     "output_type": "stream",
     "text": [
      "0\n"
     ]
    }
   ],
   "source": [
    "#5. Define una función que recibiendo dos números devuelva el módulo.\n",
    "def modulo(num1,num2):\n",
    "    return num1%num2\n",
    "\n",
    "print(modulo(6,2))"
   ]
  },
  {
   "cell_type": "code",
   "execution_count": 13,
   "metadata": {},
   "outputs": [
    {
     "name": "stdout",
     "output_type": "stream",
     "text": [
      "12\n"
     ]
    }
   ],
   "source": [
    "#6. Define una función que recibiendo una función del ejercicio 4 o ejercicio 5 y dos valores numéricos devuelva su resultado.\n",
    "def ejercicio6(num1,num2,num3):\n",
    "    return num1+(num2*num3)\n",
    "\n",
    "print(ejercicio6(multiplicar(4,2),2,2))"
   ]
  },
  {
   "cell_type": "code",
   "execution_count": 14,
   "metadata": {},
   "outputs": [
    {
     "name": "stdout",
     "output_type": "stream",
     "text": [
      "La persona Jose tiene este email Sin determinar\n"
     ]
    }
   ],
   "source": [
    "# 7. Define una función que reciba el nombre y email de una persona. Si no recibe email, se asignará “Sin determinar”.\n",
    "    # Lafunción debe imprimir el nombre y email de la persona.\n",
    "def nombreYEmail(nombre,email=\"Sin determinar\"):\n",
    "    print(\"La persona {0} tiene este email {1}\".format(nombre,email))\n",
    "\n",
    "nombreYEmail(\"Jose\")"
   ]
  },
  {
   "cell_type": "code",
   "execution_count": 37,
   "metadata": {},
   "outputs": [
    {
     "name": "stdout",
     "output_type": "stream",
     "text": [
      "55\n"
     ]
    }
   ],
   "source": [
    "#8. Define una función que recibiendo un entero positivo, irá sumando este número a su anterior hasta llegar a 0 y devolverá el resultado final.\n",
    "def recursiva(num,*tupla):\n",
    "    valor = tupla[0] + num\n",
    "\n",
    "    if num == 1:\n",
    "        return valor\n",
    "\n",
    "    return recursiva(num-1,valor)\n",
    "\n",
    "print(recursiva(10,0))"
   ]
  },
  {
   "cell_type": "markdown",
   "metadata": {},
   "source": [
    "# Ejercicios con funciones anónimas"
   ]
  },
  {
   "cell_type": "code",
   "execution_count": 40,
   "metadata": {},
   "outputs": [
    {
     "name": "stdout",
     "output_type": "stream",
     "text": [
      "2.0\n"
     ]
    }
   ],
   "source": [
    "from math import sqrt\n",
    "\n",
    "#1. Define una función lambda que calcule el cuadrado de un número\n",
    "func = lambda x: sqrt(x)\n",
    "print(func(4))"
   ]
  },
  {
   "cell_type": "code",
   "execution_count": 42,
   "metadata": {},
   "outputs": [
    {
     "name": "stdout",
     "output_type": "stream",
     "text": [
      "True\n"
     ]
    }
   ],
   "source": [
    "#2. Define una función lambda que devuelva True si el cuadrado de un número es mayor que 999 si no devuelve False.\n",
    "mayor = lambda x: x**2 > 999\n",
    "print(mayor(100))"
   ]
  },
  {
   "cell_type": "code",
   "execution_count": 43,
   "metadata": {},
   "outputs": [
    {
     "name": "stdout",
     "output_type": "stream",
     "text": [
      "4\n"
     ]
    }
   ],
   "source": [
    "#3. Define una función lambda que reciba dos números y devuelva el resultado de su multiplicación.\n",
    "mult = lambda x,y: x*y\n",
    "print(mult(2,2))"
   ]
  },
  {
   "cell_type": "code",
   "execution_count": 50,
   "metadata": {},
   "outputs": [
    {
     "name": "stdout",
     "output_type": "stream",
     "text": [
      "['Casa', 'Amigo', 'Hola', 'Coche']\n"
     ]
    }
   ],
   "source": [
    "#4. Utilizando la función sorted() y lambda ordena una lista de palabras teniendo en cuenta la segunda letra de cada palabra.\n",
    "lista = [\"Hola\",\"Amigo\",\"Casa\",\"Coche\"]\n",
    "listaLambda = sorted(lista, key=lambda x: x[1])\n",
    "\n",
    "print(listaLambda)"
   ]
  },
  {
   "cell_type": "markdown",
   "metadata": {},
   "source": [
    "# Ejercicios con funciones de orden superior"
   ]
  },
  {
   "cell_type": "code",
   "execution_count": 72,
   "metadata": {},
   "outputs": [
    {
     "name": "stdout",
     "output_type": "stream",
     "text": [
      "['HolaHola', 'mundomundo', 'queque', 'taltal']\n"
     ]
    }
   ],
   "source": [
    "#1. Define una función que devuelva una lista con el doble de todos los elementos de la lista inicial.\n",
    "lista1 = [1,2,3]\n",
    "#lista1 = [\"Hola\",\"mundo\",\"que\",\"tal\"]\n",
    "\n",
    "lista2 = list(map(lambda x: x+x, lista1))\n",
    "print(lista2)"
   ]
  },
  {
   "cell_type": "code",
   "execution_count": 67,
   "metadata": {},
   "outputs": [
    {
     "name": "stdout",
     "output_type": "stream",
     "text": [
      "[4, 16, 36, 64, 100, 144, 196, 256, 324, 400]\n"
     ]
    }
   ],
   "source": [
    "#2. Define una función que devuelva que eleve al cuadrado los elementos que sean pares.\n",
    "lista = list()\n",
    "\n",
    "for i in range(1,22):\n",
    "    lista.append(i)\n",
    "\n",
    "listaCuadrado = list(map(lambda y: y**2,filter(lambda x: x % 2 == 0, lista)))\n",
    "\n",
    "print(listaCuadrado)"
   ]
  },
  {
   "cell_type": "code",
   "execution_count": 73,
   "metadata": {},
   "outputs": [
    {
     "name": "stdout",
     "output_type": "stream",
     "text": [
      "[6, 8, 10, 12]\n"
     ]
    }
   ],
   "source": [
    "#3. Define una función que dada dos listas sume los elementos de la misma posición.\n",
    "lista1 = [1,2,3,4]\n",
    "lista2 = [5,6,7,8]\n",
    "\n",
    "print(list(map(lambda x,y: x+y, lista1, lista2)))"
   ]
  },
  {
   "cell_type": "code",
   "execution_count": 83,
   "metadata": {},
   "outputs": [
    {
     "name": "stdout",
     "output_type": "stream",
     "text": [
      "[1, 0, 0, 1]\n"
     ]
    }
   ],
   "source": [
    "#4. Define una función que dado una lista de strings devuelva una lista con el número de ‘a’ que aparece en cada string.\n",
    "def numA(cadena):\n",
    "    cont = 0\n",
    "\n",
    "    for i in cadena:\n",
    "        if i == \"a\" or i == \"A\":\n",
    "            cont += 1\n",
    "    return cont\n",
    "\n",
    "lista = [\"Hola\",\"mundo\",\"que\",\"tal\"]\n",
    "print(list(map(numA, lista)))"
   ]
  },
  {
   "cell_type": "code",
   "execution_count": 84,
   "metadata": {},
   "outputs": [
    {
     "name": "stdout",
     "output_type": "stream",
     "text": [
      "[-5, -22, -48]\n"
     ]
    }
   ],
   "source": [
    "#5. Define una función que dado una lista sólo devuelva los elementos que son negativos.\n",
    "lista = [1,-5,27,-22,92,-48,16]\n",
    "\n",
    "print(list(filter(lambda x : x < 0,lista)))"
   ]
  },
  {
   "cell_type": "code",
   "execution_count": 85,
   "metadata": {},
   "outputs": [
    {
     "name": "stdout",
     "output_type": "stream",
     "text": [
      "[2, 2, 2, 1]\n"
     ]
    }
   ],
   "source": [
    "#6. Define una función que dado un string devuelva la lista de vocales que aparecen.\n",
    "def numVo(cadena):\n",
    "    vocales = [\"a\",\"e\",\"i\",\"o\",\"u\"]\n",
    "    cont = 0\n",
    "\n",
    "    for i in cadena:\n",
    "        for y in vocales:\n",
    "            if i.lower() == y:\n",
    "                cont += 1\n",
    "                break\n",
    "\n",
    "    return cont\n",
    "\n",
    "lista = [\"Hola\",\"mundo\",\"que\",\"tal\"]\n",
    "print(list(map(numVo, lista)))"
   ]
  },
  {
   "cell_type": "code",
   "execution_count": 86,
   "metadata": {},
   "outputs": [
    {
     "name": "stdout",
     "output_type": "stream",
     "text": [
      "24\n"
     ]
    }
   ],
   "source": [
    "from functools import reduce\n",
    "\n",
    "#7. Define una función que dado una lista devuelva la multiplicación de todos los elementos.\n",
    "lista1 = [1,2,3,4]\n",
    "print(reduce(lambda acu,x: acu*x, lista1))\n"
   ]
  },
  {
   "cell_type": "code",
   "execution_count": 89,
   "metadata": {},
   "outputs": [
    {
     "name": "stdout",
     "output_type": "stream",
     "text": [
      "5\n"
     ]
    }
   ],
   "source": [
    "from functools import reduce\n",
    "\n",
    "#8. Dado un string extraer los números que aparecen en el texto y devolver su suma.\n",
    "def sumNum(cadena):\n",
    "    cont = 0\n",
    "\n",
    "    for i in cadena:\n",
    "        for x in range(10):\n",
    "            if i == str(x):\n",
    "                cont += 1\n",
    "                break\n",
    "\n",
    "    return cont\n",
    "\n",
    "lista = [\"Jos3\",\"H0l4 qu3\", \"ta1\"]\n",
    "print(reduce(lambda acu,x : acu + x,map(sumNum,lista)))"
   ]
  }
 ],
 "metadata": {
  "kernelspec": {
   "display_name": "Python 3.11.0 64-bit",
   "language": "python",
   "name": "python3"
  },
  "language_info": {
   "codemirror_mode": {
    "name": "ipython",
    "version": 3
   },
   "file_extension": ".py",
   "mimetype": "text/x-python",
   "name": "python",
   "nbconvert_exporter": "python",
   "pygments_lexer": "ipython3",
   "version": "3.11.0"
  },
  "orig_nbformat": 4,
  "vscode": {
   "interpreter": {
    "hash": "8788d27cba0b2dbc0718fef4e715449fab30bd59957c04e36cc9c246182e8fe0"
   }
  }
 },
 "nbformat": 4,
 "nbformat_minor": 2
}
