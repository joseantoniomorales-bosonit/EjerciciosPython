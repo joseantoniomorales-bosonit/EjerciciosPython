{
 "cells": [
  {
   "cell_type": "markdown",
   "id": "6b2fe664",
   "metadata": {},
   "source": [
    "# Ejercicios repaso funciones\n",
    "\n",
    "## Ejercicio 1\n",
    "\n",
    "Define una función que devuelva las palabras de entre 3 y 5 letras que no tienen la letra o. Úsala con la variable texto."
   ]
  },
  {
   "cell_type": "code",
   "execution_count": null,
   "id": "9a261558",
   "metadata": {},
   "outputs": [],
   "source": [
    "texto = \"En un lugar, de la Mancha, de cuyo nombre no quiero acordarme, no ha mucho tiempo que vivía un hidalgo de los de lanza en astillero, adarga antigua, rocín flaco y galgo corredor.\"\n",
    "\n"
   ]
  },
  {
   "cell_type": "markdown",
   "id": "1a6e1a72",
   "metadata": {},
   "source": [
    "## Ejercicio 2\n",
    "\n",
    "Crea una función que devuelva el porcentaje de elementos únicos de una lista."
   ]
  },
  {
   "cell_type": "code",
   "execution_count": null,
   "id": "338324e0",
   "metadata": {},
   "outputs": [],
   "source": [
    "lista = [1,2,4,5,1,1,'Hola', 'pato', 'Hola', 'Logroño']\n",
    "\n"
   ]
  },
  {
   "cell_type": "markdown",
   "id": "50732795",
   "metadata": {},
   "source": [
    "## Ejercicio 3\n",
    "\n",
    "La serie de Fibonacci es una conocida serie en la que cada elemento se calcula como la suma de los dos anteriores, empezando por 1 1, es decir:\n",
    "$$1, 1, 2, 3, 5, 8, 13, 21, ...$$\n",
    "\n",
    "Programar una función que calcule el n-ésimo término de la serie de forma recursiva"
   ]
  },
  {
   "cell_type": "markdown",
   "id": "6333c40d",
   "metadata": {},
   "source": [
    "## Ejercicio 4.4\n",
    "\n",
    "Dada una lista con listas anidadas en su interior, devolver una lista que no esté anidada."
   ]
  },
  {
   "cell_type": "code",
   "execution_count": null,
   "id": "25332f91",
   "metadata": {},
   "outputs": [],
   "source": [
    "lista = [1, 43, [1,7,6,['uno', 'dos'], 'Madrid'], 'Tortuga']"
   ]
  },
  {
   "cell_type": "markdown",
   "id": "ed519b16",
   "metadata": {},
   "source": [
    "## Ejercicio 4.5\n",
    "\n",
    "Implementar una función que lleve a cabo el cifrado César de una frase. El cifrado se lleva a cabo de la siguiente manera:\n",
    "\n",
    "+ Para cada letra de la palabra (sin distinguir mayúsculas y minúsculas) obtenemos su orden dentro del alfabeto.\n",
    "+ A ese valor le sumaremos el valor de la *clave* dada por el usuario.\n",
    "+ Sustituiremos la letra original por la que esté en esta nueva posición calculada dentro de nuestro alfabeto."
   ]
  },
  {
   "cell_type": "markdown",
   "id": "6a7988bf",
   "metadata": {},
   "source": [
    "## Ejercicio 4.6\n",
    "\n",
    "Calcular la desviación estándar de una lista que será nuestra población. La desviación estandar ($\\sigma$) se puede calcular mediante la expresión\n",
    "\n",
    "$$\\sigma^2 = \\frac{\\sum_{i=1}^n{(x-\\bar{x})^2}}{n},$$\n",
    "donde $\\bar{x}$ es la media de la población. Hacerlo utilizando *map* y *reduce*."
   ]
  },
  {
   "cell_type": "code",
   "execution_count": null,
   "id": "12714772",
   "metadata": {},
   "outputs": [],
   "source": [
    "from functools import reduce\n",
    "\n"
   ]
  }
 ],
 "metadata": {
  "kernelspec": {
   "display_name": "Python 3 (ipykernel)",
   "language": "python",
   "name": "python3"
  },
  "language_info": {
   "codemirror_mode": {
    "name": "ipython",
    "version": 3
   },
   "file_extension": ".py",
   "mimetype": "text/x-python",
   "name": "python",
   "nbconvert_exporter": "python",
   "pygments_lexer": "ipython3",
   "version": "3.9.7"
  }
 },
 "nbformat": 4,
 "nbformat_minor": 5
}
