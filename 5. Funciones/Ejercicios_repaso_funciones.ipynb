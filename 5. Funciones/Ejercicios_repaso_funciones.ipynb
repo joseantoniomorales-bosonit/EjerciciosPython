{
 "cells": [
  {
   "cell_type": "markdown",
   "id": "6b2fe664",
   "metadata": {},
   "source": [
    "# Ejercicios repaso funciones\n",
    "\n",
    "## Ejercicio 1\n",
    "\n",
    "Define una función que devuelva las palabras de entre 3 y 5 letras que no tienen la letra o. Úsala con la variable texto."
   ]
  },
  {
   "cell_type": "code",
   "execution_count": 28,
   "id": "9a261558",
   "metadata": {},
   "outputs": [
    {
     "name": "stdout",
     "output_type": "stream",
     "text": [
      "['lugar,', 'que', 'vivía', 'lanza']\n"
     ]
    }
   ],
   "source": [
    "def contPalabras(texto):\n",
    "    sinEsp = texto.split()\n",
    "    listaPa = list()\n",
    "\n",
    "    for i in sinEsp:\n",
    "        lnStr = len(i.replace(\",\",\"\"))\n",
    "        if lnStr >= 3 and lnStr <= 5:\n",
    "            if i.find(\"o\") == -1:\n",
    "                listaPa.append(i)\n",
    "\n",
    "    return listaPa\n",
    "\n",
    "texto = \"En un lugar, de la Mancha, de cuyo nombre no quiero acordarme, no ha mucho tiempo que vivía un hidalgo de los de lanza en astillero, adarga antigua, rocín flaco y galgo corredor.\"\n",
    "print(contPalabras(texto))\n"
   ]
  },
  {
   "cell_type": "markdown",
   "id": "1a6e1a72",
   "metadata": {},
   "source": [
    "## Ejercicio 2\n",
    "\n",
    "Crea una función que devuelva el porcentaje de elementos únicos de una lista."
   ]
  },
  {
   "cell_type": "code",
   "execution_count": 8,
   "id": "338324e0",
   "metadata": {},
   "outputs": [
    {
     "name": "stdout",
     "output_type": "stream",
     "text": [
      "El porcentaje de elementos unicos es 50.0%\n"
     ]
    }
   ],
   "source": [
    "def repeticiones(lista):\n",
    "    listaRep = list()\n",
    "\n",
    "    for i in lista:\n",
    "        listaRep.append(lista.count(i))\n",
    "\n",
    "    return \"El porcentaje de elementos unicos es {0}%\".format((listaRep.count(1)/len(lista)) * 100)\n",
    "\n",
    "lista = [1,2,4,5,1,1,'Hola', 'pato', 'Hola', 'Logroño']\n",
    "print(repeticiones(lista))\n"
   ]
  },
  {
   "cell_type": "markdown",
   "id": "50732795",
   "metadata": {},
   "source": [
    "## Ejercicio 3\n",
    "\n",
    "La serie de Fibonacci es una conocida serie en la que cada elemento se calcula como la suma de los dos anteriores, empezando por 1 1, es decir:\n",
    "$$1, 1, 2, 3, 5, 8, 13, 21, ...$$\n",
    "\n",
    "Programar una función que calcule el n-ésimo término de la serie de forma recursiva"
   ]
  },
  {
   "cell_type": "code",
   "execution_count": 65,
   "id": "80dfb0a2",
   "metadata": {},
   "outputs": [
    {
     "name": "stdout",
     "output_type": "stream",
     "text": [
      "34\n"
     ]
    }
   ],
   "source": [
    "def fibonancci(n):\n",
    "    if n == 0:\n",
    "        return 0\n",
    "    if n == 1:\n",
    "        return 1\n",
    "    return fibonancci(n-1) + fibonancci(n-2)\n",
    "\n",
    "print(fibonancci(9))"
   ]
  },
  {
   "cell_type": "markdown",
   "id": "6333c40d",
   "metadata": {},
   "source": [
    "## Ejercicio 4.4\n",
    "\n",
    "Dada una lista con listas anidadas en su interior, devolver una lista que no esté anidada."
   ]
  },
  {
   "cell_type": "code",
   "execution_count": 63,
   "id": "25332f91",
   "metadata": {},
   "outputs": [
    {
     "data": {
      "text/plain": [
       "[1, 43, 1, 7, 6, 'uno', 'dos', 'Madrid', 'Tortuga']"
      ]
     },
     "execution_count": 63,
     "metadata": {},
     "output_type": "execute_result"
    }
   ],
   "source": [
    "def aplanarLista(lista):\n",
    "    if lista == []:\n",
    "        return lista\n",
    "    if type(lista[0]) is list:\n",
    "        return aplanarLista(lista[0]) + aplanarLista(lista[1:])\n",
    "    return lista[:1] + aplanarLista(lista[1:])\n",
    "\n",
    "lista = [1, 43, [1,7,6,['uno', 'dos'], 'Madrid'], 'Tortuga']\n",
    "aplanarLista(lista)"
   ]
  },
  {
   "cell_type": "markdown",
   "id": "ed519b16",
   "metadata": {},
   "source": [
    "## Ejercicio 4.5\n",
    "\n",
    "Implementar una función que lleve a cabo el cifrado César de una frase. El cifrado se lleva a cabo de la siguiente manera:\n",
    "\n",
    "+ Para cada letra de la palabra (sin distinguir mayúsculas y minúsculas) obtenemos su orden dentro del alfabeto.\n",
    "+ A ese valor le sumaremos el valor de la *clave* dada por el usuario.\n",
    "+ Sustituiremos la letra original por la que esté en esta nueva posición calculada dentro de nuestro alfabeto."
   ]
  },
  {
   "cell_type": "code",
   "execution_count": 117,
   "id": "afc98071",
   "metadata": {},
   "outputs": [
    {
     "name": "stdout",
     "output_type": "stream",
     "text": [
      "Dm tm ktfyq, cd ky Lymbgy, cd btxn mnlzqd mn pthdqn ybnqcyqld, mn gy ltbgn shdlon ptd uhuìy tm ghcykfn cd knr cd kymyy dm yrshkkdqn, ycyqfy ymshfty, qnbìm ekybn x fykfn bnqqdcnqF\n"
     ]
    }
   ],
   "source": [
    "def cifrado(texto, clave):\n",
    "    cesar = \"\"\n",
    "    for i in texto:\n",
    "        if ord(i) != 32 and ord(i) != 44:\n",
    "            #El codigo ascii mas la clave\n",
    "            codAscii = ord(i)+clave\n",
    "\n",
    "            if ord(i) <= 90:\n",
    "                if(codAscii >= 65 and codAscii <= 90):\n",
    "                    cesar += chr(codAscii)\n",
    "                else:\n",
    "                    cesar += chr((codAscii-90)+65)\n",
    "            else:\n",
    "                if(codAscii >= 97 and codAscii <= 122):\n",
    "                    cesar += chr(codAscii)\n",
    "                else:\n",
    "                    cesar += chr((codAscii-122)+97)\n",
    "\n",
    "        else:\n",
    "            cesar += i\n",
    "\n",
    "    return cesar\n",
    "\n",
    "texto = \"En un lugar, de la Mancha, de cuyo nombre no quiero acordarme, no ha mucho tiempo que vivía un hidalgo de los de lanza en astillero, adarga antigua, rocín flaco y galgo corredor.\"\n",
    "print(cifrado(texto,24))"
   ]
  },
  {
   "cell_type": "markdown",
   "id": "6a7988bf",
   "metadata": {},
   "source": [
    "## Ejercicio 4.6\n",
    "\n",
    "Calcular la desviación estándar de una lista que será nuestra población. La desviación estandar ($\\sigma$) se puede calcular mediante la expresión\n",
    "\n",
    "$$\\sigma^2 = \\frac{\\sum_{i=1}^n{(x-\\bar{x})^2}}{n},$$\n",
    "donde $\\bar{x}$ es la media de la población. Hacerlo utilizando *map* y *reduce*."
   ]
  },
  {
   "cell_type": "code",
   "execution_count": 127,
   "id": "12714772",
   "metadata": {},
   "outputs": [
    {
     "name": "stdout",
     "output_type": "stream",
     "text": [
      "La desviación estándar de esta lista es: 1.87\n"
     ]
    }
   ],
   "source": [
    "from functools import reduce\n",
    "from math import sqrt\n",
    "\n",
    "def calcular(lista):\n",
    "    media = reduce(lambda acu,x: acu + x,lista) / len(lista)\n",
    "\n",
    "    #Elevo al cuadrado la distancia entre la media y el valor\n",
    "    distancia = list(map(lambda x: abs(x-media)**2, lista))\n",
    "    #Sumo la distancia y divido por el numero de elementos\n",
    "    sumDis = reduce(lambda acu,x: acu+x, distancia) / len(lista)\n",
    "\n",
    "    return round(sqrt(sumDis),2)\n",
    "\n",
    "lista = [6,2,3,1]\n",
    "print(\"La desviación estándar de esta lista es: {0}\".format(calcular(lista)))"
   ]
  }
 ],
 "metadata": {
  "kernelspec": {
   "display_name": "Python 3.11.0 64-bit",
   "language": "python",
   "name": "python3"
  },
  "language_info": {
   "codemirror_mode": {
    "name": "ipython",
    "version": 3
   },
   "file_extension": ".py",
   "mimetype": "text/x-python",
   "name": "python",
   "nbconvert_exporter": "python",
   "pygments_lexer": "ipython3",
   "version": "3.11.0 (main, Oct 24 2022, 18:26:48) [MSC v.1933 64 bit (AMD64)]"
  },
  "vscode": {
   "interpreter": {
    "hash": "8788d27cba0b2dbc0718fef4e715449fab30bd59957c04e36cc9c246182e8fe0"
   }
  }
 },
 "nbformat": 4,
 "nbformat_minor": 5
}
